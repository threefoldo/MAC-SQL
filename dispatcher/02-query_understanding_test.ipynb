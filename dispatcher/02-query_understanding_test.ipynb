{
 "cells": [
  {
   "cell_type": "markdown",
   "metadata": {},
   "source": [
    "# Test QueryUnderstandingAgent\n",
    "\n",
    "This notebook tests the QueryUnderstandingAgent functionality."
   ]
  },
  {
   "cell_type": "code",
   "execution_count": 1,
   "metadata": {},
   "outputs": [
    {
     "name": "stdout",
     "output_type": "stream",
     "text": [
      "load json file from /home/norman/work/text-to-sql/MAC-SQL/data/bird/dev_tables.json\n",
      "load json file from /home/norman/work/text-to-sql/MAC-SQL/data/spider/tables.json\n"
     ]
    },
    {
     "name": "stderr",
     "output_type": "stream",
     "text": [
      "/home/norman/anaconda3/envs/macsql/lib/python3.9/site-packages/flaml/__init__.py:20: UserWarning: flaml.automl is not available. Please install flaml[automl] to enable AutoML functionalities.\n",
      "  warnings.warn(\"flaml.automl is not available. Please install flaml[automl] to enable AutoML functionalities.\")\n"
     ]
    }
   ],
   "source": [
    "# Setup imports\n",
    "import sys\n",
    "sys.path.append(\"..\")\n",
    "\n",
    "from dispatcher.query_understanding_agent import query_understanding_agent\n",
    "from dispatcher.tools import read_database_schema_and_records\n",
    "import json"
   ]
  },
  {
   "cell_type": "markdown",
   "metadata": {},
   "source": [
    "## 1. Check Agent Configuration"
   ]
  },
  {
   "cell_type": "code",
   "execution_count": 2,
   "metadata": {},
   "outputs": [
    {
     "name": "stdout",
     "output_type": "stream",
     "text": [
      "Agent name: QueryUnderstandingAgent\n",
      "\n",
      "System message (first 500 chars):\n",
      "You are the QueryUnderstandingAgent. Your role is to understand natural language queries in the context of database schemas, \n",
      "decompose complex queries into simpler sub-queries, and identify entities, attributes, operations, and filters.\n",
      "\n",
      "Your tasks:\n",
      "1. Receive a natural language query and any existing inter_step_data (provided as an XML string).\n",
      "2. Use the 'read_database_schema_and_records' tool to fetch relevant schema information and sample data.\n",
      "   You will receive the tool output as a strin...\n"
     ]
    }
   ],
   "source": [
    "# Verify agent is created\n",
    "print(f\"Agent name: {query_understanding_agent.name}\")\n",
    "print(f\"\\nSystem message (first 500 chars):\\n{query_understanding_agent.system_message[:500]}...\")"
   ]
  },
  {
   "cell_type": "markdown",
   "metadata": {},
   "source": [
    "## 2. Test read_database_schema_and_records Function"
   ]
  },
  {
   "cell_type": "code",
   "execution_count": 3,
   "metadata": {},
   "outputs": [
    {
     "name": "stdout",
     "output_type": "stream",
     "text": [
      "Database ID 'test_db' not found in schema_manager.db2dbjsons\n",
      "Available database IDs: ['debit_card_specializing', 'financial', 'formula_1', 'california_schools', 'card_games']...\n",
      "{\n",
      "  \"error\": \"Database ID 'test_db' not found. Available databases: ['debit_card_specializing', 'financial', 'formula_1', 'california_schools', 'card_games']...\"\n",
      "}\n"
     ]
    }
   ],
   "source": [
    "# First, let's see what databases are available\n",
    "test_result = read_database_schema_and_records(\n",
    "    db_id=\"test_db\",  # This will likely fail and show us available databases\n",
    "    dataset_name=\"bird\"\n",
    ")\n",
    "print(json.dumps(test_result, indent=2))"
   ]
  },
  {
   "cell_type": "code",
   "execution_count": 4,
   "metadata": {},
   "outputs": [
    {
     "name": "stdout",
     "output_type": "stream",
     "text": [
      "Generating schema description for database 'california_schools'...\n",
      "Current directory: /home/norman/work/text-to-sql/MAC-SQL/dispatcher\n",
      "BIRD_DATA_PATH: /home/norman/work/text-to-sql/MAC-SQL/data/bird\n",
      "BIRD_DB_DIRECTORY: /home/norman/work/text-to-sql/MAC-SQL/data/bird/dev_databases\n",
      "Checking database path: /home/norman/work/text-to-sql/MAC-SQL/data/bird/dev_databases/california_schools/california_schools.sqlite, exists: True\n",
      "Current directory: /home/norman/work/text-to-sql/MAC-SQL/dispatcher\n",
      "BIRD_DATA_PATH: /home/norman/work/text-to-sql/MAC-SQL/data/bird\n",
      "BIRD_DB_DIRECTORY: /home/norman/work/text-to-sql/MAC-SQL/data/bird/dev_databases\n",
      "Checking database path: /home/norman/work/text-to-sql/MAC-SQL/data/bird/dev_databases/california_schools/california_schools.sqlite, exists: True\n",
      "Current directory: /home/norman/work/text-to-sql/MAC-SQL/dispatcher\n",
      "BIRD_DATA_PATH: /home/norman/work/text-to-sql/MAC-SQL/data/bird\n",
      "BIRD_DB_DIRECTORY: /home/norman/work/text-to-sql/MAC-SQL/data/bird/dev_databases\n",
      "Checking database path: /home/norman/work/text-to-sql/MAC-SQL/data/bird/dev_databases/california_schools/california_schools.sqlite, exists: True\n",
      "Schema for database 'california_schools':\n",
      "\n",
      "Table: frpm\n",
      "  Columns: ['CDSCode', 'Academic Year', 'County Code', 'District Code', 'School Code', 'County Name', 'District Name', 'School Name', 'District Type', 'School Type', 'Educational Option Type', 'NSLP Provision Status', 'Charter School (Y/N)', 'Charter School Number', 'Charter Funding Type', 'IRC', 'Low Grade', 'High Grade', 'Enrollment (K-12)', 'Free Meal Count (K-12)', 'Percent (%) Eligible Free (K-12)', 'FRPM Count (K-12)', 'Percent (%) Eligible FRPM (K-12)', 'Enrollment (Ages 5-17)', 'Free Meal Count (Ages 5-17)', 'Percent (%) Eligible Free (Ages 5-17)', 'FRPM Count (Ages 5-17)', 'Percent (%) Eligible FRPM (Ages 5-17)', '2013-14 CALPADS Fall 1 Certification Status']\n",
      "  Sample row: {'CDSCode': '01100170109835', 'Academic Year': '2014-2015', 'County Code': '01', 'District Code': 10017, 'School Code': '0109835', 'County Name': 'Alameda', 'District Name': 'Alameda County Office of Education', 'School Name': 'FAME Public Charter', 'District Type': 'County Office of Education (COE)', 'School Type': 'K-12 Schools (Public)', 'Educational Option Type': 'Traditional', 'NSLP Provision Status': None, 'Charter School (Y/N)': 1, 'Charter School Number': '0728', 'Charter Funding Type': 'Directly funded', 'IRC': 1, 'Low Grade': 'K', 'High Grade': '12', 'Enrollment (K-12)': 1087.0, 'Free Meal Count (K-12)': 565.0, 'Percent (%) Eligible Free (K-12)': 0.519779208831647, 'FRPM Count (K-12)': 715.0, 'Percent (%) Eligible FRPM (K-12)': 0.657773689052438, 'Enrollment (Ages 5-17)': 1070.0, 'Free Meal Count (Ages 5-17)': 553.0, 'Percent (%) Eligible Free (Ages 5-17)': 0.516822429906542, 'FRPM Count (Ages 5-17)': 702.0, 'Percent (%) Eligible FRPM (Ages 5-17)': 0.65607476635514, '2013-14 CALPADS Fall 1 Certification Status': 1}\n",
      "\n",
      "Table: satscores\n",
      "  Columns: ['cds', 'rtype', 'sname', 'dname', 'cname', 'enroll12', 'NumTstTakr', 'AvgScrRead', 'AvgScrMath', 'AvgScrWrite', 'NumGE1500']\n",
      "  Sample row: {'cds': '1100170000000', 'rtype': 'D', 'sname': None, 'dname': 'Alameda County Office of Education', 'cname': 'Alameda', 'enroll12': 398, 'NumTstTakr': 88, 'AvgScrRead': 418, 'AvgScrMath': 418, 'AvgScrWrite': 417, 'NumGE1500': 14}\n",
      "\n",
      "Table: schools\n",
      "  Columns: ['CDSCode', 'NCESDist', 'NCESSchool', 'StatusType', 'County', 'District', 'School', 'Street', 'StreetAbr', 'City', 'Zip', 'State', 'MailStreet', 'MailStrAbr', 'MailCity', 'MailZip', 'MailState', 'Phone', 'Ext', 'Website', 'OpenDate', 'ClosedDate', 'Charter', 'CharterNum', 'FundingType', 'DOC', 'DOCType', 'SOC', 'SOCType', 'EdOpsCode', 'EdOpsName', 'EILCode', 'EILName', 'GSoffered', 'GSserved', 'Virtual', 'Magnet', 'Latitude', 'Longitude', 'AdmFName1', 'AdmLName1', 'AdmEmail1', 'AdmFName2', 'AdmLName2', 'AdmEmail2', 'AdmFName3', 'AdmLName3', 'AdmEmail3', 'LastUpdate']\n",
      "  Sample row: {'CDSCode': '01100170000000', 'NCESDist': '0691051', 'NCESSchool': None, 'StatusType': 'Active', 'County': 'Alameda', 'District': 'Alameda County Office of Education', 'School': None, 'Street': '313 West Winton Avenue', 'StreetAbr': '313 West Winton Ave.', 'City': 'Hayward', 'Zip': '94544-1136', 'State': 'CA', 'MailStreet': '313 West Winton Avenue', 'MailStrAbr': '313 West Winton Ave.', 'MailCity': 'Hayward', 'MailZip': '94544-1136', 'MailState': 'CA', 'Phone': '(510) 887-0152', 'Ext': None, 'Website': 'www.acoe.org', 'OpenDate': None, 'ClosedDate': None, 'Charter': None, 'CharterNum': None, 'FundingType': None, 'DOC': '00', 'DOCType': 'County Office of Education (COE)', 'SOC': None, 'SOCType': None, 'EdOpsCode': None, 'EdOpsName': None, 'EILCode': None, 'EILName': None, 'GSoffered': None, 'GSserved': None, 'Virtual': None, 'Magnet': None, 'Latitude': 37.658212, 'Longitude': -122.09713, 'AdmFName1': 'L Karen', 'AdmLName1': 'Monroe', 'AdmEmail1': 'lkmonroe@acoe.org', 'AdmFName2': None, 'AdmLName2': None, 'AdmEmail2': None, 'AdmFName3': None, 'AdmLName3': None, 'AdmEmail3': None, 'LastUpdate': '2015-06-23'}\n"
     ]
    }
   ],
   "source": [
    "# Test with a real database (use one from the error message above)\n",
    "# Common BIRD databases: california_schools, card_games, codebase_community, debit_card_specializing\n",
    "db_id = \"california_schools\"  # Replace with actual DB ID if needed\n",
    "\n",
    "schema_result = read_database_schema_and_records(\n",
    "    db_id=db_id,\n",
    "    dataset_name=\"bird\",\n",
    "    include_sample_data=True\n",
    ")\n",
    "\n",
    "# Display the result\n",
    "if \"error\" not in schema_result:\n",
    "    print(f\"Schema for database '{db_id}':\")\n",
    "    for table_name, table_info in schema_result.items():\n",
    "        print(f\"\\nTable: {table_name}\")\n",
    "        print(f\"  Columns: {list(table_info['columns'].keys())}\")\n",
    "        if 'sample_data' in table_info and table_info['sample_data']:\n",
    "            print(f\"  Sample row: {table_info['sample_data'][0]}\")\n",
    "else:\n",
    "    print(schema_result)"
   ]
  },
  {
   "cell_type": "code",
   "execution_count": 10,
   "metadata": {},
   "outputs": [],
   "source": [
    "# Create a user proxy agent and test function\n",
    "import autogen\n",
    "import re\n",
    "\n",
    "def parse_agent_response_robust(response_str):\n",
    "    \"\"\"Parse XML response from agent using regex for partial blocks\"\"\"\n",
    "    result = {\n",
    "        \"summary\": \"\",\n",
    "        \"entities\": [],\n",
    "        \"attributes\": [],\n",
    "        \"operations\": [],\n",
    "        \"filters\": [],\n",
    "        \"plan_items\": [],\n",
    "        \"tables\": []\n",
    "    }\n",
    "    \n",
    "    # Extract summary using regex\n",
    "    summary_match = re.search(r'<summaryOfUnderstanding>(.*?)</summaryOfUnderstanding>', response_str, re.DOTALL)\n",
    "    if summary_match:\n",
    "        result[\"summary\"] = summary_match.group(1).strip()\n",
    "    \n",
    "    # Extract entities\n",
    "    entity_pattern = r'<entity>.*?<tableName>(.*?)</tableName>.*?<purpose>(.*?)</purpose>.*?</entity>'\n",
    "    entities = re.findall(entity_pattern, response_str, re.DOTALL)\n",
    "    for table, purpose in entities:\n",
    "        result[\"entities\"].append({\"table\": table.strip(), \"purpose\": purpose.strip()})\n",
    "    \n",
    "    # Extract attributes \n",
    "    attr_pattern = r'<attribute>.*?<columnName>(.*?)</columnName>.*?<tableName>(.*?)</tableName>.*?<operation>(.*?)</operation>.*?</attribute>'\n",
    "    attributes = re.findall(attr_pattern, response_str, re.DOTALL)\n",
    "    for col, table, op in attributes:\n",
    "        result[\"attributes\"].append({\"column\": col.strip(), \"table\": table.strip(), \"operation\": op.strip()})\n",
    "    \n",
    "    # Extract operations\n",
    "    op_pattern = r'<operation>.*?<type>(.*?)</type>.*?<description>(.*?)</description>.*?</operation>'\n",
    "    operations = re.findall(op_pattern, response_str, re.DOTALL)\n",
    "    for op_type, desc in operations:\n",
    "        result[\"operations\"].append({\"type\": op_type.strip(), \"description\": desc.strip()})\n",
    "    \n",
    "    # Extract filters\n",
    "    filter_pattern = r'<filter>.*?<attribute>(.*?)</attribute>.*?<condition>(.*?)</condition>.*?<value>(.*?)</value>.*?</filter>'\n",
    "    filters = re.findall(filter_pattern, response_str, re.DOTALL)\n",
    "    for attr, cond, val in filters:\n",
    "        result[\"filters\"].append({\"attribute\": attr.strip(), \"condition\": cond.strip(), \"value\": val.strip()})\n",
    "    \n",
    "    # Extract plan items\n",
    "    plan_pattern = r'<item>.*?<itemId>(.*?)</itemId>.*?<description>(.*?)</description>'\n",
    "    plans = re.findall(plan_pattern, response_str, re.DOTALL)\n",
    "    for item_id, desc in plans:\n",
    "        result[\"plan_items\"].append({\"id\": item_id.strip(), \"description\": desc.strip()})\n",
    "    \n",
    "    # Extract tables\n",
    "    table_pattern = r'<table>.*?<n>(.*?)</n>'\n",
    "    tables = re.findall(table_pattern, response_str, re.DOTALL)\n",
    "    for table_name in tables:\n",
    "        result[\"tables\"].append({\"name\": table_name.strip()})\n",
    "    \n",
    "    return result\n",
    "\n",
    "# Create user proxy\n",
    "user_proxy = autogen.UserProxyAgent(\n",
    "    name=\"User\",\n",
    "    human_input_mode=\"NEVER\",\n",
    "    max_consecutive_auto_reply=0,\n",
    "    code_execution_config=False,\n",
    ")"
   ]
  },
  {
   "cell_type": "code",
   "execution_count": 16,
   "metadata": {},
   "outputs": [
    {
     "name": "stdout",
     "output_type": "stream",
     "text": [
      "--- Initiating Chat with Query: 'List all schools in California' for DB: 'california_schools' ---\n",
      "\u001b[33mUser\u001b[0m (to QueryUnderstandingAgent):\n",
      "\n",
      "Here is the task:\n",
      "Database ID: california_schools\n",
      "Natural Language Query: \"List all schools in California\"\n",
      "Existing inter_step_data: <inter_step_data></inter_step_data>\n",
      "\n",
      "\n",
      "--------------------------------------------------------------------------------\n",
      "\u001b[33mQueryUnderstandingAgent\u001b[0m (to User):\n",
      "\n",
      "\u001b[32m***** Suggested tool call (call_BELXI7xgPLUpT5K3mDNchv7G): read_database_schema_and_records *****\u001b[0m\n",
      "Arguments: \n",
      "{\"db_id\":\"california_schools\",\"include_sample_data\":true}\n",
      "\u001b[32m*************************************************************************************************\u001b[0m\n",
      "\n",
      "--------------------------------------------------------------------------------\n"
     ]
    }
   ],
   "source": [
    "db_id_to_test = \"california_schools\"\n",
    "natural_language_query = \"List all schools in California\"\n",
    "# Include placeholder for inter_step_data as per system message\n",
    "initial_message = f\"\"\"Here is the task:\n",
    "Database ID: {db_id_to_test}\n",
    "Natural Language Query: \"{natural_language_query}\"\n",
    "Existing inter_step_data: <inter_step_data></inter_step_data>\n",
    "\"\"\"\n",
    "\n",
    "print(f\"--- Initiating Chat with Query: '{natural_language_query}' for DB: '{db_id_to_test}' ---\")\n",
    "\n",
    "# Initiate chat\n",
    "# The UserProxyAgent sends the initial message to the QueryUnderstandingAgent.\n",
    "chat_results = user_proxy.initiate_chat(\n",
    "    recipient=query_understanding_agent,\n",
    "    message=initial_message,\n",
    "    max_turns=3 # Should be enough: 1. User->Assistant, 2. Assistant (calls tool, processes, replies)->User\n",
    ")"
   ]
  },
  {
   "cell_type": "code",
   "execution_count": 14,
   "metadata": {},
   "outputs": [
    {
     "name": "stdout",
     "output_type": "stream",
     "text": [
      "\n",
      "--- Chat History ---\n",
      "Sender: assistant, Content:\n",
      "Here is the task:\n",
      "Database ID: california_schools\n",
      "Natural Language Query: \"List all schools in California\"\n",
      "Existing inter_step_data: <inter_step_data></inter_step_data>\n",
      "\n",
      "--------------------\n",
      "Sender: assistant, Content:\n",
      "None\n",
      "--------------------\n"
     ]
    }
   ],
   "source": [
    "# --- Analyse Results ---\n",
    "print(\"\\n--- Chat History ---\")\n",
    "for msg in chat_results.chat_history:\n",
    "    print(f\"Sender: {msg['role']}, Content:\\n{msg['content']}\\n--------------------\")\n",
    "\n",
    "# The last message from the assistant should be the XML response\n",
    "# (Adjust index if there are more messages, e.g. if user_proxy replies with TERMINATE)\n",
    "final_agent_reply = None\n",
    "if chat_results.chat_history and len(chat_results.chat_history) > 1:\n",
    "    # Typically, user_proxy sends first, assistant replies second (which includes tool call and final response)\n",
    "    # If UserProxyAgent is very basic and doesn't reply after assistant, the last message is assistant's.\n",
    "    # If Assistant's message is a tool_call, then next one is tool_response, then final assistant message.\n",
    "    # AutoGen groups these: the textual response from assistant after tool use is its \"turn\".\n",
    "    \n",
    "    # We are looking for the last message from the QueryUnderstandingAgent that is NOT a tool call\n",
    "    for i in range(len(chat_results.chat_history) - 1, -1, -1):\n",
    "        msg = chat_results.chat_history[i]\n",
    "        if msg['role'].lower() == query_understanding_agent.name.lower() and not msg.get('tool_calls'):\n",
    "            final_agent_reply = msg['content']\n",
    "            break\n",
    "    if not final_agent_reply and chat_results.summary: # Fallback to summary if available\n",
    "        final_agent_reply = chat_results.summary"
   ]
  },
  {
   "cell_type": "code",
   "execution_count": null,
   "metadata": {},
   "outputs": [],
   "source": []
  },
  {
   "cell_type": "code",
   "execution_count": 11,
   "metadata": {},
   "outputs": [
    {
     "name": "stdout",
     "output_type": "stream",
     "text": [
      "\u001b[33mUser\u001b[0m (to QueryUnderstandingAgent):\n",
      "\n",
      "Please analyze this query: 'List all schools in California'\n",
      "\n",
      "Database ID: california_schools  \n",
      "Dataset: bird\n",
      "\n",
      "Use the read_database_schema_and_records function to get the schema information with sample data.\n",
      "\n",
      "\n",
      "--------------------------------------------------------------------------------\n",
      "\u001b[33mQueryUnderstandingAgent\u001b[0m (to User):\n",
      "\n",
      "\u001b[32m***** Suggested tool call (call_5xUrH5fINQahTMzFKap1obMg): read_database_schema_and_records *****\u001b[0m\n",
      "Arguments: \n",
      "{\"db_id\":\"california_schools\",\"dataset_name\":\"bird\",\"include_sample_data\":true}\n",
      "\u001b[32m*************************************************************************************************\u001b[0m\n",
      "\n",
      "--------------------------------------------------------------------------------\n",
      "Agent Response (first 1000 chars):\n"
     ]
    },
    {
     "ename": "TypeError",
     "evalue": "'NoneType' object is not subscriptable",
     "output_type": "error",
     "traceback": [
      "\u001b[0;31m---------------------------------------------------------------------------\u001b[0m",
      "\u001b[0;31mTypeError\u001b[0m                                 Traceback (most recent call last)",
      "Cell \u001b[0;32mIn[11], line 16\u001b[0m\n\u001b[1;32m     14\u001b[0m last_message \u001b[38;5;241m=\u001b[39m user_proxy\u001b[38;5;241m.\u001b[39mlast_message(query_understanding_agent)\n\u001b[1;32m     15\u001b[0m \u001b[38;5;28mprint\u001b[39m(\u001b[38;5;124m\"\u001b[39m\u001b[38;5;124mAgent Response (first 1000 chars):\u001b[39m\u001b[38;5;124m\"\u001b[39m)\n\u001b[0;32m---> 16\u001b[0m \u001b[38;5;28mprint\u001b[39m(\u001b[43mlast_message\u001b[49m\u001b[43m[\u001b[49m\u001b[38;5;124;43m\"\u001b[39;49m\u001b[38;5;124;43mcontent\u001b[39;49m\u001b[38;5;124;43m\"\u001b[39;49m\u001b[43m]\u001b[49m\u001b[43m[\u001b[49m\u001b[43m:\u001b[49m\u001b[38;5;241;43m1000\u001b[39;49m\u001b[43m]\u001b[49m)\n\u001b[1;32m     17\u001b[0m \u001b[38;5;28mprint\u001b[39m(\u001b[38;5;124m\"\u001b[39m\u001b[38;5;130;01m\\n\u001b[39;00m\u001b[38;5;124m...\u001b[39m\u001b[38;5;124m\"\u001b[39m)\n\u001b[1;32m     19\u001b[0m \u001b[38;5;66;03m# Parse the response\u001b[39;00m\n",
      "\u001b[0;31mTypeError\u001b[0m: 'NoneType' object is not subscriptable"
     ]
    }
   ],
   "source": [
    "# Test with a simple query\n",
    "simple_query_message = \"\"\"Please analyze this query: 'List all schools in California'\n",
    "\n",
    "Database ID: california_schools  \n",
    "Dataset: bird\n",
    "\n",
    "Use the read_database_schema_and_records function to get the schema information with sample data.\n",
    "\"\"\"\n",
    "\n",
    "# Send the query to the agent\n",
    "user_proxy.send(simple_query_message, query_understanding_agent, request_reply=True)\n",
    "\n",
    "# Get the last message from the agent\n",
    "last_message = user_proxy.last_message(query_understanding_agent)\n",
    "print(\"Agent Response (first 1000 chars):\")\n",
    "print(last_message[\"content\"][:1000])\n",
    "print(\"\\n...\")\n",
    "\n",
    "# Parse the response\n",
    "parsed_response = parse_agent_response_robust(last_message[\"content\"])\n",
    "print(\"\\n\\nParsed Response:\")\n",
    "print(json.dumps(parsed_response, indent=2))"
   ]
  },
  {
   "cell_type": "code",
   "execution_count": 12,
   "metadata": {},
   "outputs": [
    {
     "data": {
      "text/plain": [
       "{'tool_calls': [{'id': 'call_5xUrH5fINQahTMzFKap1obMg',\n",
       "   'function': {'arguments': '{\"db_id\":\"california_schools\",\"dataset_name\":\"bird\",\"include_sample_data\":true}',\n",
       "    'name': 'read_database_schema_and_records'},\n",
       "   'type': 'function'}],\n",
       " 'content': None,\n",
       " 'role': 'assistant'}"
      ]
     },
     "execution_count": 12,
     "metadata": {},
     "output_type": "execute_result"
    }
   ],
   "source": [
    "last_message"
   ]
  },
  {
   "cell_type": "code",
   "execution_count": null,
   "metadata": {},
   "outputs": [],
   "source": [
    "# Test with a complex query\n",
    "complex_query_message = \"\"\"Please analyze this complex query: \n",
    "'What is the average FRPM Count per school for schools with enrollment greater than 1000 students, grouped by county, and only showing counties with more than 5 such schools?'\n",
    "\n",
    "Database ID: california_schools\n",
    "Dataset: bird\n",
    "\n",
    "Use the read_database_schema_and_records function to get the schema information.\n",
    "This is a complex query that needs to be decomposed into multiple steps.\n",
    "\"\"\"\n",
    "\n",
    "# Send the query to the agent\n",
    "user_proxy.send(complex_query_message, query_understanding_agent, request_reply=True)\n",
    "\n",
    "# Get the response\n",
    "complex_response = user_proxy.last_message(query_understanding_agent)\n",
    "print(\"Agent Response for Complex Query (first 1500 chars):\")\n",
    "print(complex_response[\"content\"][:1500])\n",
    "print(\"\\n...\")\n",
    "\n",
    "# Parse the complex query response\n",
    "parsed_complex = parse_agent_response_robust(complex_response[\"content\"])\n",
    "print(\"\\n\\nParsed Complex Query Response:\")\n",
    "print(f\"Summary: {parsed_complex.get('summary', 'N/A')}\")\n",
    "print(f\"\\nNumber of plan steps: {len(parsed_complex.get('plan_items', []))}\")\n",
    "print(\"\\nPlan Steps:\")\n",
    "for item in parsed_complex.get('plan_items', []):\n",
    "    print(f\"  {item['id']}: {item['description']}\")\n",
    "print(f\"\\nEntities involved: {[e['table'] for e in parsed_complex.get('entities', [])]}\")\n",
    "print(f\"Operations: {[op['type'] for op in parsed_complex.get('operations', [])]}\")"
   ]
  },
  {
   "cell_type": "code",
   "execution_count": null,
   "metadata": {},
   "outputs": [],
   "source": [
    "# Test with a medium complexity query\n",
    "medium_query_message = \"\"\"Please analyze this query: \n",
    "'Show the total enrollment for schools in each county'\n",
    "\n",
    "Database ID: california_schools\n",
    "Dataset: bird\n",
    "\n",
    "Use the read_database_schema_and_records function to get the schema information.\n",
    "\"\"\"\n",
    "\n",
    "# Send the query to the agent\n",
    "user_proxy.send(medium_query_message, query_understanding_agent, request_reply=True)\n",
    "\n",
    "# Get and parse the response\n",
    "medium_response = user_proxy.last_message(query_understanding_agent)\n",
    "parsed_medium = parse_agent_response_robust(medium_response[\"content\"])\n",
    "\n",
    "print(\"Medium Query Analysis:\")\n",
    "print(f\"Summary: {parsed_medium.get('summary', 'N/A')}\")\n",
    "print(f\"Number of plan steps: {len(parsed_medium.get('plan_items', []))}\")\n",
    "print(f\"Operations: {[op['type'] for op in parsed_medium.get('operations', [])]}\")\n",
    "print(\"\\nAttributes:\")\n",
    "for attr in parsed_medium.get('attributes', []):\n",
    "    print(f\"  {attr['column']} from {attr['table']} - {attr['operation']}\")"
   ]
  }
 ],
 "metadata": {
  "kernelspec": {
   "display_name": "Python 3 (ipykernel)",
   "language": "python",
   "name": "python3"
  },
  "language_info": {
   "codemirror_mode": {
    "name": "ipython",
    "version": 3
   },
   "file_extension": ".py",
   "mimetype": "text/x-python",
   "name": "python",
   "nbconvert_exporter": "python",
   "pygments_lexer": "ipython3",
   "version": "3.9.21"
  }
 },
 "nbformat": 4,
 "nbformat_minor": 4
}
