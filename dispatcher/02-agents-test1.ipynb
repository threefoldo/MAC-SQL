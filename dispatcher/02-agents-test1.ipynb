{
 "cells": [
  {
   "cell_type": "code",
   "execution_count": null,
   "id": "8f78349f-2842-4c46-ad5d-3d1de601fa52",
   "metadata": {},
   "outputs": [],
   "source": [
    "\n",
    "# --- UserProxyAgent (same as before) ---\n",
    "user_proxy = autogen.UserProxyAgent(\n",
    "    name=\"UserProxy\",\n",
    "    human_input_mode=\"NEVER\",\n",
    "    max_consecutive_auto_reply=10,\n",
    "    is_termination_msg=lambda x: x.get(\"content\", \"\").rstrip().endswith(\"TERMINATE\") or \\\n",
    "                                 \"<overall_status>COMPLETED_SUCCESSFULLY</overall_status>\" in x.get(\"content\",\"\") or \\\n",
    "                                 \"<overall_status>FAILED\" in x.get(\"content\",\"\"), # Check for XML status\n",
    "    code_execution_config=False,\n",
    "    llm_config=llm_config,\n",
    "    system_message=\"You are a user proxy. You will initiate the request and receive the final result or error message as XML.\"\n",
    ")\n",
    "\n",
    "# Register tools (same as before)\n",
    "for agent in [query_understanding_agent, sql_generation_agent, sql_validation_agent]:\n",
    "    agent.register_function(\n",
    "        function_map={\n",
    "            \"read_database_schema_and_records\": read_database_schema_and_records,\n",
    "            \"execute_sql_and_return_output\": execute_sql_and_return_output,\n",
    "        }\n",
    "    )"
   ]
  }
 ],
 "metadata": {
  "kernelspec": {
   "display_name": "Python 3 (ipykernel)",
   "language": "python",
   "name": "python3"
  },
  "language_info": {
   "codemirror_mode": {
    "name": "ipython",
    "version": 3
   },
   "file_extension": ".py",
   "mimetype": "text/x-python",
   "name": "python",
   "nbconvert_exporter": "python",
   "pygments_lexer": "ipython3",
   "version": "3.9.21"
  }
 },
 "nbformat": 4,
 "nbformat_minor": 5
}
