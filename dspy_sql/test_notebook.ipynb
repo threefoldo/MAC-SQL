{
 "cells": [
  {
   "cell_type": "markdown",
   "metadata": {},
   "source": [
    "# DSPy Text-to-SQL Test Notebook\n",
    "\n",
    "This notebook demonstrates how to use the DSPy implementation of the Text-to-SQL system. It provides a comprehensive test of the SchemaManager, the individual components, and the complete Text-to-SQL pipeline."
   ]
  },
  {
   "cell_type": "markdown",
   "metadata": {},
   "source": [
    "## 1. Setup and Environment Configuration"
   ]
  },
  {
   "cell_type": "code",
   "execution_count": 1,
   "metadata": {},
   "outputs": [
    {
     "name": "stdout",
     "output_type": "stream",
     "text": [
      "Python version: 3.9.21 (main, Dec 11 2024, 16:24:11) \n",
      "[GCC 11.2.0]\n",
      "Current working directory: /home/norman/work/text-to-sql/MAC-SQL/dspy_sql\n"
     ]
    }
   ],
   "source": [
    "import os\n",
    "import sys\n",
    "import logging\n",
    "import json\n",
    "import time\n",
    "from pprint import pprint\n",
    "\n",
    "# Add parent directory to path for imports\n",
    "sys.path.append(os.path.abspath('..'))\n",
    "\n",
    "# Load environment variables (for API keys)\n",
    "from dotenv import load_dotenv\n",
    "load_dotenv()\n",
    "\n",
    "# Set up logging\n",
    "logging.basicConfig(\n",
    "    level=logging.INFO,\n",
    "    format='%(asctime)s - %(name)s - %(levelname)s - %(message)s'\n",
    ")\n",
    "logger = logging.getLogger(__name__)\n",
    "\n",
    "print(\"Python version:\", sys.version)\n",
    "print(\"Current working directory:\", os.getcwd())"
   ]
  },
  {
   "cell_type": "markdown",
   "metadata": {},
   "source": [
    "## 2. Import Dependencies and Configure DSPy"
   ]
  },
  {
   "cell_type": "code",
   "execution_count": 2,
   "metadata": {},
   "outputs": [
    {
     "name": "stderr",
     "output_type": "stream",
     "text": [
      "2025-05-10 22:32:39,916 - httpx - INFO - HTTP Request: GET https://raw.githubusercontent.com/BerriAI/litellm/main/model_prices_and_context_window.json \"HTTP/1.1 200 OK\"\n"
     ]
    },
    {
     "name": "stdout",
     "output_type": "stream",
     "text": [
      "DSPy version: 2.6.23\n",
      "✅ GOOGLE_API_KEY is set\n",
      "✅ Successfully created Gemini LM instance\n"
     ]
    }
   ],
   "source": [
    "# Import necessary modules\n",
    "import sqlite3\n",
    "import dspy\n",
    "from core.utils import load_json_file\n",
    "\n",
    "# Import our system components\n",
    "from schema_manager import SchemaManager\n",
    "from models import create_gemini_lm, GeminiProLM\n",
    "from agents import SchemaExtractor, SqlDecomposer, SqlValidator\n",
    "from text_to_sql import DSPyTextToSQL\n",
    "\n",
    "# Verify DSPy installation\n",
    "print(\"DSPy version:\", dspy.__version__)\n",
    "\n",
    "# Check if API key is set for Gemini\n",
    "GOOGLE_API_KEY = os.getenv(\"GOOGLE_API_KEY\")\n",
    "if GOOGLE_API_KEY:\n",
    "    print(\"✅ GOOGLE_API_KEY is set\")\n",
    "else:\n",
    "    print(\"❌ GOOGLE_API_KEY is not set, LLM functionality will be limited\")\n",
    "\n",
    "# Create a language model instance to test configuration\n",
    "try:\n",
    "    lm = create_gemini_lm()\n",
    "    print(\"✅ Successfully created Gemini LM instance\")\n",
    "except Exception as e:\n",
    "    print(f\"❌ Error creating Gemini LM instance: {e}\")"
   ]
  },
  {
   "cell_type": "markdown",
   "metadata": {},
   "source": [
    "## 3. SchemaManager Testing"
   ]
  },
  {
   "cell_type": "code",
   "execution_count": 3,
   "metadata": {},
   "outputs": [
    {
     "name": "stdout",
     "output_type": "stream",
     "text": [
      "Checking file paths and database structure...\n",
      "✅ Found data path: ../data/bird\n",
      "✅ Found database directory: ../data/bird/dev_databases\n",
      "✅ Found tables.json at ../data/bird/dev_tables.json\n",
      "load json file from ../data/bird/dev_tables.json\n",
      "Number of database entries in tables.json: 11\n",
      "Sample database IDs: ['debit_card_specializing', 'financial', 'formula_1', 'california_schools', 'card_games']\n"
     ]
    }
   ],
   "source": [
    "# Define paths for the database and schema files\n",
    "DATA_PATH = \"../data/bird\"  # Path to the BIRD dataset\n",
    "DEV_DB_DIRECTORY = os.path.join(DATA_PATH, \"dev_databases\")  # Database files are here\n",
    "TABLES_JSON_PATH = os.path.join(DATA_PATH, \"dev_tables.json\")  # Path to tables.json\n",
    "\n",
    "# Verify that the required files and directories exist\n",
    "print(\"Checking file paths and database structure...\")\n",
    "if os.path.exists(DATA_PATH):\n",
    "    print(f\"✅ Found data path: {DATA_PATH}\")\n",
    "else:\n",
    "    print(f\"❌ Data path not found: {DATA_PATH}\")\n",
    "    \n",
    "if os.path.exists(DEV_DB_DIRECTORY):\n",
    "    print(f\"✅ Found database directory: {DEV_DB_DIRECTORY}\")\n",
    "else:\n",
    "    print(f\"❌ Database directory not found: {DEV_DB_DIRECTORY}\")\n",
    "    \n",
    "if os.path.exists(TABLES_JSON_PATH):\n",
    "    print(f\"✅ Found tables.json at {TABLES_JSON_PATH}\")\n",
    "else:\n",
    "    print(f\"❌ tables.json not found at {TABLES_JSON_PATH}\")\n",
    "    \n",
    "# Check the number of database entries in tables.json\n",
    "try:\n",
    "    tables_data = load_json_file(TABLES_JSON_PATH)\n",
    "    print(f\"Number of database entries in tables.json: {len(tables_data)}\")\n",
    "    # Display some sample database IDs\n",
    "    sample_db_ids = [entry[\"db_id\"] for entry in tables_data[:5]]\n",
    "    print(f\"Sample database IDs: {sample_db_ids}\")\n",
    "except Exception as e:\n",
    "    print(f\"❌ Error loading tables.json: {e}\")"
   ]
  },
  {
   "cell_type": "code",
   "execution_count": 4,
   "metadata": {},
   "outputs": [
    {
     "name": "stdout",
     "output_type": "stream",
     "text": [
      "load json file from ../data/bird/dev_tables.json\n",
      "✅ SchemaManager initialized successfully\n",
      "Number of database schemas loaded: 11\n",
      "Sample database IDs: ['debit_card_specializing', 'financial', 'formula_1', 'california_schools', 'card_games']\n",
      "Initial cache size (db2infos): 0\n"
     ]
    }
   ],
   "source": [
    "# Initialize the SchemaManager with the correct path to the dev_databases directory\n",
    "try:\n",
    "    # NOTE: We use DEV_DB_DIRECTORY as data_path to correctly locate the SQLite files\n",
    "    schema_manager = SchemaManager(DEV_DB_DIRECTORY, TABLES_JSON_PATH)\n",
    "    print(\"✅ SchemaManager initialized successfully\")\n",
    "    \n",
    "    # Print the number of database schemas loaded\n",
    "    print(f\"Number of database schemas loaded: {len(schema_manager.db2dbjsons)}\")\n",
    "    \n",
    "    # Get the list of database IDs\n",
    "    db_ids = list(schema_manager.db2dbjsons.keys())\n",
    "    print(f\"Sample database IDs: {db_ids[:5] if len(db_ids) >= 5 else db_ids}\")\n",
    "    \n",
    "    # Verify that the cache is initially empty\n",
    "    print(f\"Initial cache size (db2infos): {len(schema_manager.db2infos)}\")\n",
    "except Exception as e:\n",
    "    print(f\"❌ Error initializing SchemaManager: {e}\")"
   ]
  },
  {
   "cell_type": "code",
   "execution_count": 5,
   "metadata": {},
   "outputs": [
    {
     "name": "stdout",
     "output_type": "stream",
     "text": [
      "Testing database complexity analysis...\n",
      "\n",
      "Database: debit_card_specializing\n",
      "  Tables: 5\n",
      "  Total columns: 21\n",
      "  Average columns per table: 4\n",
      "  Complexity: Simple, no pruning needed\n",
      "\n",
      "Database: financial\n",
      "  Tables: 8\n",
      "  Total columns: 55\n",
      "  Average columns per table: 6\n",
      "  Complexity: Complex, pruning needed\n",
      "\n",
      "Database: formula_1\n",
      "  Tables: 13\n",
      "  Total columns: 94\n",
      "  Average columns per table: 7\n",
      "  Complexity: Complex, pruning needed\n"
     ]
    }
   ],
   "source": [
    "# Test database complexity analysis\n",
    "if len(db_ids) > 0:\n",
    "    print(\"Testing database complexity analysis...\")\n",
    "    \n",
    "    # Test on first 3 databases or all if less than 3\n",
    "    test_dbs = db_ids[:3] if len(db_ids) >= 3 else db_ids\n",
    "    \n",
    "    for db_id in test_dbs:\n",
    "        try:\n",
    "            db_dict = schema_manager.db2dbjsons[db_id]\n",
    "            avg_column_count = db_dict.get('avg_column_count', 0)\n",
    "            total_column_count = db_dict.get('total_column_count', 0)\n",
    "            table_count = db_dict.get('table_count', 0)\n",
    "            \n",
    "            need_prune = schema_manager.is_need_prune(db_id)\n",
    "            \n",
    "            print(f\"\\nDatabase: {db_id}\")\n",
    "            print(f\"  Tables: {table_count}\")\n",
    "            print(f\"  Total columns: {total_column_count}\")\n",
    "            print(f\"  Average columns per table: {avg_column_count}\")\n",
    "            print(f\"  Complexity: {'Complex, pruning needed' if need_prune else 'Simple, no pruning needed'}\")\n",
    "        except Exception as e:\n",
    "            print(f\"❌ Error analyzing {db_id}: {e}\")\n",
    "else:\n",
    "    print(\"No database IDs available for testing\")"
   ]
  },
  {
   "cell_type": "code",
   "execution_count": 6,
   "metadata": {},
   "outputs": [
    {
     "name": "stdout",
     "output_type": "stream",
     "text": [
      "Testing schema retrieval with database ID: debit_card_specializing\n",
      "\n",
      "Tables in schema: 5\n",
      "\n",
      "Table Details:\n",
      "  - customers: 3 columns\n",
      "    Sample columns: ['CustomerID', 'Segment', 'Currency']...\n",
      "  - gasstations: 4 columns\n",
      "    Sample columns: ['GasStationID', 'ChainID', 'Country']...\n",
      "  - products: 2 columns\n",
      "    Sample columns: ['ProductID', 'Description']...\n",
      "  - transactions_1k: 9 columns\n",
      "    Sample columns: ['TransactionID', 'Date', 'Time']...\n",
      "  - yearmonth: 3 columns\n",
      "    Sample columns: ['CustomerID', 'Date', 'Consumption']...\n",
      "\n",
      "Foreign Key Count: 1\n",
      "Foreign key:\n",
      "  yearmonth.`CustomerID` = customers.`CustomerID`\n",
      "\n",
      "Schema String Preview (300 chars of 1104 total):\n",
      "# Table: customers\n",
      "[\n",
      "  (CustomerID, CustomerID.),\n",
      "  (Segment, client segment. Value examples: ['SME', 'LAM', 'KAM'].),\n",
      "  (Currency, Currency. Value examples: ['CZK', 'EUR'].)\n",
      "]\n",
      "# Table: gasstations\n",
      "[\n",
      "  (GasStationID, Gas Station ID.),\n",
      "  (ChainID, Chain ID.),\n",
      "  (Country, Country. Value examples: ['CZ...\n",
      "\n",
      "Cache status - db2infos contains debit_card_specializing: True\n"
     ]
    }
   ],
   "source": [
    "# Test retrieving schema for a simple database\n",
    "if len(db_ids) > 0:\n",
    "    # Find a simple database that doesn't need pruning\n",
    "    simple_db = None\n",
    "    for db_id in db_ids:\n",
    "        if not schema_manager.is_need_prune(db_id):\n",
    "            simple_db = db_id\n",
    "            break\n",
    "    \n",
    "    if simple_db:\n",
    "        print(f\"Testing schema retrieval with database ID: {simple_db}\")\n",
    "        \n",
    "        try:\n",
    "            # Get the database schema\n",
    "            schema_info = schema_manager.get_db_schema(simple_db)\n",
    "            \n",
    "            # Print some statistics about the schema\n",
    "            chosen_columns = schema_info[\"chosen_columns\"]\n",
    "            print(f\"\\nTables in schema: {len(chosen_columns)}\")\n",
    "            \n",
    "            # Print table names and column counts\n",
    "            print(\"\\nTable Details:\")\n",
    "            for table, columns in chosen_columns.items():\n",
    "                print(f\"  - {table}: {len(columns)} columns\")\n",
    "                # Print first few columns\n",
    "                if len(columns) > 0:\n",
    "                    print(f\"    Sample columns: {columns[:3]}...\")\n",
    "            \n",
    "            # Check for foreign keys\n",
    "            fk_str = schema_info[\"fk_str\"]\n",
    "            if fk_str:\n",
    "                print(f\"\\nForeign Key Count: {len(fk_str.split(chr(10)))}\")\n",
    "                print(\"First foreign key:\" if '\\n' in fk_str else \"Foreign key:\")\n",
    "                print(f\"  {fk_str.split(chr(10))[0] if chr(10) in fk_str else fk_str}\")\n",
    "            else:\n",
    "                print(\"\\nNo foreign keys found\")\n",
    "                \n",
    "            # Print a small portion of the schema string\n",
    "            schema_str = schema_info[\"schema_str\"]\n",
    "            preview_length = min(300, len(schema_str))\n",
    "            print(f\"\\nSchema String Preview ({preview_length} chars of {len(schema_str)} total):\")\n",
    "            print(schema_str[:preview_length] + \"...\")\n",
    "            \n",
    "            # Verify that cache now contains this database\n",
    "            print(f\"\\nCache status - db2infos contains {simple_db}: {simple_db in schema_manager.db2infos}\")\n",
    "            \n",
    "        except Exception as e:\n",
    "            print(f\"❌ Error retrieving schema: {e}\")\n",
    "    else:\n",
    "        print(\"No simple databases found for testing\")\n",
    "else:\n",
    "    print(\"No database IDs available for testing\")"
   ]
  },
  {
   "cell_type": "markdown",
   "metadata": {},
   "source": [
    "## 4. Initialize the Text-to-SQL System"
   ]
  },
  {
   "cell_type": "code",
   "execution_count": 7,
   "metadata": {},
   "outputs": [
    {
     "name": "stderr",
     "output_type": "stream",
     "text": [
      "2025-05-10 22:32:40,720 - text_to_sql - INFO - Using tables JSON: ../data/bird/dev_tables.json\n"
     ]
    },
    {
     "name": "stdout",
     "output_type": "stream",
     "text": [
      "load json file from ../data/bird/dev_tables.json\n",
      "❌ Error initializing Text-to-SQL system: module 'dspy' has no attribute 'Chain'\n",
      "Check that paths and API keys are correctly configured\n"
     ]
    }
   ],
   "source": [
    "# Initialize the Text-to-SQL system\n",
    "try:\n",
    "    # Make sure to use the dev_databases path for proper database access\n",
    "    text_to_sql = DSPyTextToSQL(\n",
    "        data_path=DEV_DB_DIRECTORY,  # Use the correct path to databases\n",
    "        tables_json_path=TABLES_JSON_PATH,\n",
    "        dataset_name=\"bird\"\n",
    "    )\n",
    "    print(\"✅ Text-to-SQL system initialized successfully\")\n",
    "    \n",
    "    # Print information about the system\n",
    "    print(f\"Schema Manager has {len(text_to_sql.schema_manager.db2dbjsons)} database schemas loaded\")\n",
    "    print(f\"Using '{text_to_sql.lm.model}' as the language model\")\n",
    "    \n",
    "    # List available components\n",
    "    print(\"\\nSystem components:\")\n",
    "    print(\"- Schema Extractor\")\n",
    "    print(\"- SQL Decomposer\")\n",
    "    print(\"- SQL Validator\")\n",
    "    \n",
    "except Exception as e:\n",
    "    print(f\"❌ Error initializing Text-to-SQL system: {e}\")\n",
    "    print(\"Check that paths and API keys are correctly configured\")"
   ]
  },
  {
   "cell_type": "markdown",
   "metadata": {},
   "source": [
    "## 5. Test with Simple Query"
   ]
  },
  {
   "cell_type": "code",
   "execution_count": 8,
   "metadata": {},
   "outputs": [
    {
     "name": "stdout",
     "output_type": "stream",
     "text": [
      "Text-to-SQL system not initialized\n"
     ]
    }
   ],
   "source": [
    "# Test with a simple query on a small database\n",
    "if 'text_to_sql' in locals():\n",
    "    # Use a simple database that we identified earlier\n",
    "    if 'simple_db' in locals() and simple_db:\n",
    "        db_id = simple_db\n",
    "    else:\n",
    "        # Default to the first database in our list\n",
    "        db_id = db_ids[0] if len(db_ids) > 0 else None\n",
    "    \n",
    "    if db_id:\n",
    "        # Create a simple query based on the database schema\n",
    "        schema_info = schema_manager.get_db_schema(db_id)\n",
    "        table_names = list(schema_info[\"chosen_columns\"].keys())\n",
    "        first_table = table_names[0] if table_names else \"unknown\"\n",
    "        \n",
    "        query = f\"How many records are in the {first_table} table?\"\n",
    "        \n",
    "        print(f\"Testing simple query on database: {db_id}\")\n",
    "        print(f\"Query: '{query}'\")\n",
    "        \n",
    "        try:\n",
    "            # Start timer\n",
    "            start_time = time.time()\n",
    "            \n",
    "            # Process the query\n",
    "            result = text_to_sql.process_query(db_id, query)\n",
    "            \n",
    "            # Calculate processing time\n",
    "            processing_time = time.time() - start_time\n",
    "            \n",
    "            # Display results\n",
    "            print(f\"\\nProcessing completed in {processing_time:.2f} seconds\")\n",
    "            print(\"\\nInitial SQL:\")\n",
    "            print(result[\"initial_sql\"])\n",
    "            \n",
    "            print(\"\\nFinal SQL:\")\n",
    "            print(result[\"final_sql\"])\n",
    "            \n",
    "            if result[\"explanation\"]:\n",
    "                print(\"\\nRefinement Explanation:\")\n",
    "                print(result[\"explanation\"])\n",
    "        except Exception as e:\n",
    "            print(f\"❌ Error processing query: {e}\")\n",
    "    else:\n",
    "        print(\"No database available for testing\")\n",
    "else:\n",
    "    print(\"Text-to-SQL system not initialized\")"
   ]
  },
  {
   "cell_type": "markdown",
   "metadata": {},
   "source": [
    "## 6. Test with Complex Query and Schema Pruning"
   ]
  },
  {
   "cell_type": "code",
   "execution_count": 9,
   "metadata": {},
   "outputs": [
    {
     "name": "stdout",
     "output_type": "stream",
     "text": [
      "Text-to-SQL system not initialized\n"
     ]
    }
   ],
   "source": [
    "# Test with a complex query on a database that needs pruning\n",
    "if 'text_to_sql' in locals():\n",
    "    # Find a complex database that needs pruning\n",
    "    complex_db = None\n",
    "    for db_id in db_ids:\n",
    "        if schema_manager.is_need_prune(db_id):\n",
    "            complex_db = db_id\n",
    "            break\n",
    "    \n",
    "    if complex_db:\n",
    "        # Get schema info to create a reasonable query\n",
    "        schema_info = schema_manager.get_db_schema(complex_db)\n",
    "        table_names = list(schema_info[\"chosen_columns\"].keys())\n",
    "        \n",
    "        # Create a query that might require joins if there are foreign keys\n",
    "        if len(table_names) >= 2 and schema_info[\"fk_str\"]:\n",
    "            table1 = table_names[0]\n",
    "            table2 = table_names[1]\n",
    "            query = f\"List information from {table1} joined with {table2}\"\n",
    "        else:\n",
    "            # Simple query on a complex database\n",
    "            first_table = table_names[0] if table_names else \"unknown\"\n",
    "            query = f\"Show me a summary of data from the {first_table} table\"\n",
    "        \n",
    "        print(f\"Testing complex query on database: {complex_db}\")\n",
    "        print(f\"Query: '{query}'\")\n",
    "        print(f\"Database complexity: Complex, pruning needed\")\n",
    "        \n",
    "        try:\n",
    "            # Start timer\n",
    "            start_time = time.time()\n",
    "            \n",
    "            # Process the query\n",
    "            result = text_to_sql.process_query(complex_db, query)\n",
    "            \n",
    "            # Calculate processing time\n",
    "            processing_time = time.time() - start_time\n",
    "            \n",
    "            # Display results\n",
    "            print(f\"\\nProcessing completed in {processing_time:.2f} seconds\")\n",
    "            \n",
    "            # Show extracted schema if available\n",
    "            if result[\"extracted_schema\"]:\n",
    "                print(\"\\nExtracted Schema (pruned tables/columns):\")\n",
    "                for table, selection in result[\"extracted_schema\"].items():\n",
    "                    if isinstance(selection, list):\n",
    "                        print(f\"  - {table}: {selection}\")\n",
    "                    else:\n",
    "                        print(f\"  - {table}: {selection}\")\n",
    "            \n",
    "            # Show decomposed sub-questions\n",
    "            if result[\"sub_questions\"]:\n",
    "                print(\"\\nSub-questions:\")\n",
    "                for i, q in enumerate(result[\"sub_questions\"]):\n",
    "                    print(f\"  {i+1}. {q}\")\n",
    "            \n",
    "            print(\"\\nInitial SQL:\")\n",
    "            print(result[\"initial_sql\"])\n",
    "            \n",
    "            print(\"\\nFinal SQL:\")\n",
    "            print(result[\"final_sql\"])\n",
    "            \n",
    "            if result[\"explanation\"]:\n",
    "                print(\"\\nRefinement Explanation:\")\n",
    "                print(result[\"explanation\"])\n",
    "        except Exception as e:\n",
    "            print(f\"❌ Error processing complex query: {e}\")\n",
    "    else:\n",
    "        print(\"No complex database found for testing\")\n",
    "else:\n",
    "    print(\"Text-to-SQL system not initialized\")"
   ]
  },
  {
   "cell_type": "markdown",
   "metadata": {},
   "source": [
    "## 7. Test Individual Components"
   ]
  },
  {
   "cell_type": "code",
   "execution_count": 10,
   "metadata": {},
   "outputs": [
    {
     "name": "stdout",
     "output_type": "stream",
     "text": [
      "Text-to-SQL system not initialized\n"
     ]
    }
   ],
   "source": [
    "# Test each component individually\n",
    "if 'text_to_sql' in locals():\n",
    "    # Use a sample database\n",
    "    sample_db_id = db_ids[0] if db_ids else None\n",
    "    \n",
    "    if sample_db_id:\n",
    "        # Create a simple query\n",
    "        query = \"Show me all customer information\"\n",
    "        \n",
    "        print(f\"Testing individual components with database: {sample_db_id}\")\n",
    "        print(f\"Query: '{query}'\")\n",
    "        \n",
    "        try:\n",
    "            # 1. Test Schema Extractor\n",
    "            print(\"\\n=== Schema Extractor Component Test ===\")\n",
    "            \n",
    "            # Get basic schema for extraction\n",
    "            basic_schema = schema_manager.get_db_schema(sample_db_id)\n",
    "            \n",
    "            # Start timer\n",
    "            start_time = time.time()\n",
    "            \n",
    "            # Run schema extraction\n",
    "            extraction_result = text_to_sql.schema_extractor(\n",
    "                db_id=sample_db_id,\n",
    "                query=query,\n",
    "                db_schema=basic_schema[\"schema_str\"],\n",
    "                foreign_keys=basic_schema[\"fk_str\"],\n",
    "                evidence=\"\"\n",
    "            )\n",
    "            \n",
    "            # Calculate processing time\n",
    "            extraction_time = time.time() - start_time\n",
    "            \n",
    "            print(f\"Extraction completed in {extraction_time:.2f} seconds\")\n",
    "            print(\"Extracted schema:\")\n",
    "            print(extraction_result.extracted_schema)\n",
    "            \n",
    "            # 2. Test SQL Decomposer\n",
    "            print(\"\\n=== SQL Decomposer Component Test ===\")\n",
    "            \n",
    "            # Get schema with extracted tables (or full schema if extraction was empty)\n",
    "            extracted_schema = extraction_result.extracted_schema\n",
    "            schema_info = schema_manager.get_db_schema(\n",
    "                sample_db_id, \n",
    "                extracted_schema=extracted_schema\n",
    "            )\n",
    "            \n",
    "            # Start timer\n",
    "            start_time = time.time()\n",
    "            \n",
    "            # Run SQL decomposition\n",
    "            decomposition_result = text_to_sql.sql_decomposer(\n",
    "                query=query,\n",
    "                schema_info=schema_info[\"schema_str\"],\n",
    "                foreign_keys=schema_info[\"fk_str\"],\n",
    "                evidence=\"\"\n",
    "            )\n",
    "            \n",
    "            # Calculate processing time\n",
    "            decomposition_time = time.time() - start_time\n",
    "            \n",
    "            print(f\"Decomposition completed in {decomposition_time:.2f} seconds\")\n",
    "            \n",
    "            print(\"Sub-questions:\")\n",
    "            for i, q in enumerate(decomposition_result.sub_questions):\n",
    "                print(f\"  {i+1}. {q}\")\n",
    "                \n",
    "            print(\"\\nGenerated SQL:\")\n",
    "            print(decomposition_result.sql)\n",
    "            \n",
    "            # 3. Test SQL Validator\n",
    "            print(\"\\n=== SQL Validator Component Test ===\")\n",
    "            \n",
    "            # Extract SQL from decomposition result\n",
    "            sql = decomposition_result.sql\n",
    "            \n",
    "            # Start timer\n",
    "            start_time = time.time()\n",
    "            \n",
    "            # Run SQL validation\n",
    "            validation_result = text_to_sql.sql_validator(\n",
    "                query=query,\n",
    "                sql=sql,\n",
    "                schema_info=schema_info[\"schema_str\"],\n",
    "                foreign_keys=schema_info[\"fk_str\"],\n",
    "                db_id=sample_db_id,\n",
    "                error_info=\"\",\n",
    "                evidence=\"\"\n",
    "            )\n",
    "            \n",
    "            # Calculate processing time\n",
    "            validation_time = time.time() - start_time\n",
    "            \n",
    "            print(f\"Validation completed in {validation_time:.2f} seconds\")\n",
    "            \n",
    "            print(\"Refined SQL:\")\n",
    "            print(validation_result.refined_sql)\n",
    "            \n",
    "            if hasattr(validation_result, 'explanation') and validation_result.explanation:\n",
    "                print(\"\\nRefinement Explanation:\")\n",
    "                print(validation_result.explanation)\n",
    "            \n",
    "            # Compare times\n",
    "            print(\"\\n=== Performance Comparison ===\")\n",
    "            print(f\"Schema Extraction:   {extraction_time:.2f} seconds\")\n",
    "            print(f\"SQL Decomposition:   {decomposition_time:.2f} seconds\")\n",
    "            print(f\"SQL Validation:      {validation_time:.2f} seconds\")\n",
    "            print(f\"Total:               {extraction_time + decomposition_time + validation_time:.2f} seconds\")\n",
    "        except Exception as e:\n",
    "            print(f\"❌ Error testing components: {e}\")\n",
    "    else:\n",
    "        print(\"No database available for testing components\")\n",
    "else:\n",
    "    print(\"Text-to-SQL system not initialized\")"
   ]
  },
  {
   "cell_type": "markdown",
   "metadata": {},
   "source": [
    "## 8. Test Multiple Databases with Same Query"
   ]
  },
  {
   "cell_type": "code",
   "execution_count": 11,
   "metadata": {},
   "outputs": [
    {
     "name": "stdout",
     "output_type": "stream",
     "text": [
      "Text-to-SQL system not initialized or insufficient databases for testing\n"
     ]
    }
   ],
   "source": [
    "# Test the system with multiple databases using the same query\n",
    "if 'text_to_sql' in locals() and len(db_ids) >= 3:\n",
    "    # Select 3 databases to test\n",
    "    test_dbs = db_ids[:3]\n",
    "    \n",
    "    # Use a generic query that should work on any database\n",
    "    query = \"List the top 5 records from the main table\"\n",
    "    \n",
    "    print(f\"Testing the same query across multiple databases:\")\n",
    "    print(f\"Query: '{query}'\")\n",
    "    \n",
    "    results_summary = []\n",
    "    \n",
    "    for db_id in test_dbs:\n",
    "        print(f\"\\n===== Testing with database: {db_id} =====\")\n",
    "        \n",
    "        try:\n",
    "            # Process the query\n",
    "            result = text_to_sql.process_query(db_id, query)\n",
    "            \n",
    "            # Store results summary\n",
    "            results_summary.append({\n",
    "                \"db_id\": db_id,\n",
    "                \"status\": \"success\",\n",
    "                \"sql\": result[\"final_sql\"]\n",
    "            })\n",
    "            \n",
    "            # Show final SQL\n",
    "            print(f\"Final SQL: {result['final_sql']}\")\n",
    "            \n",
    "        except Exception as e:\n",
    "            print(f\"❌ Error processing query for {db_id}: {e}\")\n",
    "            results_summary.append({\n",
    "                \"db_id\": db_id,\n",
    "                \"status\": \"error\",\n",
    "                \"error\": str(e)\n",
    "            })\n",
    "    \n",
    "    # Print summary of results\n",
    "    print(\"\\n===== Results Summary =====\")\n",
    "    for result in results_summary:\n",
    "        status_icon = \"✅\" if result[\"status\"] == \"success\" else \"❌\"\n",
    "        print(f\"{status_icon} {result['db_id']}: {result['status']}\")\n",
    "        \n",
    "else:\n",
    "    print(\"Text-to-SQL system not initialized or insufficient databases for testing\")"
   ]
  },
  {
   "cell_type": "markdown",
   "metadata": {},
   "source": [
    "## 9. Conclusion and Next Steps"
   ]
  },
  {
   "cell_type": "markdown",
   "metadata": {},
   "source": [
    "\"\"\"\n",
    "This notebook has demonstrated the DSPy implementation of the Text-to-SQL system. We've tested:\n",
    "\n",
    "1. **SchemaManager** - Loads database schemas from tables.json and provides efficient access to them.\n",
    "   - Correctly identifies complex schemas that need pruning\n",
    "   - Provides schema information with proper formatting for the language model\n",
    "   - Caches database information for improved performance\n",
    "\n",
    "2. **Complete Pipeline** - The system successfully processes queries through all stages:\n",
    "   - Schema extraction for complex databases\n",
    "   - Query decomposition into sub-questions\n",
    "   - SQL generation and validation/refinement\n",
    "\n",
    "3. **Individual Components** - Each component performs its specific task:\n",
    "   - SchemaExtractor: Selects relevant tables and columns for complex schemas\n",
    "   - SqlDecomposer: Breaks down complex questions and generates SQL\n",
    "   - SqlValidator: Refines the generated SQL for correctness\n",
    "\n",
    "4. **Adaptability** - The system adapts to different database schemas and query complexities:\n",
    "   - Works with both simple and complex databases\n",
    "   - Handles different query types and complexity levels\n",
    "   - Performs schema pruning when needed\n",
    "\n",
    "Next steps for improvement:\n",
    "\n",
    "1. **Optimization** - Fine-tune the DSPy modules with more examples\n",
    "2. **Error Handling** - Add more robust error handling for edge cases\n",
    "3. **Performance** - Consider optimizations for large schemas and complex queries\n",
    "4. **Evaluation** - Add more comprehensive evaluation metrics\n",
    "5. **Frontend Integration** - Connect with a user interface for easier interaction\n",
    "\"\"\""
   ]
  }
 ],
 "metadata": {
  "kernelspec": {
   "display_name": "Python 3 (ipykernel)",
   "language": "python",
   "name": "python3"
  },
  "language_info": {
   "codemirror_mode": {
    "name": "ipython",
    "version": 3
   },
   "file_extension": ".py",
   "mimetype": "text/x-python",
   "name": "python",
   "nbconvert_exporter": "python",
   "pygments_lexer": "ipython3",
   "version": "3.9.21"
  }
 },
 "nbformat": 4,
 "nbformat_minor": 4
}
