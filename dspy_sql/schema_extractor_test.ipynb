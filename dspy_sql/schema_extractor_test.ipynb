{
 "cells": [
  {
   "cell_type": "markdown",
   "metadata": {},
   "source": [
    "# Schema Extractor Test Notebook\n",
    "\n",
    "This notebook focuses specifically on testing the SchemaExtractor component of the Text-to-SQL system, which is responsible for extracting relevant tables and columns from database schemas based on natural language queries."
   ]
  },
  {
   "cell_type": "markdown",
   "metadata": {},
   "source": [
    "## 1. Setup and Environment Configuration"
   ]
  },
  {
   "cell_type": "code",
   "execution_count": 1,
   "metadata": {},
   "outputs": [
    {
     "name": "stdout",
     "output_type": "stream",
     "text": [
      "Python version: 3.9.21 (main, Dec 11 2024, 16:24:11) \n",
      "[GCC 11.2.0]\n",
      "Current working directory: /home/norman/work/text-to-sql/MAC-SQL/dspy_sql\n"
     ]
    }
   ],
   "source": [
    "import os\n",
    "import sys\n",
    "import logging\n",
    "import json\n",
    "import time\n",
    "from pprint import pprint\n",
    "\n",
    "# Add parent directory to path for imports\n",
    "sys.path.append(os.path.abspath('..'))\n",
    "\n",
    "# Load environment variables (for API keys)\n",
    "from dotenv import load_dotenv\n",
    "load_dotenv()\n",
    "\n",
    "# Set up logging\n",
    "logging.basicConfig(\n",
    "    level=logging.INFO,\n",
    "    format='%(asctime)s - %(name)s - %(levelname)s - %(message)s'\n",
    ")\n",
    "logger = logging.getLogger(__name__)\n",
    "\n",
    "print(\"Python version:\", sys.version)\n",
    "print(\"Current working directory:\", os.getcwd())"
   ]
  },
  {
   "cell_type": "markdown",
   "metadata": {},
   "source": [
    "## 2. Import Dependencies"
   ]
  },
  {
   "cell_type": "code",
   "execution_count": 2,
   "metadata": {},
   "outputs": [
    {
     "name": "stderr",
     "output_type": "stream",
     "text": [
      "2025-05-11 10:42:34,738 - httpx - INFO - HTTP Request: GET https://raw.githubusercontent.com/BerriAI/litellm/main/model_prices_and_context_window.json \"HTTP/1.1 200 OK\"\n"
     ]
    },
    {
     "name": "stdout",
     "output_type": "stream",
     "text": [
      "load json file from ../data/bird/dev_tables.json\n",
      "✅ SchemaManager initialized successfully\n",
      "Available database IDs: ['debit_card_specializing', 'financial', 'formula_1', 'california_schools', 'card_games']\n"
     ]
    }
   ],
   "source": [
    "# Import necessary modules\n",
    "import sqlite3\n",
    "import dspy\n",
    "from core.utils import load_json_file, parse_json\n",
    "\n",
    "# Import only the schema-related components\n",
    "from schema_manager import SchemaManager\n",
    "from models import create_gemini_lm, GeminiProLM\n",
    "from agents import SchemaExtractor\n",
    "\n",
    "# Define paths for the database and schema files\n",
    "DATA_PATH = \"../data/bird\"  # Path to the BIRD dataset\n",
    "DEV_DB_DIRECTORY = os.path.join(DATA_PATH, \"dev_databases\")  # Database files are here\n",
    "TABLES_JSON_PATH = os.path.join(DATA_PATH, \"dev_tables.json\")  # Path to tables.json\n",
    "\n",
    "dspy.settings.configure(lm=create_gemini_lm())\n",
    "\n",
    "# NOTE: We use DEV_DB_DIRECTORY as data_path to correctly locate the SQLite files\n",
    "schema_manager = SchemaManager(DEV_DB_DIRECTORY, TABLES_JSON_PATH)\n",
    "print(\"✅ SchemaManager initialized successfully\")\n",
    "\n",
    "# Get the list of database IDs\n",
    "db_ids = list(schema_manager.db2dbjsons.keys())\n",
    "print(f\"Available database IDs: {db_ids[:5] if len(db_ids) >= 5 else db_ids}\")"
   ]
  },
  {
   "cell_type": "code",
   "execution_count": 3,
   "metadata": {},
   "outputs": [
    {
     "name": "stdout",
     "output_type": "stream",
     "text": [
      "Checking file paths and database structure...\n",
      "✅ Found database directory: ../data/bird/dev_databases\n",
      "✅ Found tables.json at ../data/bird/dev_tables.json\n",
      "load json file from ../data/bird/dev_tables.json\n",
      "✅ SchemaManager initialized successfully\n",
      "Available database IDs: ['debit_card_specializing', 'financial', 'formula_1', 'california_schools', 'card_games']\n"
     ]
    }
   ],
   "source": [
    "# Schema Extractor Signature\n",
    "schema_extractor_signature = dspy.Signature(\n",
    "    \"db_id, query, db_schema, foreign_keys, evidence -> extracted_schema\"\n",
    ")\n",
    "\n",
    "class SchemaExtractor(dspy.Module):\n",
    "    \"\"\"DSPy module to extract relevant schema from database\"\"\"\n",
    "    \n",
    "    def __init__(self, lm=None):\n",
    "        super().__init__()\n",
    "        self.lm = lm\n",
    "        # Define a chain of thought predictor for schema extraction\n",
    "        self.predictor = dspy.ChainOfThought(\n",
    "            schema_extractor_signature,\n",
    "            lm=lm\n",
    "        )\n",
    "    \n",
    "    def forward(self, db_id, query, db_schema, foreign_keys, evidence=\"\"):\n",
    "        \"\"\"Extract the relevant schema based on the query\"\"\"\n",
    "        result = self.predictor(\n",
    "            db_id=db_id,\n",
    "            query=query,\n",
    "            db_schema=db_schema,\n",
    "            foreign_keys=foreign_keys, \n",
    "            evidence=evidence\n",
    "        )\n",
    "        \n",
    "        # Try to parse JSON from the result\n",
    "        try:\n",
    "            extracted_schema = parse_json(result.extracted_schema)\n",
    "            return dspy.Prediction(extracted_schema=extracted_schema)\n",
    "        except Exception as e:\n",
    "            logger.error(f\"Error parsing extracted schema: {e}\")\n",
    "            return dspy.Prediction(extracted_schema={})"
   ]
  },
  {
   "cell_type": "markdown",
   "metadata": {},
   "source": [
    "## 4. Initialize SchemaExtractor"
   ]
  },
  {
   "cell_type": "code",
   "execution_count": 4,
   "metadata": {},
   "outputs": [
    {
     "name": "stdout",
     "output_type": "stream",
     "text": [
      "✅ SchemaExtractor initialized successfully\n"
     ]
    }
   ],
   "source": [
    "# Initialize the SchemaExtractor component\n",
    "try:\n",
    "    schema_extractor = SchemaExtractor(lm=lm)\n",
    "    print(\"✅ SchemaExtractor initialized successfully\")\n",
    "except Exception as e:\n",
    "    print(f\"❌ Error initializing SchemaExtractor: {e}\")"
   ]
  },
  {
   "cell_type": "markdown",
   "metadata": {},
   "source": [
    "## 5. Test SchemaExtractor on Simple Database"
   ]
  },
  {
   "cell_type": "code",
   "execution_count": 5,
   "metadata": {},
   "outputs": [
    {
     "name": "stdout",
     "output_type": "stream",
     "text": [
      "Testing SchemaExtractor with simple database ID: debit_card_specializing\n"
     ]
    },
    {
     "name": "stderr",
     "output_type": "stream",
     "text": [
      "2025-05-10 23:13:15,606 - models - ERROR - Error in GeminiProLM.__call__: generate_content() got an unexpected keyword argument 'generation_config'\n",
      "2025-05-10 23:13:15,606 - models - ERROR - Error in GeminiProLM.__call__: generate_content() got an unexpected keyword argument 'generation_config'\n"
     ]
    },
    {
     "name": "stdout",
     "output_type": "stream",
     "text": [
      "Query: 'List all data from the customers table'\n"
     ]
    },
    {
     "ename": "ValueError",
     "evalue": "Expected a JSON object but parsed a <class 'str'>",
     "output_type": "error",
     "traceback": [
      "\u001b[0;31m---------------------------------------------------------------------------\u001b[0m",
      "\u001b[0;31mValueError\u001b[0m                                Traceback (most recent call last)",
      "File \u001b[0;32m~/anaconda3/envs/macsql/lib/python3.9/site-packages/dspy/adapters/chat_adapter.py:41\u001b[0m, in \u001b[0;36mChatAdapter.__call__\u001b[0;34m(self, lm, lm_kwargs, signature, demos, inputs)\u001b[0m\n\u001b[1;32m     40\u001b[0m \u001b[38;5;28;01mtry\u001b[39;00m:\n\u001b[0;32m---> 41\u001b[0m     \u001b[38;5;28;01mreturn\u001b[39;00m \u001b[38;5;28;43msuper\u001b[39;49m\u001b[43m(\u001b[49m\u001b[43m)\u001b[49m\u001b[38;5;241;43m.\u001b[39;49m\u001b[38;5;21;43m__call__\u001b[39;49m\u001b[43m(\u001b[49m\u001b[43mlm\u001b[49m\u001b[43m,\u001b[49m\u001b[43m \u001b[49m\u001b[43mlm_kwargs\u001b[49m\u001b[43m,\u001b[49m\u001b[43m \u001b[49m\u001b[43msignature\u001b[49m\u001b[43m,\u001b[49m\u001b[43m \u001b[49m\u001b[43mdemos\u001b[49m\u001b[43m,\u001b[49m\u001b[43m \u001b[49m\u001b[43minputs\u001b[49m\u001b[43m)\u001b[49m\n\u001b[1;32m     42\u001b[0m \u001b[38;5;28;01mexcept\u001b[39;00m \u001b[38;5;167;01mException\u001b[39;00m \u001b[38;5;28;01mas\u001b[39;00m e:\n\u001b[1;32m     43\u001b[0m     \u001b[38;5;66;03m# fallback to JSONAdapter\u001b[39;00m\n",
      "File \u001b[0;32m~/anaconda3/envs/macsql/lib/python3.9/site-packages/dspy/adapters/base.py:52\u001b[0m, in \u001b[0;36mAdapter.__call__\u001b[0;34m(self, lm, lm_kwargs, signature, demos, inputs)\u001b[0m\n\u001b[1;32m     51\u001b[0m outputs \u001b[38;5;241m=\u001b[39m lm(messages\u001b[38;5;241m=\u001b[39minputs, \u001b[38;5;241m*\u001b[39m\u001b[38;5;241m*\u001b[39mlm_kwargs)\n\u001b[0;32m---> 52\u001b[0m \u001b[38;5;28;01mreturn\u001b[39;00m \u001b[38;5;28;43mself\u001b[39;49m\u001b[38;5;241;43m.\u001b[39;49m\u001b[43m_call_post_process\u001b[49m\u001b[43m(\u001b[49m\u001b[43moutputs\u001b[49m\u001b[43m,\u001b[49m\u001b[43m \u001b[49m\u001b[43msignature\u001b[49m\u001b[43m)\u001b[49m\n",
      "File \u001b[0;32m~/anaconda3/envs/macsql/lib/python3.9/site-packages/dspy/adapters/base.py:32\u001b[0m, in \u001b[0;36mAdapter._call_post_process\u001b[0;34m(self, outputs, signature)\u001b[0m\n\u001b[1;32m     30\u001b[0m     output, output_logprobs \u001b[38;5;241m=\u001b[39m output[\u001b[38;5;124m\"\u001b[39m\u001b[38;5;124mtext\u001b[39m\u001b[38;5;124m\"\u001b[39m], output[\u001b[38;5;124m\"\u001b[39m\u001b[38;5;124mlogprobs\u001b[39m\u001b[38;5;124m\"\u001b[39m]\n\u001b[0;32m---> 32\u001b[0m value \u001b[38;5;241m=\u001b[39m \u001b[38;5;28;43mself\u001b[39;49m\u001b[38;5;241;43m.\u001b[39;49m\u001b[43mparse\u001b[49m\u001b[43m(\u001b[49m\u001b[43msignature\u001b[49m\u001b[43m,\u001b[49m\u001b[43m \u001b[49m\u001b[43moutput\u001b[49m\u001b[43m)\u001b[49m\n\u001b[1;32m     34\u001b[0m \u001b[38;5;28;01mif\u001b[39;00m output_logprobs \u001b[38;5;129;01mis\u001b[39;00m \u001b[38;5;129;01mnot\u001b[39;00m \u001b[38;5;28;01mNone\u001b[39;00m:\n",
      "File \u001b[0;32m~/anaconda3/envs/macsql/lib/python3.9/site-packages/dspy/utils/callback.py:326\u001b[0m, in \u001b[0;36mwith_callbacks.<locals>.sync_wrapper\u001b[0;34m(instance, *args, **kwargs)\u001b[0m\n\u001b[1;32m    325\u001b[0m \u001b[38;5;28;01mif\u001b[39;00m \u001b[38;5;129;01mnot\u001b[39;00m callbacks:\n\u001b[0;32m--> 326\u001b[0m     \u001b[38;5;28;01mreturn\u001b[39;00m \u001b[43mfn\u001b[49m\u001b[43m(\u001b[49m\u001b[43minstance\u001b[49m\u001b[43m,\u001b[49m\u001b[43m \u001b[49m\u001b[38;5;241;43m*\u001b[39;49m\u001b[43margs\u001b[49m\u001b[43m,\u001b[49m\u001b[43m \u001b[49m\u001b[38;5;241;43m*\u001b[39;49m\u001b[38;5;241;43m*\u001b[39;49m\u001b[43mkwargs\u001b[49m\u001b[43m)\u001b[49m\n\u001b[1;32m    328\u001b[0m call_id \u001b[38;5;241m=\u001b[39m uuid\u001b[38;5;241m.\u001b[39muuid4()\u001b[38;5;241m.\u001b[39mhex\n",
      "File \u001b[0;32m~/anaconda3/envs/macsql/lib/python3.9/site-packages/dspy/adapters/chat_adapter.py:175\u001b[0m, in \u001b[0;36mChatAdapter.parse\u001b[0;34m(self, signature, completion)\u001b[0m\n\u001b[1;32m    174\u001b[0m \u001b[38;5;28;01mif\u001b[39;00m fields\u001b[38;5;241m.\u001b[39mkeys() \u001b[38;5;241m!=\u001b[39m signature\u001b[38;5;241m.\u001b[39moutput_fields\u001b[38;5;241m.\u001b[39mkeys():\n\u001b[0;32m--> 175\u001b[0m     \u001b[38;5;28;01mraise\u001b[39;00m \u001b[38;5;167;01mValueError\u001b[39;00m(\u001b[38;5;124mf\u001b[39m\u001b[38;5;124m\"\u001b[39m\u001b[38;5;124mExpected \u001b[39m\u001b[38;5;132;01m{\u001b[39;00msignature\u001b[38;5;241m.\u001b[39moutput_fields\u001b[38;5;241m.\u001b[39mkeys()\u001b[38;5;132;01m}\u001b[39;00m\u001b[38;5;124m but got \u001b[39m\u001b[38;5;132;01m{\u001b[39;00mfields\u001b[38;5;241m.\u001b[39mkeys()\u001b[38;5;132;01m}\u001b[39;00m\u001b[38;5;124m\"\u001b[39m)\n\u001b[1;32m    177\u001b[0m \u001b[38;5;28;01mreturn\u001b[39;00m fields\n",
      "\u001b[0;31mValueError\u001b[0m: Expected dict_keys(['reasoning', 'extracted_schema']) but got dict_keys([])",
      "\nDuring handling of the above exception, another exception occurred:\n",
      "\u001b[0;31mValueError\u001b[0m                                Traceback (most recent call last)",
      "Cell \u001b[0;32mIn[5], line 24\u001b[0m\n\u001b[1;32m     21\u001b[0m \u001b[38;5;28mprint\u001b[39m(\u001b[38;5;124mf\u001b[39m\u001b[38;5;124m\"\u001b[39m\u001b[38;5;124mQuery: \u001b[39m\u001b[38;5;124m'\u001b[39m\u001b[38;5;132;01m{\u001b[39;00mquery\u001b[38;5;132;01m}\u001b[39;00m\u001b[38;5;124m'\u001b[39m\u001b[38;5;124m\"\u001b[39m)\n\u001b[1;32m     23\u001b[0m \u001b[38;5;66;03m# Run schema extraction\u001b[39;00m\n\u001b[0;32m---> 24\u001b[0m extraction_result \u001b[38;5;241m=\u001b[39m \u001b[43mschema_extractor\u001b[49m\u001b[43m(\u001b[49m\n\u001b[1;32m     25\u001b[0m \u001b[43m    \u001b[49m\u001b[43mdb_id\u001b[49m\u001b[38;5;241;43m=\u001b[39;49m\u001b[43msimple_db\u001b[49m\u001b[43m,\u001b[49m\n\u001b[1;32m     26\u001b[0m \u001b[43m    \u001b[49m\u001b[43mquery\u001b[49m\u001b[38;5;241;43m=\u001b[39;49m\u001b[43mquery\u001b[49m\u001b[43m,\u001b[49m\n\u001b[1;32m     27\u001b[0m \u001b[43m    \u001b[49m\u001b[43mdb_schema\u001b[49m\u001b[38;5;241;43m=\u001b[39;49m\u001b[43mschema_info\u001b[49m\u001b[43m[\u001b[49m\u001b[38;5;124;43m\"\u001b[39;49m\u001b[38;5;124;43mschema_str\u001b[39;49m\u001b[38;5;124;43m\"\u001b[39;49m\u001b[43m]\u001b[49m\u001b[43m,\u001b[49m\n\u001b[1;32m     28\u001b[0m \u001b[43m    \u001b[49m\u001b[43mforeign_keys\u001b[49m\u001b[38;5;241;43m=\u001b[39;49m\u001b[43mschema_info\u001b[49m\u001b[43m[\u001b[49m\u001b[38;5;124;43m\"\u001b[39;49m\u001b[38;5;124;43mfk_str\u001b[39;49m\u001b[38;5;124;43m\"\u001b[39;49m\u001b[43m]\u001b[49m\u001b[43m,\u001b[49m\n\u001b[1;32m     29\u001b[0m \u001b[43m    \u001b[49m\u001b[43mevidence\u001b[49m\u001b[38;5;241;43m=\u001b[39;49m\u001b[38;5;124;43m\"\u001b[39;49m\u001b[38;5;124;43m\"\u001b[39;49m\n\u001b[1;32m     30\u001b[0m \u001b[43m\u001b[49m\u001b[43m)\u001b[49m\n\u001b[1;32m     32\u001b[0m \u001b[38;5;66;03m# Display extracted schema\u001b[39;00m\n\u001b[1;32m     33\u001b[0m \u001b[38;5;28mprint\u001b[39m(\u001b[38;5;124m\"\u001b[39m\u001b[38;5;130;01m\\n\u001b[39;00m\u001b[38;5;124mExtracted Schema:\u001b[39m\u001b[38;5;124m\"\u001b[39m)\n",
      "File \u001b[0;32m~/anaconda3/envs/macsql/lib/python3.9/site-packages/dspy/utils/callback.py:326\u001b[0m, in \u001b[0;36mwith_callbacks.<locals>.sync_wrapper\u001b[0;34m(instance, *args, **kwargs)\u001b[0m\n\u001b[1;32m    324\u001b[0m callbacks \u001b[38;5;241m=\u001b[39m _get_active_callbacks(instance)\n\u001b[1;32m    325\u001b[0m \u001b[38;5;28;01mif\u001b[39;00m \u001b[38;5;129;01mnot\u001b[39;00m callbacks:\n\u001b[0;32m--> 326\u001b[0m     \u001b[38;5;28;01mreturn\u001b[39;00m \u001b[43mfn\u001b[49m\u001b[43m(\u001b[49m\u001b[43minstance\u001b[49m\u001b[43m,\u001b[49m\u001b[43m \u001b[49m\u001b[38;5;241;43m*\u001b[39;49m\u001b[43margs\u001b[49m\u001b[43m,\u001b[49m\u001b[43m \u001b[49m\u001b[38;5;241;43m*\u001b[39;49m\u001b[38;5;241;43m*\u001b[39;49m\u001b[43mkwargs\u001b[49m\u001b[43m)\u001b[49m\n\u001b[1;32m    328\u001b[0m call_id \u001b[38;5;241m=\u001b[39m uuid\u001b[38;5;241m.\u001b[39muuid4()\u001b[38;5;241m.\u001b[39mhex\n\u001b[1;32m    330\u001b[0m _execute_start_callbacks(instance, fn, call_id, callbacks, args, kwargs)\n",
      "File \u001b[0;32m~/anaconda3/envs/macsql/lib/python3.9/site-packages/dspy/primitives/program.py:32\u001b[0m, in \u001b[0;36mModule.__call__\u001b[0;34m(self, *args, **kwargs)\u001b[0m\n\u001b[1;32m     29\u001b[0m         output\u001b[38;5;241m.\u001b[39mset_lm_usage(usage_tracker\u001b[38;5;241m.\u001b[39mget_total_tokens())\n\u001b[1;32m     30\u001b[0m         \u001b[38;5;28;01mreturn\u001b[39;00m output\n\u001b[0;32m---> 32\u001b[0m \u001b[38;5;28;01mreturn\u001b[39;00m \u001b[38;5;28;43mself\u001b[39;49m\u001b[38;5;241;43m.\u001b[39;49m\u001b[43mforward\u001b[49m\u001b[43m(\u001b[49m\u001b[38;5;241;43m*\u001b[39;49m\u001b[43margs\u001b[49m\u001b[43m,\u001b[49m\u001b[43m \u001b[49m\u001b[38;5;241;43m*\u001b[39;49m\u001b[38;5;241;43m*\u001b[39;49m\u001b[43mkwargs\u001b[49m\u001b[43m)\u001b[49m\n",
      "File \u001b[0;32m~/work/text-to-sql/MAC-SQL/dspy_sql/agents.py:43\u001b[0m, in \u001b[0;36mSchemaExtractor.forward\u001b[0;34m(self, db_id, query, db_schema, foreign_keys, evidence)\u001b[0m\n\u001b[1;32m     41\u001b[0m \u001b[38;5;28;01mdef\u001b[39;00m\u001b[38;5;250m \u001b[39m\u001b[38;5;21mforward\u001b[39m(\u001b[38;5;28mself\u001b[39m, db_id, query, db_schema, foreign_keys, evidence\u001b[38;5;241m=\u001b[39m\u001b[38;5;124m\"\u001b[39m\u001b[38;5;124m\"\u001b[39m):\n\u001b[1;32m     42\u001b[0m \u001b[38;5;250m    \u001b[39m\u001b[38;5;124;03m\"\"\"Extract the relevant schema based on the query\"\"\"\u001b[39;00m\n\u001b[0;32m---> 43\u001b[0m     result \u001b[38;5;241m=\u001b[39m \u001b[38;5;28;43mself\u001b[39;49m\u001b[38;5;241;43m.\u001b[39;49m\u001b[43mpredictor\u001b[49m\u001b[43m(\u001b[49m\n\u001b[1;32m     44\u001b[0m \u001b[43m        \u001b[49m\u001b[43mdb_id\u001b[49m\u001b[38;5;241;43m=\u001b[39;49m\u001b[43mdb_id\u001b[49m\u001b[43m,\u001b[49m\n\u001b[1;32m     45\u001b[0m \u001b[43m        \u001b[49m\u001b[43mquery\u001b[49m\u001b[38;5;241;43m=\u001b[39;49m\u001b[43mquery\u001b[49m\u001b[43m,\u001b[49m\n\u001b[1;32m     46\u001b[0m \u001b[43m        \u001b[49m\u001b[43mdb_schema\u001b[49m\u001b[38;5;241;43m=\u001b[39;49m\u001b[43mdb_schema\u001b[49m\u001b[43m,\u001b[49m\n\u001b[1;32m     47\u001b[0m \u001b[43m        \u001b[49m\u001b[43mforeign_keys\u001b[49m\u001b[38;5;241;43m=\u001b[39;49m\u001b[43mforeign_keys\u001b[49m\u001b[43m,\u001b[49m\u001b[43m \u001b[49m\n\u001b[1;32m     48\u001b[0m \u001b[43m        \u001b[49m\u001b[43mevidence\u001b[49m\u001b[38;5;241;43m=\u001b[39;49m\u001b[43mevidence\u001b[49m\n\u001b[1;32m     49\u001b[0m \u001b[43m    \u001b[49m\u001b[43m)\u001b[49m\n\u001b[1;32m     51\u001b[0m     \u001b[38;5;66;03m# Try to parse JSON from the result\u001b[39;00m\n\u001b[1;32m     52\u001b[0m     \u001b[38;5;28;01mtry\u001b[39;00m:\n",
      "File \u001b[0;32m~/anaconda3/envs/macsql/lib/python3.9/site-packages/dspy/utils/callback.py:326\u001b[0m, in \u001b[0;36mwith_callbacks.<locals>.sync_wrapper\u001b[0;34m(instance, *args, **kwargs)\u001b[0m\n\u001b[1;32m    324\u001b[0m callbacks \u001b[38;5;241m=\u001b[39m _get_active_callbacks(instance)\n\u001b[1;32m    325\u001b[0m \u001b[38;5;28;01mif\u001b[39;00m \u001b[38;5;129;01mnot\u001b[39;00m callbacks:\n\u001b[0;32m--> 326\u001b[0m     \u001b[38;5;28;01mreturn\u001b[39;00m \u001b[43mfn\u001b[49m\u001b[43m(\u001b[49m\u001b[43minstance\u001b[49m\u001b[43m,\u001b[49m\u001b[43m \u001b[49m\u001b[38;5;241;43m*\u001b[39;49m\u001b[43margs\u001b[49m\u001b[43m,\u001b[49m\u001b[43m \u001b[49m\u001b[38;5;241;43m*\u001b[39;49m\u001b[38;5;241;43m*\u001b[39;49m\u001b[43mkwargs\u001b[49m\u001b[43m)\u001b[49m\n\u001b[1;32m    328\u001b[0m call_id \u001b[38;5;241m=\u001b[39m uuid\u001b[38;5;241m.\u001b[39muuid4()\u001b[38;5;241m.\u001b[39mhex\n\u001b[1;32m    330\u001b[0m _execute_start_callbacks(instance, fn, call_id, callbacks, args, kwargs)\n",
      "File \u001b[0;32m~/anaconda3/envs/macsql/lib/python3.9/site-packages/dspy/primitives/program.py:32\u001b[0m, in \u001b[0;36mModule.__call__\u001b[0;34m(self, *args, **kwargs)\u001b[0m\n\u001b[1;32m     29\u001b[0m         output\u001b[38;5;241m.\u001b[39mset_lm_usage(usage_tracker\u001b[38;5;241m.\u001b[39mget_total_tokens())\n\u001b[1;32m     30\u001b[0m         \u001b[38;5;28;01mreturn\u001b[39;00m output\n\u001b[0;32m---> 32\u001b[0m \u001b[38;5;28;01mreturn\u001b[39;00m \u001b[38;5;28;43mself\u001b[39;49m\u001b[38;5;241;43m.\u001b[39;49m\u001b[43mforward\u001b[49m\u001b[43m(\u001b[49m\u001b[38;5;241;43m*\u001b[39;49m\u001b[43margs\u001b[49m\u001b[43m,\u001b[49m\u001b[43m \u001b[49m\u001b[38;5;241;43m*\u001b[39;49m\u001b[38;5;241;43m*\u001b[39;49m\u001b[43mkwargs\u001b[49m\u001b[43m)\u001b[49m\n",
      "File \u001b[0;32m~/anaconda3/envs/macsql/lib/python3.9/site-packages/dspy/predict/chain_of_thought.py:38\u001b[0m, in \u001b[0;36mChainOfThought.forward\u001b[0;34m(self, **kwargs)\u001b[0m\n\u001b[1;32m     37\u001b[0m \u001b[38;5;28;01mdef\u001b[39;00m\u001b[38;5;250m \u001b[39m\u001b[38;5;21mforward\u001b[39m(\u001b[38;5;28mself\u001b[39m, \u001b[38;5;241m*\u001b[39m\u001b[38;5;241m*\u001b[39mkwargs):\n\u001b[0;32m---> 38\u001b[0m     \u001b[38;5;28;01mreturn\u001b[39;00m \u001b[38;5;28;43mself\u001b[39;49m\u001b[38;5;241;43m.\u001b[39;49m\u001b[43mpredict\u001b[49m\u001b[43m(\u001b[49m\u001b[38;5;241;43m*\u001b[39;49m\u001b[38;5;241;43m*\u001b[39;49m\u001b[43mkwargs\u001b[49m\u001b[43m)\u001b[49m\n",
      "File \u001b[0;32m~/anaconda3/envs/macsql/lib/python3.9/site-packages/dspy/predict/predict.py:85\u001b[0m, in \u001b[0;36mPredict.__call__\u001b[0;34m(self, *args, **kwargs)\u001b[0m\n\u001b[1;32m     82\u001b[0m \u001b[38;5;28;01mif\u001b[39;00m args:\n\u001b[1;32m     83\u001b[0m     \u001b[38;5;28;01mraise\u001b[39;00m \u001b[38;5;167;01mValueError\u001b[39;00m(\u001b[38;5;28mself\u001b[39m\u001b[38;5;241m.\u001b[39m_get_positional_args_error_message())\n\u001b[0;32m---> 85\u001b[0m \u001b[38;5;28;01mreturn\u001b[39;00m \u001b[38;5;28;43msuper\u001b[39;49m\u001b[43m(\u001b[49m\u001b[43m)\u001b[49m\u001b[38;5;241;43m.\u001b[39;49m\u001b[38;5;21;43m__call__\u001b[39;49m\u001b[43m(\u001b[49m\u001b[38;5;241;43m*\u001b[39;49m\u001b[38;5;241;43m*\u001b[39;49m\u001b[43mkwargs\u001b[49m\u001b[43m)\u001b[49m\n",
      "File \u001b[0;32m~/anaconda3/envs/macsql/lib/python3.9/site-packages/dspy/utils/callback.py:326\u001b[0m, in \u001b[0;36mwith_callbacks.<locals>.sync_wrapper\u001b[0;34m(instance, *args, **kwargs)\u001b[0m\n\u001b[1;32m    324\u001b[0m callbacks \u001b[38;5;241m=\u001b[39m _get_active_callbacks(instance)\n\u001b[1;32m    325\u001b[0m \u001b[38;5;28;01mif\u001b[39;00m \u001b[38;5;129;01mnot\u001b[39;00m callbacks:\n\u001b[0;32m--> 326\u001b[0m     \u001b[38;5;28;01mreturn\u001b[39;00m \u001b[43mfn\u001b[49m\u001b[43m(\u001b[49m\u001b[43minstance\u001b[49m\u001b[43m,\u001b[49m\u001b[43m \u001b[49m\u001b[38;5;241;43m*\u001b[39;49m\u001b[43margs\u001b[49m\u001b[43m,\u001b[49m\u001b[43m \u001b[49m\u001b[38;5;241;43m*\u001b[39;49m\u001b[38;5;241;43m*\u001b[39;49m\u001b[43mkwargs\u001b[49m\u001b[43m)\u001b[49m\n\u001b[1;32m    328\u001b[0m call_id \u001b[38;5;241m=\u001b[39m uuid\u001b[38;5;241m.\u001b[39muuid4()\u001b[38;5;241m.\u001b[39mhex\n\u001b[1;32m    330\u001b[0m _execute_start_callbacks(instance, fn, call_id, callbacks, args, kwargs)\n",
      "File \u001b[0;32m~/anaconda3/envs/macsql/lib/python3.9/site-packages/dspy/primitives/program.py:32\u001b[0m, in \u001b[0;36mModule.__call__\u001b[0;34m(self, *args, **kwargs)\u001b[0m\n\u001b[1;32m     29\u001b[0m         output\u001b[38;5;241m.\u001b[39mset_lm_usage(usage_tracker\u001b[38;5;241m.\u001b[39mget_total_tokens())\n\u001b[1;32m     30\u001b[0m         \u001b[38;5;28;01mreturn\u001b[39;00m output\n\u001b[0;32m---> 32\u001b[0m \u001b[38;5;28;01mreturn\u001b[39;00m \u001b[38;5;28;43mself\u001b[39;49m\u001b[38;5;241;43m.\u001b[39;49m\u001b[43mforward\u001b[49m\u001b[43m(\u001b[49m\u001b[38;5;241;43m*\u001b[39;49m\u001b[43margs\u001b[49m\u001b[43m,\u001b[49m\u001b[43m \u001b[49m\u001b[38;5;241;43m*\u001b[39;49m\u001b[38;5;241;43m*\u001b[39;49m\u001b[43mkwargs\u001b[49m\u001b[43m)\u001b[49m\n",
      "File \u001b[0;32m~/anaconda3/envs/macsql/lib/python3.9/site-packages/dspy/predict/predict.py:146\u001b[0m, in \u001b[0;36mPredict.forward\u001b[0;34m(self, **kwargs)\u001b[0m\n\u001b[1;32m    144\u001b[0m \u001b[38;5;28;01melse\u001b[39;00m:\n\u001b[1;32m    145\u001b[0m     \u001b[38;5;28;01mwith\u001b[39;00m settings\u001b[38;5;241m.\u001b[39mcontext(send_stream\u001b[38;5;241m=\u001b[39m\u001b[38;5;28;01mNone\u001b[39;00m):\n\u001b[0;32m--> 146\u001b[0m         completions \u001b[38;5;241m=\u001b[39m \u001b[43madapter\u001b[49m\u001b[43m(\u001b[49m\u001b[43mlm\u001b[49m\u001b[43m,\u001b[49m\u001b[43m \u001b[49m\u001b[43mlm_kwargs\u001b[49m\u001b[38;5;241;43m=\u001b[39;49m\u001b[43mconfig\u001b[49m\u001b[43m,\u001b[49m\u001b[43m \u001b[49m\u001b[43msignature\u001b[49m\u001b[38;5;241;43m=\u001b[39;49m\u001b[43msignature\u001b[49m\u001b[43m,\u001b[49m\u001b[43m \u001b[49m\u001b[43mdemos\u001b[49m\u001b[38;5;241;43m=\u001b[39;49m\u001b[43mdemos\u001b[49m\u001b[43m,\u001b[49m\u001b[43m \u001b[49m\u001b[43minputs\u001b[49m\u001b[38;5;241;43m=\u001b[39;49m\u001b[43mkwargs\u001b[49m\u001b[43m)\u001b[49m\n\u001b[1;32m    148\u001b[0m \u001b[38;5;28;01mreturn\u001b[39;00m \u001b[38;5;28mself\u001b[39m\u001b[38;5;241m.\u001b[39m_forward_postprocess(completions, signature, \u001b[38;5;241m*\u001b[39m\u001b[38;5;241m*\u001b[39mkwargs)\n",
      "File \u001b[0;32m~/anaconda3/envs/macsql/lib/python3.9/site-packages/dspy/adapters/chat_adapter.py:50\u001b[0m, in \u001b[0;36mChatAdapter.__call__\u001b[0;34m(self, lm, lm_kwargs, signature, demos, inputs)\u001b[0m\n\u001b[1;32m     46\u001b[0m \u001b[38;5;28;01mif\u001b[39;00m \u001b[38;5;28misinstance\u001b[39m(e, ContextWindowExceededError) \u001b[38;5;129;01mor\u001b[39;00m \u001b[38;5;28misinstance\u001b[39m(\u001b[38;5;28mself\u001b[39m, JSONAdapter):\n\u001b[1;32m     47\u001b[0m     \u001b[38;5;66;03m# On context window exceeded error or already using JSONAdapter, we don't want to retry with a different\u001b[39;00m\n\u001b[1;32m     48\u001b[0m     \u001b[38;5;66;03m# adapter.\u001b[39;00m\n\u001b[1;32m     49\u001b[0m     \u001b[38;5;28;01mraise\u001b[39;00m e\n\u001b[0;32m---> 50\u001b[0m \u001b[38;5;28;01mreturn\u001b[39;00m \u001b[43mJSONAdapter\u001b[49m\u001b[43m(\u001b[49m\u001b[43m)\u001b[49m\u001b[43m(\u001b[49m\u001b[43mlm\u001b[49m\u001b[43m,\u001b[49m\u001b[43m \u001b[49m\u001b[43mlm_kwargs\u001b[49m\u001b[43m,\u001b[49m\u001b[43m \u001b[49m\u001b[43msignature\u001b[49m\u001b[43m,\u001b[49m\u001b[43m \u001b[49m\u001b[43mdemos\u001b[49m\u001b[43m,\u001b[49m\u001b[43m \u001b[49m\u001b[43minputs\u001b[49m\u001b[43m)\u001b[49m\n",
      "File \u001b[0;32m~/anaconda3/envs/macsql/lib/python3.9/site-packages/dspy/adapters/json_adapter.py:52\u001b[0m, in \u001b[0;36mJSONAdapter.__call__\u001b[0;34m(self, lm, lm_kwargs, signature, demos, inputs)\u001b[0m\n\u001b[1;32m     50\u001b[0m \u001b[38;5;66;03m# If response_format is not supported, use basic call\u001b[39;00m\n\u001b[1;32m     51\u001b[0m \u001b[38;5;28;01mif\u001b[39;00m \u001b[38;5;129;01mnot\u001b[39;00m params \u001b[38;5;129;01mor\u001b[39;00m \u001b[38;5;124m\"\u001b[39m\u001b[38;5;124mresponse_format\u001b[39m\u001b[38;5;124m\"\u001b[39m \u001b[38;5;129;01mnot\u001b[39;00m \u001b[38;5;129;01min\u001b[39;00m params:\n\u001b[0;32m---> 52\u001b[0m     \u001b[38;5;28;01mreturn\u001b[39;00m \u001b[38;5;28;43msuper\u001b[39;49m\u001b[43m(\u001b[49m\u001b[43m)\u001b[49m\u001b[38;5;241;43m.\u001b[39;49m\u001b[38;5;21;43m__call__\u001b[39;49m\u001b[43m(\u001b[49m\u001b[43mlm\u001b[49m\u001b[43m,\u001b[49m\u001b[43m \u001b[49m\u001b[43mlm_kwargs\u001b[49m\u001b[43m,\u001b[49m\u001b[43m \u001b[49m\u001b[43msignature\u001b[49m\u001b[43m,\u001b[49m\u001b[43m \u001b[49m\u001b[43mdemos\u001b[49m\u001b[43m,\u001b[49m\u001b[43m \u001b[49m\u001b[43minputs\u001b[49m\u001b[43m)\u001b[49m\n\u001b[1;32m     54\u001b[0m \u001b[38;5;66;03m# Check early for open-ended mapping types before trying structured outputs.\u001b[39;00m\n\u001b[1;32m     55\u001b[0m \u001b[38;5;28;01mif\u001b[39;00m _has_open_ended_mapping(signature):\n",
      "File \u001b[0;32m~/anaconda3/envs/macsql/lib/python3.9/site-packages/dspy/adapters/chat_adapter.py:49\u001b[0m, in \u001b[0;36mChatAdapter.__call__\u001b[0;34m(self, lm, lm_kwargs, signature, demos, inputs)\u001b[0m\n\u001b[1;32m     44\u001b[0m \u001b[38;5;28;01mfrom\u001b[39;00m\u001b[38;5;250m \u001b[39m\u001b[38;5;21;01mdspy\u001b[39;00m\u001b[38;5;21;01m.\u001b[39;00m\u001b[38;5;21;01madapters\u001b[39;00m\u001b[38;5;21;01m.\u001b[39;00m\u001b[38;5;21;01mjson_adapter\u001b[39;00m\u001b[38;5;250m \u001b[39m\u001b[38;5;28;01mimport\u001b[39;00m JSONAdapter\n\u001b[1;32m     46\u001b[0m \u001b[38;5;28;01mif\u001b[39;00m \u001b[38;5;28misinstance\u001b[39m(e, ContextWindowExceededError) \u001b[38;5;129;01mor\u001b[39;00m \u001b[38;5;28misinstance\u001b[39m(\u001b[38;5;28mself\u001b[39m, JSONAdapter):\n\u001b[1;32m     47\u001b[0m     \u001b[38;5;66;03m# On context window exceeded error or already using JSONAdapter, we don't want to retry with a different\u001b[39;00m\n\u001b[1;32m     48\u001b[0m     \u001b[38;5;66;03m# adapter.\u001b[39;00m\n\u001b[0;32m---> 49\u001b[0m     \u001b[38;5;28;01mraise\u001b[39;00m e\n\u001b[1;32m     50\u001b[0m \u001b[38;5;28;01mreturn\u001b[39;00m JSONAdapter()(lm, lm_kwargs, signature, demos, inputs)\n",
      "File \u001b[0;32m~/anaconda3/envs/macsql/lib/python3.9/site-packages/dspy/adapters/chat_adapter.py:41\u001b[0m, in \u001b[0;36mChatAdapter.__call__\u001b[0;34m(self, lm, lm_kwargs, signature, demos, inputs)\u001b[0m\n\u001b[1;32m     32\u001b[0m \u001b[38;5;28;01mdef\u001b[39;00m\u001b[38;5;250m \u001b[39m\u001b[38;5;21m__call__\u001b[39m(\n\u001b[1;32m     33\u001b[0m     \u001b[38;5;28mself\u001b[39m,\n\u001b[1;32m     34\u001b[0m     lm: LM,\n\u001b[0;32m   (...)\u001b[0m\n\u001b[1;32m     38\u001b[0m     inputs: \u001b[38;5;28mdict\u001b[39m[\u001b[38;5;28mstr\u001b[39m, Any],\n\u001b[1;32m     39\u001b[0m ) \u001b[38;5;241m-\u001b[39m\u001b[38;5;241m>\u001b[39m \u001b[38;5;28mlist\u001b[39m[\u001b[38;5;28mdict\u001b[39m[\u001b[38;5;28mstr\u001b[39m, Any]]:\n\u001b[1;32m     40\u001b[0m     \u001b[38;5;28;01mtry\u001b[39;00m:\n\u001b[0;32m---> 41\u001b[0m         \u001b[38;5;28;01mreturn\u001b[39;00m \u001b[38;5;28;43msuper\u001b[39;49m\u001b[43m(\u001b[49m\u001b[43m)\u001b[49m\u001b[38;5;241;43m.\u001b[39;49m\u001b[38;5;21;43m__call__\u001b[39;49m\u001b[43m(\u001b[49m\u001b[43mlm\u001b[49m\u001b[43m,\u001b[49m\u001b[43m \u001b[49m\u001b[43mlm_kwargs\u001b[49m\u001b[43m,\u001b[49m\u001b[43m \u001b[49m\u001b[43msignature\u001b[49m\u001b[43m,\u001b[49m\u001b[43m \u001b[49m\u001b[43mdemos\u001b[49m\u001b[43m,\u001b[49m\u001b[43m \u001b[49m\u001b[43minputs\u001b[49m\u001b[43m)\u001b[49m\n\u001b[1;32m     42\u001b[0m     \u001b[38;5;28;01mexcept\u001b[39;00m \u001b[38;5;167;01mException\u001b[39;00m \u001b[38;5;28;01mas\u001b[39;00m e:\n\u001b[1;32m     43\u001b[0m         \u001b[38;5;66;03m# fallback to JSONAdapter\u001b[39;00m\n\u001b[1;32m     44\u001b[0m         \u001b[38;5;28;01mfrom\u001b[39;00m\u001b[38;5;250m \u001b[39m\u001b[38;5;21;01mdspy\u001b[39;00m\u001b[38;5;21;01m.\u001b[39;00m\u001b[38;5;21;01madapters\u001b[39;00m\u001b[38;5;21;01m.\u001b[39;00m\u001b[38;5;21;01mjson_adapter\u001b[39;00m\u001b[38;5;250m \u001b[39m\u001b[38;5;28;01mimport\u001b[39;00m JSONAdapter\n",
      "File \u001b[0;32m~/anaconda3/envs/macsql/lib/python3.9/site-packages/dspy/adapters/base.py:52\u001b[0m, in \u001b[0;36mAdapter.__call__\u001b[0;34m(self, lm, lm_kwargs, signature, demos, inputs)\u001b[0m\n\u001b[1;32m     49\u001b[0m inputs \u001b[38;5;241m=\u001b[39m \u001b[38;5;28mself\u001b[39m\u001b[38;5;241m.\u001b[39mformat(signature, demos, inputs)\n\u001b[1;32m     51\u001b[0m outputs \u001b[38;5;241m=\u001b[39m lm(messages\u001b[38;5;241m=\u001b[39minputs, \u001b[38;5;241m*\u001b[39m\u001b[38;5;241m*\u001b[39mlm_kwargs)\n\u001b[0;32m---> 52\u001b[0m \u001b[38;5;28;01mreturn\u001b[39;00m \u001b[38;5;28;43mself\u001b[39;49m\u001b[38;5;241;43m.\u001b[39;49m\u001b[43m_call_post_process\u001b[49m\u001b[43m(\u001b[49m\u001b[43moutputs\u001b[49m\u001b[43m,\u001b[49m\u001b[43m \u001b[49m\u001b[43msignature\u001b[49m\u001b[43m)\u001b[49m\n",
      "File \u001b[0;32m~/anaconda3/envs/macsql/lib/python3.9/site-packages/dspy/adapters/base.py:32\u001b[0m, in \u001b[0;36mAdapter._call_post_process\u001b[0;34m(self, outputs, signature)\u001b[0m\n\u001b[1;32m     29\u001b[0m \u001b[38;5;28;01mif\u001b[39;00m \u001b[38;5;28misinstance\u001b[39m(output, \u001b[38;5;28mdict\u001b[39m):\n\u001b[1;32m     30\u001b[0m     output, output_logprobs \u001b[38;5;241m=\u001b[39m output[\u001b[38;5;124m\"\u001b[39m\u001b[38;5;124mtext\u001b[39m\u001b[38;5;124m\"\u001b[39m], output[\u001b[38;5;124m\"\u001b[39m\u001b[38;5;124mlogprobs\u001b[39m\u001b[38;5;124m\"\u001b[39m]\n\u001b[0;32m---> 32\u001b[0m value \u001b[38;5;241m=\u001b[39m \u001b[38;5;28;43mself\u001b[39;49m\u001b[38;5;241;43m.\u001b[39;49m\u001b[43mparse\u001b[49m\u001b[43m(\u001b[49m\u001b[43msignature\u001b[49m\u001b[43m,\u001b[49m\u001b[43m \u001b[49m\u001b[43moutput\u001b[49m\u001b[43m)\u001b[49m\n\u001b[1;32m     34\u001b[0m \u001b[38;5;28;01mif\u001b[39;00m output_logprobs \u001b[38;5;129;01mis\u001b[39;00m \u001b[38;5;129;01mnot\u001b[39;00m \u001b[38;5;28;01mNone\u001b[39;00m:\n\u001b[1;32m     35\u001b[0m     value[\u001b[38;5;124m\"\u001b[39m\u001b[38;5;124mlogprobs\u001b[39m\u001b[38;5;124m\"\u001b[39m] \u001b[38;5;241m=\u001b[39m output_logprobs\n",
      "File \u001b[0;32m~/anaconda3/envs/macsql/lib/python3.9/site-packages/dspy/utils/callback.py:326\u001b[0m, in \u001b[0;36mwith_callbacks.<locals>.sync_wrapper\u001b[0;34m(instance, *args, **kwargs)\u001b[0m\n\u001b[1;32m    324\u001b[0m callbacks \u001b[38;5;241m=\u001b[39m _get_active_callbacks(instance)\n\u001b[1;32m    325\u001b[0m \u001b[38;5;28;01mif\u001b[39;00m \u001b[38;5;129;01mnot\u001b[39;00m callbacks:\n\u001b[0;32m--> 326\u001b[0m     \u001b[38;5;28;01mreturn\u001b[39;00m \u001b[43mfn\u001b[49m\u001b[43m(\u001b[49m\u001b[43minstance\u001b[49m\u001b[43m,\u001b[49m\u001b[43m \u001b[49m\u001b[38;5;241;43m*\u001b[39;49m\u001b[43margs\u001b[49m\u001b[43m,\u001b[49m\u001b[43m \u001b[49m\u001b[38;5;241;43m*\u001b[39;49m\u001b[38;5;241;43m*\u001b[39;49m\u001b[43mkwargs\u001b[49m\u001b[43m)\u001b[49m\n\u001b[1;32m    328\u001b[0m call_id \u001b[38;5;241m=\u001b[39m uuid\u001b[38;5;241m.\u001b[39muuid4()\u001b[38;5;241m.\u001b[39mhex\n\u001b[1;32m    330\u001b[0m _execute_start_callbacks(instance, fn, call_id, callbacks, args, kwargs)\n",
      "File \u001b[0;32m~/anaconda3/envs/macsql/lib/python3.9/site-packages/dspy/adapters/json_adapter.py:127\u001b[0m, in \u001b[0;36mJSONAdapter.parse\u001b[0;34m(self, signature, completion)\u001b[0m\n\u001b[1;32m    124\u001b[0m fields \u001b[38;5;241m=\u001b[39m json_repair\u001b[38;5;241m.\u001b[39mloads(completion)\n\u001b[1;32m    126\u001b[0m \u001b[38;5;28;01mif\u001b[39;00m \u001b[38;5;129;01mnot\u001b[39;00m \u001b[38;5;28misinstance\u001b[39m(fields, \u001b[38;5;28mdict\u001b[39m):\n\u001b[0;32m--> 127\u001b[0m     \u001b[38;5;28;01mraise\u001b[39;00m \u001b[38;5;167;01mValueError\u001b[39;00m(\u001b[38;5;124mf\u001b[39m\u001b[38;5;124m\"\u001b[39m\u001b[38;5;124mExpected a JSON object but parsed a \u001b[39m\u001b[38;5;132;01m{\u001b[39;00m\u001b[38;5;28mtype\u001b[39m(fields)\u001b[38;5;132;01m}\u001b[39;00m\u001b[38;5;124m\"\u001b[39m)\n\u001b[1;32m    129\u001b[0m fields \u001b[38;5;241m=\u001b[39m {k: v \u001b[38;5;28;01mfor\u001b[39;00m k, v \u001b[38;5;129;01min\u001b[39;00m fields\u001b[38;5;241m.\u001b[39mitems() \u001b[38;5;28;01mif\u001b[39;00m k \u001b[38;5;129;01min\u001b[39;00m signature\u001b[38;5;241m.\u001b[39moutput_fields}\n\u001b[1;32m    131\u001b[0m \u001b[38;5;66;03m# Attempt to cast each value to type signature.output_fields[k].annotation.\u001b[39;00m\n",
      "\u001b[0;31mValueError\u001b[0m: Expected a JSON object but parsed a <class 'str'>"
     ]
    }
   ],
   "source": [
    "# Test SchemaExtractor on a simple database\n",
    "if 'schema_extractor' in locals() and 'schema_manager' in locals() and len(db_ids) > 0:\n",
    "    # Find a simple database that doesn't need pruning\n",
    "    simple_db = None\n",
    "    for db_id in db_ids:\n",
    "        if not schema_manager.is_need_prune(db_id):\n",
    "            simple_db = db_id\n",
    "            break\n",
    "    \n",
    "    if simple_db:\n",
    "        print(f\"Testing SchemaExtractor with simple database ID: {simple_db}\")\n",
    "        \n",
    "        # Get the database schema\n",
    "        schema_info = schema_manager.get_db_schema(simple_db)\n",
    "        \n",
    "        # Create a simple query based on the database schema\n",
    "        table_names = list(schema_info[\"chosen_columns\"].keys())\n",
    "        first_table = table_names[0] if table_names else \"unknown\"\n",
    "        query = f\"List all data from the {first_table} table\"\n",
    "        \n",
    "        print(f\"Query: '{query}'\")\n",
    "\n",
    "        # Run schema extraction\n",
    "        extraction_result = schema_extractor(\n",
    "            db_id=simple_db,\n",
    "            query=query,\n",
    "            db_schema=schema_info[\"schema_str\"],\n",
    "            foreign_keys=schema_info[\"fk_str\"],\n",
    "            evidence=\"\"\n",
    "        )\n",
    "        \n",
    "        # Display extracted schema\n",
    "        print(\"\\nExtracted Schema:\")\n",
    "        print(extraction_result.extracted_schema)\n",
    "        \n",
    "        # Verify if the extraction includes the table mentioned in the query\n",
    "        if first_table in extraction_result.extracted_schema:\n",
    "            print(f\"\\n✅ Successfully extracted {first_table} table\")\n",
    "        else:\n",
    "            print(f\"\\n❌ Failed to extract {first_table} table\")\n",
    "\n",
    "    else:\n",
    "        print(\"No simple database found for testing\")\n",
    "else:\n",
    "    print(\"SchemaExtractor or SchemaManager not properly initialized\")"
   ]
  },
  {
   "cell_type": "markdown",
   "metadata": {},
   "source": [
    "## 6. Test SchemaExtractor on Complex Database"
   ]
  },
  {
   "cell_type": "code",
   "execution_count": null,
   "metadata": {},
   "outputs": [],
   "source": [
    "# Test SchemaExtractor on a complex database\n",
    "if 'schema_extractor' in locals() and 'schema_manager' in locals() and len(db_ids) > 0:\n",
    "    # Find a complex database that needs pruning\n",
    "    complex_db = None\n",
    "    for db_id in db_ids:\n",
    "        if schema_manager.is_need_prune(db_id):\n",
    "            complex_db = db_id\n",
    "            break\n",
    "    \n",
    "    if complex_db:\n",
    "        print(f\"Testing SchemaExtractor with complex database ID: {complex_db}\")\n",
    "        \n",
    "        # Get the database schema\n",
    "        schema_info = schema_manager.get_db_schema(complex_db)\n",
    "        \n",
    "        # Create a query that might require specific tables\n",
    "        table_names = list(schema_info[\"chosen_columns\"].keys())\n",
    "        \n",
    "        if len(table_names) >= 2:\n",
    "            table1 = table_names[0]\n",
    "            table2 = table_names[1]\n",
    "            query = f\"Show data from {table1} related to {table2}\"\n",
    "        else:\n",
    "            first_table = table_names[0] if table_names else \"unknown\"\n",
    "            query = f\"Show me information from the {first_table} table\"\n",
    "        \n",
    "        print(f\"Query: '{query}'\")\n",
    "        print(f\"Database has {len(table_names)} tables and is complex enough to need pruning\")\n",
    "        \n",
    "        try:\n",
    "            # Start timer\n",
    "            start_time = time.time()\n",
    "            \n",
    "            # Run schema extraction\n",
    "            extraction_result = schema_extractor(\n",
    "                db_id=complex_db,\n",
    "                query=query,\n",
    "                db_schema=schema_info[\"schema_str\"],\n",
    "                foreign_keys=schema_info[\"fk_str\"],\n",
    "                evidence=\"\"\n",
    "            )\n",
    "            \n",
    "            # Calculate processing time\n",
    "            extraction_time = time.time() - start_time\n",
    "            \n",
    "            # Display extraction results\n",
    "            print(f\"\\nExtraction completed in {extraction_time:.2f} seconds\")\n",
    "            print(\"\\nExtracted Schema:\")\n",
    "            print(extraction_result.extracted_schema)\n",
    "            \n",
    "            # Analyze extraction results\n",
    "            extracted_tables = list(extraction_result.extracted_schema.keys())\n",
    "            extraction_ratio = len(extracted_tables) / len(table_names) * 100\n",
    "            \n",
    "            print(f\"\\nExtracted {len(extracted_tables)} out of {len(table_names)} tables ({extraction_ratio:.1f}%)\")\n",
    "            \n",
    "            # Check if tables mentioned in the query were extracted\n",
    "            if len(table_names) >= 2:\n",
    "                if table1 in extracted_tables and table2 in extracted_tables:\n",
    "                    print(f\"✅ Successfully extracted both {table1} and {table2} tables mentioned in the query\")\n",
    "                elif table1 in extracted_tables:\n",
    "                    print(f\"⚠️ Extracted {table1} but missed {table2}\")\n",
    "                elif table2 in extracted_tables:\n",
    "                    print(f\"⚠️ Extracted {table2} but missed {table1}\")\n",
    "                else:\n",
    "                    print(f\"❌ Failed to extract either {table1} or {table2}\")\n",
    "            else:\n",
    "                first_table = table_names[0] if table_names else \"unknown\"\n",
    "                if first_table in extracted_tables:\n",
    "                    print(f\"✅ Successfully extracted {first_table} mentioned in the query\")\n",
    "                else:\n",
    "                    print(f\"❌ Failed to extract {first_table}\")\n",
    "        except Exception as e:\n",
    "            print(f\"\\n❌ Error running SchemaExtractor: {e}\")\n",
    "    else:\n",
    "        print(\"No complex database found for testing\")\n",
    "else:\n",
    "    print(\"SchemaExtractor or SchemaManager not properly initialized\")"
   ]
  },
  {
   "cell_type": "markdown",
   "metadata": {},
   "source": [
    "## 7. Test Different Query Types"
   ]
  },
  {
   "cell_type": "code",
   "execution_count": null,
   "metadata": {},
   "outputs": [],
   "source": [
    "# Test different query types on a sample database\n",
    "if 'schema_extractor' in locals() and 'schema_manager' in locals() and len(db_ids) > 0:\n",
    "    # Use the first database for testing different queries\n",
    "    sample_db = db_ids[0]\n",
    "    \n",
    "    # Get the database schema\n",
    "    schema_info = schema_manager.get_db_schema(sample_db)\n",
    "    table_names = list(schema_info[\"chosen_columns\"].keys())\n",
    "    \n",
    "    # Skip if there are no tables\n",
    "    if not table_names:\n",
    "        print(f\"No tables found in database {sample_db}\")\n",
    "    else:\n",
    "        print(f\"Testing different query types on database: {sample_db}\")\n",
    "        print(f\"Database has tables: {table_names}\")\n",
    "        \n",
    "        # Create different types of queries\n",
    "        first_table = table_names[0]\n",
    "        \n",
    "        queries = [\n",
    "            f\"How many records are in the {first_table} table?\",  # Count query\n",
    "            f\"What is the average value in {first_table}?\",  # Aggregation query\n",
    "            f\"Find the top 5 records in {first_table}\",  # Limit query\n",
    "            \"Show all tables in the database\",  # Schema exploration\n",
    "            \"Generate a complex report spanning multiple tables\"  # Complex query\n",
    "        ]\n",
    "        \n",
    "        for i, query in enumerate(queries, 1):\n",
    "            print(f\"\\n===== Query {i}: '{query}' =====\")\n",
    "            \n",
    "            try:\n",
    "                # Run schema extraction\n",
    "                extraction_result = schema_extractor(\n",
    "                    db_id=sample_db,\n",
    "                    query=query,\n",
    "                    db_schema=schema_info[\"schema_str\"],\n",
    "                    foreign_keys=schema_info[\"fk_str\"],\n",
    "                    evidence=\"\"\n",
    "                )\n",
    "                \n",
    "                # Display extracted schema\n",
    "                print(\"Extracted Schema:\")\n",
    "                print(extraction_result.extracted_schema)\n",
    "                \n",
    "                # Count extracted tables\n",
    "                extracted_tables = list(extraction_result.extracted_schema.keys())\n",
    "                print(f\"Extracted {len(extracted_tables)} tables\")\n",
    "                \n",
    "                # For the last query (complex), we expect multiple tables\n",
    "                if i == 5 and len(extracted_tables) > 1:\n",
    "                    print(\"✅ Successfully extracted multiple tables for complex query\")\n",
    "                elif i < 4 and first_table in extracted_tables:\n",
    "                    print(f\"✅ Successfully extracted {first_table} table mentioned in the query\")\n",
    "                elif i == 4 and len(extracted_tables) > 0:\n",
    "                    print(\"✅ Successfully extracted some tables for schema exploration query\")\n",
    "                else:\n",
    "                    print(\"⚠️ Extraction may not be optimal for this query\")\n",
    "            except Exception as e:\n",
    "                print(f\"❌ Error running SchemaExtractor: {e}\")\n",
    "else:\n",
    "    print(\"SchemaExtractor or SchemaManager not properly initialized\")"
   ]
  },
  {
   "cell_type": "markdown",
   "metadata": {},
   "source": [
    "## 8. Conclusion"
   ]
  },
  {
   "cell_type": "markdown",
   "metadata": {},
   "source": [
    "This notebook has tested the SchemaExtractor component, which is responsible for extracting relevant tables and columns from database schemas based on natural language queries. The tests covered:\n",
    "\n",
    "1. **Simple Database Testing** - How the extractor performs on small, straightforward schemas\n",
    "2. **Complex Database Testing** - How the extractor performs on large, complex schemas that need pruning\n",
    "3. **Query Type Testing** - How different types of queries affect extraction results\n",
    "\n",
    "The SchemaExtractor is a critical component of the Text-to-SQL system, as it reduces the complexity of large database schemas for the subsequent SQL generation steps, which improves both performance and accuracy."
   ]
  }
 ],
 "metadata": {
  "kernelspec": {
   "display_name": "Python 3 (ipykernel)",
   "language": "python",
   "name": "python3"
  },
  "language_info": {
   "codemirror_mode": {
    "name": "ipython",
    "version": 3
   },
   "file_extension": ".py",
   "mimetype": "text/x-python",
   "name": "python",
   "nbconvert_exporter": "python",
   "pygments_lexer": "ipython3",
   "version": "3.9.21"
  }
 },
 "nbformat": 4,
 "nbformat_minor": 4
}
