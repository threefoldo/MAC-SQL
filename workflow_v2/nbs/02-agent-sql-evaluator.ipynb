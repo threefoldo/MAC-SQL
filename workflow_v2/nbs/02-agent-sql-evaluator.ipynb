{
 "cells": [
  {
   "cell_type": "markdown",
   "id": "51bb0d45",
   "metadata": {},
   "source": [
    "# SQL Evaluator Agent Test\n",
    "\n",
    "This notebook tests the SQLEvaluatorAgent which automatically:\n",
    "1. Finds SQL from the query tree node\n",
    "2. Executes the SQL against the database\n",
    "3. Analyzes the results to determine if they answer the user's intent\n",
    "\n",
    "## Key Requirements\n",
    "- The database path must be set in memory with key \"database_path\"\n",
    "- The node must have SQL generated (status should be 'sql_generated')\n",
    "- The agent is invoked with format: `node:{node_id} - Analyze SQL execution results`"
   ]
  },
  {
   "cell_type": "code",
   "execution_count": 1,
   "id": "b9d6c616-7eca-4e39-baa1-380335e2fd5d",
   "metadata": {},
   "outputs": [],
   "source": [
    "import os\n",
    "import sys\n",
    "import asyncio\n",
    "import sqlite3\n",
    "import json\n",
    "import logging\n",
    "import re\n",
    "from typing import Dict, Any, List, Optional\n",
    "from dotenv import load_dotenv\n",
    "\n",
    "sys.path.append('../src')\n",
    "load_dotenv()\n",
    "\n",
    "# Set up logging\n",
    "logging.basicConfig(level=logging.INFO, \n",
    "                    format='%(asctime)s - %(name)s - %(levelname)s - %(message)s')\n",
    "\n",
    "# Reduce noise from autogen\n",
    "logging.getLogger('autogen_core').setLevel(logging.WARNING)"
   ]
  },
  {
   "cell_type": "code",
   "execution_count": 2,
   "id": "041dff4d-bfdb-441d-93b6-dc659fc9c949",
   "metadata": {},
   "outputs": [],
   "source": [
    "from pathlib import Path\n",
    "from keyvalue_memory import KeyValueMemory\n",
    "from task_context_manager import TaskContextManager\n",
    "from query_tree_manager import QueryTreeManager\n",
    "from database_schema_manager import DatabaseSchemaManager\n",
    "from node_history_manager import NodeHistoryManager\n",
    "from query_analyzer_agent import QueryAnalyzerAgent\n",
    "from schema_reader import SchemaReader\n",
    "from memory_content_types import (\n",
    "    TaskContext, QueryNode, NodeStatus, TaskStatus,\n",
    "    QueryMapping, TableMapping, ColumnMapping, JoinMapping,\n",
    "    TableSchema, ColumnInfo, CombineStrategyType\n",
    ")\n",
    "from sql_evaluator_agent import SQLEvaluatorAgent\n",
    "\n",
    "data_path = \"/home/norman/work/text-to-sql/MAC-SQL/data/bird\"\n",
    "tables_json_path = Path(data_path) / \"dev_tables.json\"\n",
    "db_name = \"california_schools\""
   ]
  },
  {
   "cell_type": "code",
   "execution_count": 3,
   "id": "784f2338-0a08-46c0-bff4-67f4f474a09a",
   "metadata": {},
   "outputs": [
    {
     "name": "stderr",
     "output_type": "stream",
     "text": [
      "2025-05-25 08:41:44,237 - TaskContextManager - INFO - Initialized task context for task experimental-test\n"
     ]
    },
    {
     "name": "stdout",
     "output_type": "stream",
     "text": [
      "load json file from /home/norman/work/text-to-sql/MAC-SQL/data/bird/dev_tables.json\n",
      "\n",
      "Loading all database info...\n",
      "Found 11 databases in bird dataset\n"
     ]
    },
    {
     "name": "stderr",
     "output_type": "stream",
     "text": [
      "2025-05-25 08:41:56,680 - DatabaseSchemaManager - INFO - Initialized empty database schema\n",
      "2025-05-25 08:41:56,680 - DatabaseSchemaManager - INFO - Added table 'frpm' to schema\n",
      "2025-05-25 08:41:56,681 - DatabaseSchemaManager - INFO - Added table 'satscores' to schema\n",
      "2025-05-25 08:41:56,682 - DatabaseSchemaManager - INFO - Added table 'schools' to schema\n",
      "2025-05-25 08:41:56,682 - DatabaseSchemaManager - INFO - Loaded schema for database 'california_schools' with 3 tables\n",
      "2025-05-25 08:41:56,682 - QueryTreeManager - INFO - Initialized query tree with root node node_1748176916.682731_root\n",
      "2025-05-25 08:41:56,683 - QueryTreeManager - INFO - Updated node node_1748176916.682731_root\n"
     ]
    }
   ],
   "source": [
    "task_id = \"experimental-test\"\n",
    "\n",
    "query = \"What is the highest eligible free rate in Alameda County?\"\n",
    "intent=\"Find the maximum eligible free rate for K-12 students in schools located in Alameda County\"\n",
    "memory = KeyValueMemory()\n",
    "\n",
    "# Initialize task\n",
    "task_manager = TaskContextManager(memory)\n",
    "await task_manager.initialize(task_id, query, db_name)\n",
    "\n",
    "# Load schema - this will automatically store data_path and dataset_name in metadata\n",
    "schema_manager = DatabaseSchemaManager(memory)\n",
    "# Note: we no longer call initialize() here since load_from_schema_reader will do it\n",
    "\n",
    "schema_reader = SchemaReader(\n",
    "    data_path=data_path,\n",
    "    tables_json_path=str(tables_json_path),\n",
    "    dataset_name=\"bird\",\n",
    "    lazy=False\n",
    ")\n",
    "await schema_manager.load_from_schema_reader(schema_reader, db_name)\n",
    "\n",
    "sql = \"\"\"\n",
    "    SELECT MAX(f.\"Eligible Free Rate (K-12)\") as max_rate\n",
    "    FROM schools s\n",
    "    JOIN frpm f ON s.CDSCode = f.CDSCode\n",
    "    WHERE s.County = 'Alameda'\n",
    "    \"\"\"\n",
    "tree_manager = QueryTreeManager(memory)\n",
    "        \n",
    "# Create node\n",
    "node_id = await tree_manager.initialize(intent)\n",
    "\n",
    "# Update node with SQL\n",
    "await tree_manager.update_node_sql(node_id, sql)"
   ]
  },
  {
   "cell_type": "code",
   "execution_count": 4,
   "id": "d3d562e3-ae67-4ba3-acd3-ff1676c91b16",
   "metadata": {},
   "outputs": [
    {
     "name": "stderr",
     "output_type": "stream",
     "text": [
      "2025-05-25 08:41:56,703 - SQLEvaluatorAgent - DEBUG - Created AssistantAgent: sql_evaluator\n",
      "2025-05-25 08:41:56,703 - SQLEvaluatorAgent - DEBUG - Created MemoryAgentTool for sql_evaluator\n",
      "2025-05-25 08:41:56,704 - SQLEvaluatorAgent - INFO - Initialized sql_evaluator with model gpt-4o\n"
     ]
    }
   ],
   "source": [
    "agent = SQLEvaluatorAgent(memory, llm_config={\n",
    "    \"model_name\": \"gpt-4o\",\n",
    "    \"temperature\": 0.1,\n",
    "    \"timeout\": 60\n",
    "}, debug=True)"
   ]
  },
  {
   "cell_type": "code",
   "execution_count": 5,
   "id": "6a3cd336-ad50-4a92-b770-ec43fd567a7f",
   "metadata": {},
   "outputs": [
    {
     "name": "stdout",
     "output_type": "stream",
     "text": [
      "=== Memory Store Summary ===\n",
      "Total items: 7\n",
      "\n",
      "Keys (most recent values):\n",
      "  - queryTree (JSON)\n",
      "  - databaseSchema (JSON)\n",
      "  - taskContext (JSON)\n"
     ]
    }
   ],
   "source": [
    "content = await memory.show_all('summary')\n",
    "print(content)"
   ]
  },
  {
   "cell_type": "code",
   "execution_count": 6,
   "id": "63cdbaad",
   "metadata": {},
   "outputs": [
    {
     "name": "stdout",
     "output_type": "stream",
     "text": [
      "Node ID: node_1748176916.682731_root\n",
      "Node Intent: Find the maximum eligible free rate for K-12 students in schools located in Alameda County\n",
      "Node SQL: \n",
      "    SELECT MAX(f.\"Eligible Free Rate (K-12)\") as max_rate\n",
      "    FROM schools s\n",
      "    JOIN frpm f ON s.CDSCode = f.CDSCode\n",
      "    WHERE s.County = 'Alameda'\n",
      "    \n",
      "Node Status: NodeStatus.SQL_GENERATED\n",
      "Has execution result: False\n"
     ]
    }
   ],
   "source": [
    "# Verify the node has SQL\n",
    "node = await tree_manager.get_node(node_id)\n",
    "print(f\"Node ID: {node_id}\")\n",
    "print(f\"Node Intent: {node.intent}\")\n",
    "print(f\"Node SQL: {node.sql}\")\n",
    "print(f\"Node Status: {node.status}\")\n",
    "print(f\"Has execution result: {node.executionResult is not None}\")"
   ]
  },
  {
   "cell_type": "code",
   "execution_count": 7,
   "id": "6650d0f2",
   "metadata": {},
   "outputs": [
    {
     "name": "stdout",
     "output_type": "stream",
     "text": [
      "Database Schema Metadata:\n",
      "  data_path: /home/norman/work/text-to-sql/MAC-SQL/data/bird\n",
      "  dataset_name: bird\n",
      "  database_id: california_schools\n"
     ]
    }
   ],
   "source": [
    "# Check the database schema metadata\n",
    "db_schema = await memory.get(\"databaseSchema\")\n",
    "if db_schema and \"metadata\" in db_schema:\n",
    "    print(\"Database Schema Metadata:\")\n",
    "    for key, value in db_schema[\"metadata\"].items():\n",
    "        print(f\"  {key}: {value}\")\n",
    "else:\n",
    "    print(\"No metadata found in database schema\")"
   ]
  },
  {
   "cell_type": "code",
   "execution_count": 8,
   "id": "b07f1a0a-7783-4c8d-a383-f92d08e625b8",
   "metadata": {},
   "outputs": [
    {
     "name": "stderr",
     "output_type": "stream",
     "text": [
      "2025-05-25 08:41:56,724 - SQLEvaluatorAgent - INFO - Executing SQL for node node_1748176916.682731_root on database california_schools\n",
      "2025-05-25 08:41:56,724 - SQLEvaluatorAgent - DEBUG - Using data_path: /home/norman/work/text-to-sql/MAC-SQL/data/bird, dataset_name: bird\n",
      "2025-05-25 08:41:56,724 - QueryTreeManager - INFO - Updated node node_1748176916.682731_root\n",
      "2025-05-25 08:41:56,725 - SQLEvaluatorAgent - DEBUG - SQL evaluator context prepared with result status: success\n"
     ]
    },
    {
     "name": "stdout",
     "output_type": "stream",
     "text": [
      "[SQLExecutor] Connecting to database: /home/norman/work/text-to-sql/MAC-SQL/data/bird/dev_databases/california_schools/california_schools.sqlite\n"
     ]
    },
    {
     "name": "stderr",
     "output_type": "stream",
     "text": [
      "2025-05-25 08:42:00,823 - httpx - INFO - HTTP Request: POST https://api.openai.com/v1/chat/completions \"HTTP/1.1 200 OK\"\n",
      "2025-05-25 08:42:00,826 - SQLEvaluatorAgent - INFO - Stored analysis for node node_1748176916.682731_root - Answers intent: no, Quality: poor\n",
      "2025-05-25 08:42:00,826 - SQLEvaluatorAgent - INFO - Analysis complete - Answers intent: no, Quality: poor\n"
     ]
    }
   ],
   "source": [
    "# Now run the SQL evaluator with the node_id\n",
    "# The agent should automatically find the SQL from the node and execute it\n",
    "result = await agent.run(f\"node:{node_id} - Analyze SQL execution results\")"
   ]
  },
  {
   "cell_type": "code",
   "execution_count": 9,
   "id": "309e66e0",
   "metadata": {},
   "outputs": [
    {
     "name": "stdout",
     "output_type": "stream",
     "text": [
      "Analysis Results:\n",
      "  Answers Intent: no\n",
      "  Result Quality: poor\n",
      "  Result Summary: The query execution returned no data, indicating that it did not successfully find the maximum eligible free rate for K-12 students in Alameda County.\n",
      "  Confidence Score: 0.7\n",
      "\n",
      "Issues Found:\n",
      "  - Type: data_quality, Severity: high\n",
      "    Description: The result set is empty, which suggests that there may be no matching records in the database or an issue with the data.\n",
      "  - Type: logic, Severity: high\n",
      "    Description: The query may not be correctly identifying or joining the relevant tables, or there may be no data for Alameda County in the 'schools' or 'frpm' tables.\n",
      "\n",
      "Suggestions:\n",
      "  - Verify that the 'schools' and 'frpm' tables contain data for Alameda County and that the 'CDSCode' fields are correctly populated and matched.\n",
      "  - Check if there are any filters or conditions in the database that might be excluding Alameda County data.\n",
      "  - Consider adding error handling or logging to capture more information about why no data is returned.\n"
     ]
    }
   ],
   "source": [
    "# Get the analysis results\n",
    "analysis = await memory.get(\"execution_analysis\")\n",
    "if analysis:\n",
    "    print(\"Analysis Results:\")\n",
    "    print(f\"  Answers Intent: {analysis.get('answers_intent')}\")\n",
    "    print(f\"  Result Quality: {analysis.get('result_quality')}\")\n",
    "    print(f\"  Result Summary: {analysis.get('result_summary')}\")\n",
    "    print(f\"  Confidence Score: {analysis.get('confidence_score')}\")\n",
    "    \n",
    "    if analysis.get('issues'):\n",
    "        print(\"\\nIssues Found:\")\n",
    "        for issue in analysis['issues']:\n",
    "            print(f\"  - Type: {issue.get('type')}, Severity: {issue.get('severity')}\")\n",
    "            print(f\"    Description: {issue.get('description')}\")\n",
    "    \n",
    "    if analysis.get('suggestions'):\n",
    "        print(\"\\nSuggestions:\")\n",
    "        for suggestion in analysis['suggestions']:\n",
    "            print(f\"  - {suggestion}\")\n",
    "else:\n",
    "    print(\"No analysis results found\")"
   ]
  },
  {
   "cell_type": "code",
   "execution_count": 10,
   "id": "c29d4cfd-095a-4fd5-96a7-6be316ee7744",
   "metadata": {},
   "outputs": [
    {
     "name": "stdout",
     "output_type": "stream",
     "text": [
      "\n",
      "[user]:\n",
      "I'm providing you with context from previous interactions:\n",
      "\n",
      "### Node Id\n",
      "node_1748176916.682731_root\n",
      "\n",
      "### Intent\n",
      "Find the maximum eligible free rate for K-12 students in schools located in Alameda County\n",
      "\n",
      "### Sql\n",
      "\n",
      "    SELECT MAX(f.\"Eligible Free Rate (K-12)\") as max_rate\n",
      "    FROM schools s\n",
      "    JOIN frpm f ON s.CDSCode = f.CDSCode\n",
      "    WHERE s.County = 'Alameda'\n",
      "    \n",
      "\n",
      "### Execution Result\n",
      "- status: success\n",
      "- columns: []\n",
      "- data: []\n",
      "- row_count: 0\n",
      "- execution_time: None\n",
      "\n",
      "node:node_1748176916.682731_root - Analyze SQL execution results\n",
      "--------------------------------------------------------------------------------\n",
      "\n",
      "[sql_evaluator]:\n",
      "<evaluation>\n",
      "  <answers_intent>no</answers_intent>\n",
      "  <result_quality>poor</result_quality>\n",
      "  <result_summary>The query execution returned no data, indicating that it did not successfully find the maximum eligible free rate for K-12 students in Alameda County.</result_summary>\n",
      "  <issues>\n",
      "    <issue>\n",
      "      <type>data_quality</type>\n",
      "      <description>The result set is empty, which suggests that there may be no matching records in the database or an issue with the data.</description>\n",
      "      <severity>high</severity>\n",
      "    </issue>\n",
      "    <issue>\n",
      "      <type>logic</type>\n",
      "      <description>The query may not be correctly identifying or joining the relevant tables, or there may be no data for Alameda County in the 'schools' or 'frpm' tables.</description>\n",
      "      <severity>high</severity>\n",
      "    </issue>\n",
      "  </issues>\n",
      "  <suggestions>\n",
      "    <suggestion>Verify that the 'schools' and 'frpm' tables contain data for Alameda County and that the 'CDSCode' fields are correctly populated and matched.</suggestion>\n",
      "    <suggestion>Check if there are any filters or conditions in the database that might be excluding Alameda County data.</suggestion>\n",
      "    <suggestion>Consider adding error handling or logging to capture more information about why no data is returned.</suggestion>\n",
      "  </suggestions>\n",
      "  <confidence_score>0.7</confidence_score>\n",
      "</evaluation>\n",
      "--------------------------------------------------------------------------------\n"
     ]
    }
   ],
   "source": [
    "# Check the messages\n",
    "for message in result.messages:\n",
    "    print(f\"\\n[{getattr(message, 'source', 'Unknown')}]:\")\n",
    "    print(message.content)\n",
    "    print(\"-\" * 80)"
   ]
  }
 ],
 "metadata": {
  "kernelspec": {
   "display_name": "Python 3 (ipykernel)",
   "language": "python",
   "name": "python3"
  },
  "language_info": {
   "codemirror_mode": {
    "name": "ipython",
    "version": 3
   },
   "file_extension": ".py",
   "mimetype": "text/x-python",
   "name": "python",
   "nbconvert_exporter": "python",
   "pygments_lexer": "ipython3",
   "version": "3.12.9"
  }
 },
 "nbformat": 4,
 "nbformat_minor": 5
}
