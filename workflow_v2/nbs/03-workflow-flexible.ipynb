{
 "cells": [
  {
   "cell_type": "markdown",
   "metadata": {},
   "source": [
    "# Flexible Orchestrator Workflow\n",
    "\n",
    "This notebook demonstrates a simplified text-to-SQL workflow where:\n",
    "1. The orchestrator only decides which tool to call next\n",
    "2. Each tool operates on the current node (determined by the code, not LLM)\n",
    "3. Tools are called with minimal input - they know what to do\n",
    "4. The orchestrator's job is to call tools or TERMINATE\n",
    "\n",
    "## Key Differences from Previous Versions:\n",
    "- **No node IDs in tool calls** - the current node is managed automatically\n",
    "- **Simple tool calls** - tools need minimal parameters\n",
    "- **Task status checker** - provides clear ACTION directives for the orchestrator"
   ]
  },
  {
   "cell_type": "code",
   "execution_count": 1,
   "metadata": {},
   "outputs": [
    {
     "name": "stdout",
     "output_type": "stream",
     "text": [
      "OPENAI_API_KEY found in environment\n"
     ]
    }
   ],
   "source": [
    "import os\n",
    "import sys\n",
    "import asyncio\n",
    "import logging\n",
    "from pathlib import Path\n",
    "from typing import Dict, Any, List, Optional\n",
    "from dotenv import load_dotenv\n",
    "\n",
    "sys.path.append('../src')\n",
    "load_dotenv()\n",
    "\n",
    "# Important: For running this notebook, ensure OPENAI_API_KEY is set\n",
    "# You can run: source ../.env && export OPENAI_API_KEY\n",
    "# Or set it here directly (not recommended for production)\n",
    "if not os.getenv(\"OPENAI_API_KEY\"):\n",
    "    print(\"WARNING: OPENAI_API_KEY not found in environment\")\n",
    "    print(\"Run: source ../.env && export OPENAI_API_KEY\")\n",
    "else:\n",
    "    print(\"OPENAI_API_KEY found in environment\")\n",
    "\n",
    "# Set up logging - disable most debug messages but keep LLM calls\n",
    "logging.basicConfig(level=logging.INFO, \n",
    "                    format='%(asctime)s - %(name)s - %(levelname)s - %(message)s')\n",
    "\n",
    "# Keep autogen_core.events at INFO to see LLM calls\n",
    "logging.getLogger('autogen_core.events').setLevel(logging.WARNING)\n",
    "\n",
    "# Disable other noisy loggers\n",
    "logging.getLogger('autogen_core').setLevel(logging.WARNING)\n",
    "logging.getLogger('autogen_agentchat').setLevel(logging.WARNING)\n",
    "logging.getLogger('httpx').setLevel(logging.WARNING)\n",
    "logging.getLogger('openai').setLevel(logging.WARNING)\n",
    "logging.getLogger('httpcore').setLevel(logging.WARNING)\n",
    "logging.getLogger('httpcore.connection').setLevel(logging.WARNING)\n",
    "logging.getLogger('httpcore.http11').setLevel(logging.WARNING)"
   ]
  },
  {
   "cell_type": "code",
   "execution_count": 2,
   "metadata": {},
   "outputs": [],
   "source": [
    "# Memory and managers\n",
    "from keyvalue_memory import KeyValueMemory\n",
    "from task_context_manager import TaskContextManager\n",
    "from query_tree_manager import QueryTreeManager\n",
    "from database_schema_manager import DatabaseSchemaManager\n",
    "from node_history_manager import NodeHistoryManager\n",
    "\n",
    "# Schema reader\n",
    "from schema_reader import SchemaReader\n",
    "\n",
    "# All 4 agents + task status checker\n",
    "from query_analyzer_agent import QueryAnalyzerAgent\n",
    "from schema_linker_agent import SchemaLinkerAgent\n",
    "from sql_generator_agent import SQLGeneratorAgent\n",
    "from sql_evaluator_agent import SQLEvaluatorAgent\n",
    "from task_status_checker import TaskStatusChecker\n",
    "\n",
    "# Memory types\n",
    "from memory_content_types import (\n",
    "    TaskContext, QueryNode, NodeStatus, TaskStatus,\n",
    "    QueryMapping, TableMapping, ColumnMapping, JoinMapping,\n",
    "    TableSchema, ColumnInfo, ExecutionResult\n",
    ")\n",
    "\n",
    "# AutoGen components\n",
    "from autogen_agentchat.agents import AssistantAgent\n",
    "from autogen_agentchat.conditions import TextMentionTermination\n",
    "from autogen_agentchat.teams import RoundRobinGroupChat\n",
    "from autogen_ext.models.openai import OpenAIChatCompletionClient"
   ]
  },
  {
   "cell_type": "code",
   "execution_count": 3,
   "metadata": {},
   "outputs": [],
   "source": [
    "# Initialize shared memory\n",
    "memory = KeyValueMemory()\n",
    "\n",
    "# Initialize managers\n",
    "task_manager = TaskContextManager(memory)\n",
    "tree_manager = QueryTreeManager(memory)\n",
    "schema_manager = DatabaseSchemaManager(memory)\n",
    "history_manager = NodeHistoryManager(memory)"
   ]
  },
  {
   "cell_type": "code",
   "execution_count": 4,
   "metadata": {},
   "outputs": [
    {
     "name": "stderr",
     "output_type": "stream",
     "text": [
      "2025-05-26 19:11:06,887 - TaskContextManager - INFO - Initialized task context for task flexible_demo_001\n"
     ]
    },
    {
     "name": "stdout",
     "output_type": "stream",
     "text": [
      "Query: Find the top 5 counties by average SAT scores, including the number of schools and average free lunch rate\n",
      "--------------------------------------------------------------------------------\n",
      "load json file from /home/norman/work/text-to-sql/MAC-SQL/data/bird/dev_tables.json\n",
      "\n",
      "Loading all database info...\n",
      "Found 11 databases in bird dataset\n"
     ]
    },
    {
     "name": "stderr",
     "output_type": "stream",
     "text": [
      "2025-05-26 19:11:19,450 - DatabaseSchemaManager - INFO - Initialized empty database schema\n",
      "2025-05-26 19:11:19,451 - DatabaseSchemaManager - INFO - Added table 'frpm' to schema\n",
      "2025-05-26 19:11:19,451 - DatabaseSchemaManager - INFO - Added table 'satscores' to schema\n",
      "2025-05-26 19:11:19,452 - DatabaseSchemaManager - INFO - Added table 'schools' to schema\n",
      "2025-05-26 19:11:19,452 - DatabaseSchemaManager - INFO - Loaded schema for database 'california_schools' with 3 tables\n"
     ]
    },
    {
     "name": "stdout",
     "output_type": "stream",
     "text": [
      "\n",
      "Loaded 'california_schools' database:\n",
      "  Tables: 3\n",
      "  Columns: 89\n",
      "  Foreign keys: 2\n"
     ]
    }
   ],
   "source": [
    "# Database configuration\n",
    "data_path = \"/home/norman/work/text-to-sql/MAC-SQL/data/bird\"\n",
    "tables_json_path = Path(data_path) / \"dev_tables.json\"\n",
    "db_name = \"california_schools\"\n",
    "\n",
    "# Test queries\n",
    "test_queries = [\n",
    "    \"What is the highest eligible free rate for K-12 students in schools located in Alameda County?\",\n",
    "    \"Show me schools with SAT scores above 1400 and their free lunch eligibility rates\",\n",
    "    \"Find the top 5 counties by average SAT scores, including the number of schools and average free lunch rate\"\n",
    "]\n",
    "\n",
    "# Pick a query (try different ones!)\n",
    "test_query = test_queries[2]\n",
    "print(f\"Query: {test_query}\")\n",
    "print(\"-\" * 80)\n",
    "\n",
    "# Initialize task\n",
    "task_id = \"flexible_demo_001\"\n",
    "await task_manager.initialize(task_id, test_query, db_name)\n",
    "\n",
    "# Load schema\n",
    "schema_reader = SchemaReader(\n",
    "    data_path=data_path,\n",
    "    tables_json_path=str(tables_json_path),\n",
    "    dataset_name=\"bird\",\n",
    "    lazy=False\n",
    ")\n",
    "\n",
    "await schema_manager.load_from_schema_reader(schema_reader, db_name)\n",
    "\n",
    "# Get schema summary\n",
    "summary = await schema_manager.get_schema_summary()\n",
    "print(f\"\\nLoaded '{db_name}' database:\")\n",
    "print(f\"  Tables: {summary['table_count']}\")\n",
    "print(f\"  Columns: {summary['total_columns']}\")\n",
    "print(f\"  Foreign keys: {summary['total_foreign_keys']}\")"
   ]
  },
  {
   "cell_type": "code",
   "execution_count": 5,
   "metadata": {},
   "outputs": [
    {
     "name": "stderr",
     "output_type": "stream",
     "text": [
      "2025-05-26 19:11:19,474 - QueryAnalyzerAgent - INFO - Initialized query_analyzer with model gpt-4o\n",
      "2025-05-26 19:11:19,485 - SchemaLinkerAgent - INFO - Initialized schema_linker with model gpt-4o\n",
      "2025-05-26 19:11:19,495 - SQLGeneratorAgent - INFO - Initialized sql_generator with model gpt-4o\n",
      "2025-05-26 19:11:19,506 - SQLEvaluatorAgent - INFO - Initialized sql_evaluator with model gpt-4o\n"
     ]
    }
   ],
   "source": [
    "# LLM configuration\n",
    "llm_config = {\n",
    "    \"model_name\": \"gpt-4o\",\n",
    "    \"temperature\": 0.1,\n",
    "    \"timeout\": 60\n",
    "}\n",
    "\n",
    "# Initialize all agents\n",
    "query_analyzer = QueryAnalyzerAgent(memory, llm_config)\n",
    "schema_linker = SchemaLinkerAgent(memory, llm_config)\n",
    "sql_generator = SQLGeneratorAgent(memory, llm_config)\n",
    "sql_evaluator = SQLEvaluatorAgent(memory, llm_config)\n",
    "\n",
    "# Initialize TaskStatusChecker (no LLM config needed)\n",
    "task_status_checker = TaskStatusChecker(memory)"
   ]
  },
  {
   "cell_type": "code",
   "execution_count": 6,
   "metadata": {},
   "outputs": [],
   "source": [
    "# Initialize OpenAI client for coordinator\n",
    "coordinator_client = OpenAIChatCompletionClient(\n",
    "    model=\"gpt-4o\",\n",
    "    temperature=0.1,\n",
    "    timeout=120,\n",
    "    api_key=os.getenv(\"OPENAI_API_KEY\")\n",
    ")\n",
    "\n",
    "# Create flexible coordinator with status-based decision making\n",
    "coordinator = AssistantAgent(\n",
    "    name=\"coordinator\",\n",
    "    system_message=\"\"\"You are a smart orchestrator for a text-to-SQL workflow.\n",
    "\n",
    "Your job is to:\n",
    "1. Examine node status and decide which tool to call\n",
    "2. Call tools based on what each node needs\n",
    "3. Say TERMINATE when all nodes are complete\n",
    "\n",
    "Available tools:\n",
    "- query_analyzer: Breaks down the user's query into a tree structure\n",
    "- schema_linker: Links the current node to database schema (ALWAYS call this before generating SQL)\n",
    "- sql_generator: Generates SQL for the current node\n",
    "- sql_evaluator: Executes and evaluates SQL for the current node\n",
    "- task_status_checker: Tells you the current node status and what needs to be done\n",
    "\n",
    "IMPORTANT: \n",
    "- Tools operate on the \"current node\" automatically - the system tracks which node to work on.\n",
    "- All tools require a 'task' parameter. Always call tools with task=\"current task description\"\n",
    "\n",
    "DECISION LOGIC based on node status:\n",
    "1. No tree exists → call query_analyzer with the user's query as task\n",
    "2. Node has no SQL → ALWAYS call schema_linker first with task=\"link schema for current node\", then sql_generator\n",
    "3. Node has bad SQL (evaluation showed poor quality) → call schema_linker with task=\"relink schema with fixes\", then sql_generator with task=\"regenerate SQL with fixes\"\n",
    "4. Node has SQL but not evaluated → call sql_evaluator with task=\"evaluate SQL for current node\"\n",
    "5. After any evaluation → call task_status_checker with task=\"check task status\"\n",
    "\n",
    "CRITICAL: Even if query_analyzer creates some mapping, you MUST still call schema_linker before sql_generator. The mapping from query_analyzer is not sufficient for SQL generation.\n",
    "\n",
    "The task_status_checker will tell you:\n",
    "- Current node status (what it has/needs)\n",
    "- Quality of results (if evaluated)\n",
    "- ACTION directive:\n",
    "  - \"ACTION: PROCESS NODE\" → Node needs work (always schema_linker then sql_generator)\n",
    "  - \"ACTION: RETRY NODE\" → Node has poor results (schema_linker then sql_generator again)\n",
    "  - \"ACTION: TASK COMPLETE\" → All nodes done, say TERMINATE\n",
    "  - \"ACTION: ERROR\" → Something went wrong\n",
    "\n",
    "WORKFLOW:\n",
    "1. Start: call query_analyzer with the query\n",
    "2. Call task_status_checker to understand current state\n",
    "3. Based on the status report:\n",
    "   - If node needs SQL → ALWAYS: schema_linker first, then sql_generator\n",
    "   - If SQL needs retry → ALWAYS: schema_linker first, then sql_generator\n",
    "   - If SQL not evaluated → sql_evaluator\n",
    "   - After evaluation → task_status_checker\n",
    "4. Repeat until task_status_checker says \"TASK COMPLETE\"\n",
    "\n",
    "Remember: \n",
    "- ALWAYS call schema_linker before sql_generator (even on retries)\n",
    "- Nodes can be retried if results are poor\n",
    "- SQL can be regenerated if evaluation shows issues\n",
    "- Always check status after evaluation to determine next steps\"\"\",\n",
    "    model_client=coordinator_client,\n",
    "    tools=[\n",
    "        query_analyzer.get_tool(), \n",
    "        schema_linker.get_tool(), \n",
    "        sql_generator.get_tool(), \n",
    "        sql_evaluator.get_tool(),\n",
    "        task_status_checker.get_tool()\n",
    "    ]\n",
    ")"
   ]
  },
  {
   "cell_type": "code",
   "execution_count": 7,
   "metadata": {},
   "outputs": [],
   "source": [
    "# Create a team with termination condition\n",
    "termination_condition = TextMentionTermination(\"TERMINATE\")\n",
    "team = RoundRobinGroupChat(\n",
    "    participants=[coordinator],\n",
    "    termination_condition=termination_condition\n",
    ")\n",
    "\n",
    "# Run the workflow\n",
    "stream = team.run_stream(task=test_query)"
   ]
  },
  {
   "cell_type": "code",
   "execution_count": 8,
   "metadata": {},
   "outputs": [
    {
     "name": "stdout",
     "output_type": "stream",
     "text": [
      "================================================================================\n",
      "WORKFLOW EXECUTION (Status-Based)\n",
      "================================================================================\n"
     ]
    },
    {
     "name": "stderr",
     "output_type": "stream",
     "text": [
      "2025-05-26 19:11:20,855 - QueryAnalyzerAgent - INFO - Query analyzer context prepared with schema length: 9697\n",
      "2025-05-26 19:11:20,855 - QueryAnalyzerAgent - INFO - query: Find the top 5 counties by average SAT scores, including the number of schools and average free lunch rate database: california_schools\n"
     ]
    },
    {
     "name": "stdout",
     "output_type": "stream",
     "text": [
      "\n",
      "[Step 1] Calling: query_analyzer\n"
     ]
    },
    {
     "name": "stderr",
     "output_type": "stream",
     "text": [
      "2025-05-26 19:11:26,293 - QueryTreeManager - INFO - Initialized query tree with root node node_1748301086.293675_root\n",
      "2025-05-26 19:11:26,294 - NodeHistoryManager - INFO - Added create operation for node node_1748301086.293675_root\n",
      "2025-05-26 19:11:26,294 - QueryTreeManager - INFO - Added node node_1748301086.294442_1 to tree\n",
      "2025-05-26 19:11:26,294 - NodeHistoryManager - INFO - Added create operation for node node_1748301086.294442_1\n",
      "2025-05-26 19:11:26,295 - QueryTreeManager - INFO - Added node node_1748301086.295259_2 to tree\n",
      "2025-05-26 19:11:26,295 - NodeHistoryManager - INFO - Added create operation for node node_1748301086.295259_2\n",
      "2025-05-26 19:11:26,295 - QueryTreeManager - INFO - Added node node_1748301086.295826_3 to tree\n",
      "2025-05-26 19:11:26,296 - NodeHistoryManager - INFO - Added create operation for node node_1748301086.295826_3\n",
      "2025-05-26 19:11:26,296 - QueryTreeManager - INFO - Updated node node_1748301086.293675_root\n",
      "2025-05-26 19:11:26,296 - QueryTreeManager - INFO - Set current node to node_1748301086.294442_1\n",
      "2025-05-26 19:11:26,296 - QueryAnalyzerAgent - INFO - ============================================================\n",
      "2025-05-26 19:11:26,296 - QueryAnalyzerAgent - INFO - Query Analysis\n",
      "2025-05-26 19:11:26,296 - QueryAnalyzerAgent - INFO - Query: Find the top 5 counties by average SAT scores, including the number of schools and average free lunch rate\n",
      "2025-05-26 19:11:26,296 - QueryAnalyzerAgent - INFO - Intent: Find the top 5 counties based on average SAT scores, and for each county, include the number of schools and the average free lunch rate.\n",
      "2025-05-26 19:11:26,297 - QueryAnalyzerAgent - INFO - Complexity: COMPLEX\n",
      "2025-05-26 19:11:26,297 - QueryAnalyzerAgent - INFO - Decomposed into 3 sub-queries:\n",
      "2025-05-26 19:11:26,297 - QueryAnalyzerAgent - INFO -   - Calculate average SAT scores for each county.\n",
      "2025-05-26 19:11:26,297 - QueryAnalyzerAgent - INFO -   - Calculate the average free lunch rate for each county.\n",
      "2025-05-26 19:11:26,297 - QueryAnalyzerAgent - INFO -   - Count the number of schools in each county.\n",
      "2025-05-26 19:11:26,297 - QueryAnalyzerAgent - INFO - Combination strategy: JOIN\n",
      "2025-05-26 19:11:26,297 - QueryAnalyzerAgent - INFO - ============================================================\n"
     ]
    },
    {
     "name": "stdout",
     "output_type": "stream",
     "text": [
      "\n",
      "[Step 2] Calling: query_analyzer\n"
     ]
    },
    {
     "name": "stderr",
     "output_type": "stream",
     "text": [
      "2025-05-26 19:11:27,456 - TaskStatusChecker - INFO - Checking overall task status...\n",
      "2025-05-26 19:11:27,456 - TaskStatusChecker - INFO - Tree status: 0 good, 0 poor, 4 unprocessed\n",
      "2025-05-26 19:11:27,456 - QueryTreeManager - INFO - Set current node to node_1748301086.294442_1\n",
      "2025-05-26 19:11:27,457 - TaskStatusChecker - INFO - Updated current node to: node_1748301086.294442_1\n"
     ]
    },
    {
     "name": "stdout",
     "output_type": "stream",
     "text": [
      "\n",
      "[Step 4] Calling: task_status_checker\n",
      "\n",
      "[Step 5] Calling: task_status_checker\n"
     ]
    },
    {
     "name": "stderr",
     "output_type": "stream",
     "text": [
      "2025-05-26 19:11:29,364 - SchemaLinkerAgent - INFO - Available tables in schema: ['frpm', 'satscores', 'schools']\n",
      "2025-05-26 19:11:29,365 - SchemaLinkerAgent - INFO - Schema linking context prepared for node: node_1748301086.294442_1\n",
      "2025-05-26 19:11:29,365 - SchemaLinkerAgent - INFO - Node details: {'nodeId': 'node_1748301086.294442_1', 'intent': 'Calculate average SAT scores for each county.', 'mapping': {'tables': [{'name': 'satscores', 'alias': None, 'purpose': 'Used in subquery 1'}], 'columns': []}, 'childIds': [], 'status': 'created', 'parentId': 'node_1748301086.293675_root'}\n"
     ]
    },
    {
     "name": "stdout",
     "output_type": "stream",
     "text": [
      "\n",
      "[Step 7] Calling: schema_linker\n"
     ]
    },
    {
     "name": "stderr",
     "output_type": "stream",
     "text": [
      "2025-05-26 19:11:41,485 - SchemaLinkerAgent - INFO - Raw LLM output (first 500 chars): To calculate the average SAT scores for each county, we need to select the appropriate tables and columns from the provided schema. Here's the analysis:\n",
      "\n",
      "### Analysis\n",
      "\n",
      "1. **Query Intent**: Calculate average SAT scores for each county.\n",
      "2. **Necessary Tables and Columns**:\n",
      "   - **Table**: `satscores`\n",
      "     - **Purpose**: This table contains SAT score data, which is necessary to calculate the average SAT scores.\n",
      "     - **Columns**:\n",
      "       - **`cname`**: Used for grouping by county to calculate the a\n",
      "2025-05-26 19:11:41,486 - QueryTreeManager - INFO - Updated node node_1748301086.294442_1\n",
      "2025-05-26 19:11:41,486 - NodeHistoryManager - INFO - Added revise operation for node node_1748301086.294442_1\n",
      "2025-05-26 19:11:41,487 - SchemaLinkerAgent - INFO - ============================================================\n",
      "2025-05-26 19:11:41,487 - SchemaLinkerAgent - INFO - Schema Linking\n",
      "2025-05-26 19:11:41,487 - SchemaLinkerAgent - INFO - Query intent: Calculate average SAT scores for each county.\n",
      "2025-05-26 19:11:41,487 - SchemaLinkerAgent - INFO - Linked 1 table(s):\n",
      "2025-05-26 19:11:41,488 - SchemaLinkerAgent - INFO -   - satscores: Contains SAT score data needed to calculate average scores by county\n",
      "2025-05-26 19:11:41,488 - SchemaLinkerAgent - INFO - Selected 4 column(s):\n",
      "2025-05-26 19:11:41,488 - SchemaLinkerAgent - INFO -   From satscores:\n",
      "2025-05-26 19:11:41,488 - SchemaLinkerAgent - INFO -     - cname (used for: group)\n",
      "2025-05-26 19:11:41,488 - SchemaLinkerAgent - INFO -     - AvgScrRead (used for: aggregate)\n",
      "2025-05-26 19:11:41,488 - SchemaLinkerAgent - INFO -     - AvgScrMath (used for: aggregate)\n",
      "2025-05-26 19:11:41,488 - SchemaLinkerAgent - INFO -     - AvgScrWrite (used for: aggregate)\n",
      "2025-05-26 19:11:41,488 - SchemaLinkerAgent - INFO - ============================================================\n",
      "2025-05-26 19:11:41,488 - SchemaLinkerAgent - INFO - Updated node node_1748301086.294442_1 with schema mapping\n"
     ]
    },
    {
     "name": "stdout",
     "output_type": "stream",
     "text": [
      "\n",
      "[Step 8] Calling: schema_linker\n"
     ]
    },
    {
     "name": "stderr",
     "output_type": "stream",
     "text": [
      "2025-05-26 19:11:42,676 - SQLGeneratorAgent - INFO - SQL generator context prepared for node: node_1748301086.294442_1\n",
      "2025-05-26 19:11:42,677 - SQLGeneratorAgent - INFO - Node detail: {'nodeId': 'node_1748301086.294442_1', 'intent': 'Calculate average SAT scores for each county.', 'mapping': {'tables': [{'name': 'satscores', 'alias': 's', 'purpose': 'Contains SAT score data needed to calculate average scores by county'}], 'columns': [{'table': 'satscores', 'column': 'cname', 'usedFor': 'group'}, {'table': 'satscores', 'column': 'AvgScrRead', 'usedFor': 'aggregate'}, {'table': 'satscores', 'column': 'AvgScrMath', 'usedFor': 'aggregate'}, {'table': 'satscores', 'column': 'AvgScrWrite', 'usedFor': 'aggregate'}]}, 'childIds': [], 'status': 'created', 'parentId': 'node_1748301086.293675_root'}\n"
     ]
    },
    {
     "name": "stdout",
     "output_type": "stream",
     "text": [
      "\n",
      "[Step 10] Calling: sql_generator\n"
     ]
    },
    {
     "name": "stderr",
     "output_type": "stream",
     "text": [
      "2025-05-26 19:11:45,646 - SQLGeneratorAgent - INFO - Raw LLM output (first 500 chars): ```xml\n",
      "<sql_generation>\n",
      "  <query_type>aggregate</query_type>\n",
      "  <sql>\n",
      "    SELECT \n",
      "      s.cname AS county_name,\n",
      "      AVG(s.AvgScrRead) AS avg_reading_score,\n",
      "      AVG(s.AvgScrMath) AS avg_math_score,\n",
      "      AVG(s.AvgScrWrite) AS avg_writing_score\n",
      "    FROM \n",
      "      satscores s\n",
      "    GROUP BY \n",
      "      s.cname\n",
      "  </sql>\n",
      "  <explanation>\n",
      "    The query calculates the average SAT scores for reading, math, and writing for each county. It uses the 'satscores' table, grouping the results by the 'cname' column, wh\n",
      "2025-05-26 19:11:45,646 - QueryTreeManager - INFO - Updated node node_1748301086.294442_1\n",
      "2025-05-26 19:11:45,647 - NodeHistoryManager - INFO - Added generate_sql operation for node node_1748301086.294442_1\n",
      "2025-05-26 19:11:45,647 - SQLGeneratorAgent - INFO - ============================================================\n",
      "2025-05-26 19:11:45,648 - SQLGeneratorAgent - INFO - SQL Generation\n",
      "2025-05-26 19:11:45,648 - SQLGeneratorAgent - INFO - Query intent: Calculate average SAT scores for each county.\n",
      "2025-05-26 19:11:45,648 - SQLGeneratorAgent - INFO - Query type: AGGREGATE\n",
      "2025-05-26 19:11:45,648 - SQLGeneratorAgent - INFO - Generated SQL:\n",
      "2025-05-26 19:11:45,649 - SQLGeneratorAgent - INFO -   SELECT s.cname AS county_name, AVG(s.AvgScrRead) AS avg_reading_score, AVG(s.AvgScrMath) AS avg_math_score, AVG(s.AvgScrWrite) AS avg_writing_score FROM satscores s GROUP BY s.cname\n",
      "2025-05-26 19:11:45,649 - SQLGeneratorAgent - INFO - Explanation: The query calculates the average SAT scores for reading, math, and writing for each county. It uses the 'satscores' table, grouping the results by the 'cname' column, which represents the county name.\n",
      "2025-05-26 19:11:45,649 - SQLGeneratorAgent - INFO - ============================================================\n",
      "2025-05-26 19:11:45,649 - SQLGeneratorAgent - INFO - Updated node node_1748301086.294442_1 with generated SQL\n"
     ]
    },
    {
     "name": "stdout",
     "output_type": "stream",
     "text": [
      "\n",
      "[Step 11] Calling: sql_generator\n"
     ]
    },
    {
     "name": "stderr",
     "output_type": "stream",
     "text": [
      "2025-05-26 19:11:46,670 - SQLEvaluatorAgent - INFO - Using current node: node_1748301086.294442_1\n",
      "2025-05-26 19:11:46,672 - QueryTreeManager - INFO - Updated node node_1748301086.294442_1\n"
     ]
    },
    {
     "name": "stdout",
     "output_type": "stream",
     "text": [
      "[SQLExecutor] Connecting to database: /home/norman/work/text-to-sql/MAC-SQL/data/bird/dev_databases/california_schools/california_schools.sqlite\n",
      "\n",
      "[Step 13] Calling: sql_evaluator\n"
     ]
    },
    {
     "name": "stderr",
     "output_type": "stream",
     "text": [
      "2025-05-26 19:11:50,870 - SQLEvaluatorAgent - INFO - Raw LLM output (first 500 chars): ```xml\n",
      "<evaluation>\n",
      "  <answers_intent>yes</answers_intent>\n",
      "  <result_quality>excellent</result_quality>\n",
      "  <result_summary>The results provide the average SAT reading, math, and writing scores for each county.</result_summary>\n",
      "  <issues>\n",
      "    <issue>\n",
      "      <type>performance</type>\n",
      "      <description>Execution time is not provided, which could be useful for performance evaluation.</description>\n",
      "      <severity>low</severity>\n",
      "    </issue>\n",
      "  </issues>\n",
      "  <suggestions>\n",
      "    <suggestion>Consider capturin\n",
      "2025-05-26 19:11:50,870 - SQLEvaluatorAgent - INFO - ============================================================\n",
      "2025-05-26 19:11:50,871 - SQLEvaluatorAgent - INFO - SQL Execution & Evaluation\n",
      "2025-05-26 19:11:50,871 - SQLEvaluatorAgent - INFO - Query intent: Calculate average SAT scores for each county.\n",
      "2025-05-26 19:11:50,871 - SQLEvaluatorAgent - INFO - Evaluation results:\n",
      "2025-05-26 19:11:50,871 - SQLEvaluatorAgent - INFO -   - Answers intent: YES\n",
      "2025-05-26 19:11:50,872 - SQLEvaluatorAgent - INFO -   - Result quality: EXCELLENT\n",
      "2025-05-26 19:11:50,872 - SQLEvaluatorAgent - INFO -   - Confidence: 0.95\n",
      "2025-05-26 19:11:50,872 - SQLEvaluatorAgent - INFO -   - Summary: The results provide the average SAT reading, math, and writing scores for each county.\n",
      "2025-05-26 19:11:50,872 - SQLEvaluatorAgent - INFO -   Issues found:\n",
      "2025-05-26 19:11:50,872 - SQLEvaluatorAgent - INFO -     - [LOW] Execution time is not provided, which could be useful for performance evaluation.\n",
      "2025-05-26 19:11:50,872 - SQLEvaluatorAgent - INFO - ============================================================\n",
      "2025-05-26 19:11:50,872 - SQLEvaluatorAgent - INFO - Stored analysis for node node_1748301086.294442_1\n",
      "2025-05-26 19:11:50,872 - SQLEvaluatorAgent - INFO - Analysis complete - Answers intent: yes, Quality: excellent\n"
     ]
    },
    {
     "name": "stdout",
     "output_type": "stream",
     "text": [
      "\n",
      "[Step 14] Calling: sql_evaluator\n"
     ]
    },
    {
     "name": "stderr",
     "output_type": "stream",
     "text": [
      "2025-05-26 19:11:52,814 - TaskStatusChecker - INFO - Checking overall task status...\n",
      "2025-05-26 19:11:52,814 - TaskStatusChecker - INFO - Tree status: 1 good, 0 poor, 3 unprocessed\n",
      "2025-05-26 19:11:52,814 - QueryTreeManager - INFO - Set current node to node_1748301086.295259_2\n",
      "2025-05-26 19:11:52,815 - TaskStatusChecker - INFO - Updated current node to: node_1748301086.295259_2\n"
     ]
    },
    {
     "name": "stdout",
     "output_type": "stream",
     "text": [
      "\n",
      "[Step 16] Calling: task_status_checker\n",
      "\n",
      "[Step 17] Calling: task_status_checker\n"
     ]
    },
    {
     "name": "stderr",
     "output_type": "stream",
     "text": [
      "2025-05-26 19:11:55,853 - SchemaLinkerAgent - INFO - Available tables in schema: ['frpm', 'satscores', 'schools']\n",
      "2025-05-26 19:11:55,853 - SchemaLinkerAgent - INFO - Schema linking context prepared for node: node_1748301086.295259_2\n",
      "2025-05-26 19:11:55,853 - SchemaLinkerAgent - INFO - Node details: {'nodeId': 'node_1748301086.295259_2', 'intent': 'Calculate the average free lunch rate for each county.', 'mapping': {'tables': [{'name': 'frpm', 'alias': None, 'purpose': 'Used in subquery 2'}], 'columns': []}, 'childIds': [], 'status': 'created', 'parentId': 'node_1748301086.293675_root'}\n"
     ]
    },
    {
     "name": "stdout",
     "output_type": "stream",
     "text": [
      "\n",
      "[Step 19] Calling: schema_linker\n"
     ]
    },
    {
     "name": "stderr",
     "output_type": "stream",
     "text": [
      "2025-05-26 19:12:03,465 - SchemaLinkerAgent - INFO - Raw LLM output (first 500 chars): To calculate the average free lunch rate for each county, we need to select the appropriate tables and columns from the provided schema. Here's the analysis:\n",
      "\n",
      "### Analysis\n",
      "\n",
      "1. **Query Intent**: Calculate the average free lunch rate for each county.\n",
      "2. **Necessary Tables and Columns**:\n",
      "   - **Table**: `frpm`\n",
      "     - **Purpose**: This table contains data on free and reduced-price meals, which is necessary to calculate the average free lunch rate.\n",
      "     - **Columns**:\n",
      "       - **`County Name`**: Used\n",
      "2025-05-26 19:12:03,466 - QueryTreeManager - INFO - Updated node node_1748301086.295259_2\n",
      "2025-05-26 19:12:03,466 - NodeHistoryManager - INFO - Added revise operation for node node_1748301086.295259_2\n",
      "2025-05-26 19:12:03,466 - SchemaLinkerAgent - INFO - ============================================================\n",
      "2025-05-26 19:12:03,466 - SchemaLinkerAgent - INFO - Schema Linking\n",
      "2025-05-26 19:12:03,466 - SchemaLinkerAgent - INFO - Query intent: Calculate the average free lunch rate for each county.\n",
      "2025-05-26 19:12:03,466 - SchemaLinkerAgent - INFO - Linked 1 table(s):\n",
      "2025-05-26 19:12:03,466 - SchemaLinkerAgent - INFO -   - frpm: Contains free lunch data needed to calculate average rates by county\n",
      "2025-05-26 19:12:03,467 - SchemaLinkerAgent - INFO - Selected 2 column(s):\n",
      "2025-05-26 19:12:03,467 - SchemaLinkerAgent - INFO -   From frpm:\n",
      "2025-05-26 19:12:03,467 - SchemaLinkerAgent - INFO -     - County Name (used for: group)\n",
      "2025-05-26 19:12:03,467 - SchemaLinkerAgent - INFO -     - Percent (%) Eligible Free (K-12) (used for: aggregate)\n",
      "2025-05-26 19:12:03,467 - SchemaLinkerAgent - INFO - ============================================================\n",
      "2025-05-26 19:12:03,467 - SchemaLinkerAgent - INFO - Updated node node_1748301086.295259_2 with schema mapping\n"
     ]
    },
    {
     "name": "stdout",
     "output_type": "stream",
     "text": [
      "\n",
      "[Step 20] Calling: schema_linker\n"
     ]
    },
    {
     "name": "stderr",
     "output_type": "stream",
     "text": [
      "2025-05-26 19:12:04,283 - SQLGeneratorAgent - INFO - SQL generator context prepared for node: node_1748301086.295259_2\n",
      "2025-05-26 19:12:04,283 - SQLGeneratorAgent - INFO - Node detail: {'nodeId': 'node_1748301086.295259_2', 'intent': 'Calculate the average free lunch rate for each county.', 'mapping': {'tables': [{'name': 'frpm', 'alias': 'f', 'purpose': 'Contains free lunch data needed to calculate average rates by county'}], 'columns': [{'table': 'frpm', 'column': 'County Name', 'usedFor': 'group'}, {'table': 'frpm', 'column': 'Percent (%) Eligible Free (K-12)', 'usedFor': 'aggregate'}]}, 'childIds': [], 'status': 'created', 'parentId': 'node_1748301086.293675_root'}\n"
     ]
    },
    {
     "name": "stdout",
     "output_type": "stream",
     "text": [
      "\n",
      "[Step 22] Calling: sql_generator\n"
     ]
    },
    {
     "name": "stderr",
     "output_type": "stream",
     "text": [
      "2025-05-26 19:12:06,742 - SQLGeneratorAgent - INFO - Raw LLM output (first 500 chars): ```xml\n",
      "<sql_generation>\n",
      "  <query_type>aggregate</query_type>\n",
      "  <sql>\n",
      "    SELECT \n",
      "      f.\"County Name\" AS county_name,\n",
      "      AVG(f.\"Percent (%) Eligible Free (K-12)\") AS avg_free_lunch_rate\n",
      "    FROM \n",
      "      frpm f\n",
      "    GROUP BY \n",
      "      f.\"County Name\"\n",
      "  </sql>\n",
      "  <explanation>\n",
      "    The query calculates the average free lunch rate for each county using the 'frpm' table. It groups the results by the 'County Name' column and calculates the average of the 'Percent (%) Eligible Free (K-12)' column.\n",
      "  </ex\n",
      "2025-05-26 19:12:06,743 - QueryTreeManager - INFO - Updated node node_1748301086.295259_2\n",
      "2025-05-26 19:12:06,743 - NodeHistoryManager - INFO - Added generate_sql operation for node node_1748301086.295259_2\n",
      "2025-05-26 19:12:06,743 - SQLGeneratorAgent - INFO - ============================================================\n",
      "2025-05-26 19:12:06,744 - SQLGeneratorAgent - INFO - SQL Generation\n",
      "2025-05-26 19:12:06,744 - SQLGeneratorAgent - INFO - Query intent: Calculate the average free lunch rate for each county.\n",
      "2025-05-26 19:12:06,744 - SQLGeneratorAgent - INFO - Query type: AGGREGATE\n",
      "2025-05-26 19:12:06,744 - SQLGeneratorAgent - INFO - Generated SQL:\n",
      "2025-05-26 19:12:06,745 - SQLGeneratorAgent - INFO -   SELECT f.\"County Name\" AS county_name, AVG(f.\"Percent (%) Eligible Free (K-12)\") AS avg_free_lunch_rate FROM frpm f GROUP BY f.\"County Name\"\n",
      "2025-05-26 19:12:06,745 - SQLGeneratorAgent - INFO - Explanation: The query calculates the average free lunch rate for each county using the 'frpm' table. It groups the results by the 'County Name' column and calculates the average of the 'Percent (%) Eligible Free (K-12)' column.\n",
      "2025-05-26 19:12:06,745 - SQLGeneratorAgent - INFO - ============================================================\n",
      "2025-05-26 19:12:06,745 - SQLGeneratorAgent - INFO - Updated node node_1748301086.295259_2 with generated SQL\n"
     ]
    },
    {
     "name": "stdout",
     "output_type": "stream",
     "text": [
      "\n",
      "[Step 23] Calling: sql_generator\n"
     ]
    },
    {
     "name": "stderr",
     "output_type": "stream",
     "text": [
      "2025-05-26 19:12:08,584 - SQLEvaluatorAgent - INFO - Using current node: node_1748301086.295259_2\n",
      "2025-05-26 19:12:08,588 - QueryTreeManager - INFO - Updated node node_1748301086.295259_2\n"
     ]
    },
    {
     "name": "stdout",
     "output_type": "stream",
     "text": [
      "[SQLExecutor] Connecting to database: /home/norman/work/text-to-sql/MAC-SQL/data/bird/dev_databases/california_schools/california_schools.sqlite\n",
      "\n",
      "[Step 25] Calling: sql_evaluator\n"
     ]
    },
    {
     "name": "stderr",
     "output_type": "stream",
     "text": [
      "2025-05-26 19:12:10,919 - SQLEvaluatorAgent - INFO - Raw LLM output (first 500 chars): ```xml\n",
      "<evaluation>\n",
      "  <answers_intent>yes</answers_intent>\n",
      "  <result_quality>excellent</result_quality>\n",
      "  <result_summary>The results provide the average free lunch rate for each county, expressed as a percentage.</result_summary>\n",
      "  <issues>\n",
      "    <issue>\n",
      "      <type>performance</type>\n",
      "      <description>Execution time is not provided, which could be useful for performance evaluation.</description>\n",
      "      <severity>low</severity>\n",
      "    </issue>\n",
      "  </issues>\n",
      "  <suggestions>\n",
      "    <suggestion>Consider cap\n",
      "2025-05-26 19:12:10,920 - SQLEvaluatorAgent - INFO - ============================================================\n",
      "2025-05-26 19:12:10,920 - SQLEvaluatorAgent - INFO - SQL Execution & Evaluation\n",
      "2025-05-26 19:12:10,920 - SQLEvaluatorAgent - INFO - Query intent: Calculate the average free lunch rate for each county.\n",
      "2025-05-26 19:12:10,920 - SQLEvaluatorAgent - INFO - Evaluation results:\n",
      "2025-05-26 19:12:10,921 - SQLEvaluatorAgent - INFO -   - Answers intent: YES\n",
      "2025-05-26 19:12:10,921 - SQLEvaluatorAgent - INFO -   - Result quality: EXCELLENT\n",
      "2025-05-26 19:12:10,921 - SQLEvaluatorAgent - INFO -   - Confidence: 0.95\n",
      "2025-05-26 19:12:10,921 - SQLEvaluatorAgent - INFO -   - Summary: The results provide the average free lunch rate for each county, expressed as a percentage.\n",
      "2025-05-26 19:12:10,921 - SQLEvaluatorAgent - INFO -   Issues found:\n",
      "2025-05-26 19:12:10,921 - SQLEvaluatorAgent - INFO -     - [LOW] Execution time is not provided, which could be useful for performance evaluation.\n",
      "2025-05-26 19:12:10,921 - SQLEvaluatorAgent - INFO - ============================================================\n",
      "2025-05-26 19:12:10,921 - SQLEvaluatorAgent - INFO - Stored analysis for node node_1748301086.295259_2\n",
      "2025-05-26 19:12:10,922 - SQLEvaluatorAgent - INFO - Analysis complete - Answers intent: yes, Quality: excellent\n"
     ]
    },
    {
     "name": "stdout",
     "output_type": "stream",
     "text": [
      "\n",
      "[Step 26] Calling: sql_evaluator\n"
     ]
    },
    {
     "name": "stderr",
     "output_type": "stream",
     "text": [
      "2025-05-26 19:12:12,168 - TaskStatusChecker - INFO - Checking overall task status...\n",
      "2025-05-26 19:12:12,168 - TaskStatusChecker - INFO - Tree status: 2 good, 0 poor, 2 unprocessed\n",
      "2025-05-26 19:12:12,169 - QueryTreeManager - INFO - Set current node to node_1748301086.295826_3\n",
      "2025-05-26 19:12:12,169 - TaskStatusChecker - INFO - Updated current node to: node_1748301086.295826_3\n"
     ]
    },
    {
     "name": "stdout",
     "output_type": "stream",
     "text": [
      "\n",
      "[Step 28] Calling: task_status_checker\n",
      "\n",
      "[Step 29] Calling: task_status_checker\n"
     ]
    },
    {
     "name": "stderr",
     "output_type": "stream",
     "text": [
      "2025-05-26 19:12:15,036 - SchemaLinkerAgent - INFO - Available tables in schema: ['frpm', 'satscores', 'schools']\n",
      "2025-05-26 19:12:15,036 - SchemaLinkerAgent - INFO - Schema linking context prepared for node: node_1748301086.295826_3\n",
      "2025-05-26 19:12:15,037 - SchemaLinkerAgent - INFO - Node details: {'nodeId': 'node_1748301086.295826_3', 'intent': 'Count the number of schools in each county.', 'mapping': {'tables': [{'name': 'schools', 'alias': None, 'purpose': 'Used in subquery 3'}], 'columns': []}, 'childIds': [], 'status': 'created', 'parentId': 'node_1748301086.293675_root'}\n"
     ]
    },
    {
     "name": "stdout",
     "output_type": "stream",
     "text": [
      "\n",
      "[Step 31] Calling: schema_linker\n"
     ]
    },
    {
     "name": "stderr",
     "output_type": "stream",
     "text": [
      "2025-05-26 19:12:22,471 - SchemaLinkerAgent - INFO - Raw LLM output (first 500 chars): To count the number of schools in each county, we need to select the appropriate tables and columns from the provided schema. Here's the analysis:\n",
      "\n",
      "### Analysis\n",
      "\n",
      "1. **Query Intent**: Count the number of schools in each county.\n",
      "2. **Necessary Tables and Columns**:\n",
      "   - **Table**: `schools`\n",
      "     - **Purpose**: This table contains information about schools, which is necessary to count the number of schools in each county.\n",
      "     - **Columns**:\n",
      "       - **`County`**: Used for grouping by county to cou\n",
      "2025-05-26 19:12:22,471 - QueryTreeManager - INFO - Updated node node_1748301086.295826_3\n",
      "2025-05-26 19:12:22,471 - NodeHistoryManager - INFO - Added revise operation for node node_1748301086.295826_3\n",
      "2025-05-26 19:12:22,472 - SchemaLinkerAgent - INFO - ============================================================\n",
      "2025-05-26 19:12:22,472 - SchemaLinkerAgent - INFO - Schema Linking\n",
      "2025-05-26 19:12:22,472 - SchemaLinkerAgent - INFO - Query intent: Count the number of schools in each county.\n",
      "2025-05-26 19:12:22,472 - SchemaLinkerAgent - INFO - Linked 1 table(s):\n",
      "2025-05-26 19:12:22,472 - SchemaLinkerAgent - INFO -   - schools: Contains school data needed to count the number of schools by county\n",
      "2025-05-26 19:12:22,473 - SchemaLinkerAgent - INFO - Selected 2 column(s):\n",
      "2025-05-26 19:12:22,473 - SchemaLinkerAgent - INFO -   From schools:\n",
      "2025-05-26 19:12:22,473 - SchemaLinkerAgent - INFO -     - County (used for: group)\n",
      "2025-05-26 19:12:22,473 - SchemaLinkerAgent - INFO -     - CDSCode (used for: count)\n",
      "2025-05-26 19:12:22,473 - SchemaLinkerAgent - INFO - ============================================================\n",
      "2025-05-26 19:12:22,473 - SchemaLinkerAgent - INFO - Updated node node_1748301086.295826_3 with schema mapping\n"
     ]
    },
    {
     "name": "stdout",
     "output_type": "stream",
     "text": [
      "\n",
      "[Step 32] Calling: schema_linker\n"
     ]
    },
    {
     "name": "stderr",
     "output_type": "stream",
     "text": [
      "2025-05-26 19:12:23,843 - SQLGeneratorAgent - INFO - SQL generator context prepared for node: node_1748301086.295826_3\n",
      "2025-05-26 19:12:23,843 - SQLGeneratorAgent - INFO - Node detail: {'nodeId': 'node_1748301086.295826_3', 'intent': 'Count the number of schools in each county.', 'mapping': {'tables': [{'name': 'schools', 'alias': 'sc', 'purpose': 'Contains school data needed to count the number of schools by county'}], 'columns': [{'table': 'schools', 'column': 'County', 'usedFor': 'group'}, {'table': 'schools', 'column': 'CDSCode', 'usedFor': 'count'}]}, 'childIds': [], 'status': 'created', 'parentId': 'node_1748301086.293675_root'}\n"
     ]
    },
    {
     "name": "stdout",
     "output_type": "stream",
     "text": [
      "\n",
      "[Step 34] Calling: sql_generator\n"
     ]
    },
    {
     "name": "stderr",
     "output_type": "stream",
     "text": [
      "2025-05-26 19:12:26,403 - SQLGeneratorAgent - INFO - Raw LLM output (first 500 chars): ```xml\n",
      "<sql_generation>\n",
      "  <query_type>aggregate</query_type>\n",
      "  <sql>\n",
      "    SELECT \n",
      "      sc.County AS county_name,\n",
      "      COUNT(sc.CDSCode) AS number_of_schools\n",
      "    FROM \n",
      "      schools sc\n",
      "    GROUP BY \n",
      "      sc.County\n",
      "  </sql>\n",
      "  <explanation>\n",
      "    The query counts the number of schools in each county using the 'schools' table. It groups the results by the 'County' column and counts the number of entries in the 'CDSCode' column, which uniquely identifies each school.\n",
      "  </explanation>\n",
      "  <consideration\n",
      "2025-05-26 19:12:26,404 - QueryTreeManager - INFO - Updated node node_1748301086.295826_3\n",
      "2025-05-26 19:12:26,404 - NodeHistoryManager - INFO - Added generate_sql operation for node node_1748301086.295826_3\n",
      "2025-05-26 19:12:26,404 - SQLGeneratorAgent - INFO - ============================================================\n",
      "2025-05-26 19:12:26,404 - SQLGeneratorAgent - INFO - SQL Generation\n",
      "2025-05-26 19:12:26,404 - SQLGeneratorAgent - INFO - Query intent: Count the number of schools in each county.\n",
      "2025-05-26 19:12:26,405 - SQLGeneratorAgent - INFO - Query type: AGGREGATE\n",
      "2025-05-26 19:12:26,405 - SQLGeneratorAgent - INFO - Generated SQL:\n",
      "2025-05-26 19:12:26,405 - SQLGeneratorAgent - INFO -   SELECT sc.County AS county_name, COUNT(sc.CDSCode) AS number_of_schools FROM schools sc GROUP BY sc.County\n",
      "2025-05-26 19:12:26,405 - SQLGeneratorAgent - INFO - Explanation: The query counts the number of schools in each county using the 'schools' table. It groups the results by the 'County' column and counts the number of entries in the 'CDSCode' column, which uniquely identifies each school.\n",
      "2025-05-26 19:12:26,405 - SQLGeneratorAgent - INFO - ============================================================\n",
      "2025-05-26 19:12:26,405 - SQLGeneratorAgent - INFO - Updated node node_1748301086.295826_3 with generated SQL\n"
     ]
    },
    {
     "name": "stdout",
     "output_type": "stream",
     "text": [
      "\n",
      "[Step 35] Calling: sql_generator\n"
     ]
    },
    {
     "name": "stderr",
     "output_type": "stream",
     "text": [
      "2025-05-26 19:12:28,347 - SQLEvaluatorAgent - INFO - Using current node: node_1748301086.295826_3\n",
      "2025-05-26 19:12:28,351 - QueryTreeManager - INFO - Updated node node_1748301086.295826_3\n"
     ]
    },
    {
     "name": "stdout",
     "output_type": "stream",
     "text": [
      "[SQLExecutor] Connecting to database: /home/norman/work/text-to-sql/MAC-SQL/data/bird/dev_databases/california_schools/california_schools.sqlite\n",
      "\n",
      "[Step 37] Calling: sql_evaluator\n"
     ]
    },
    {
     "name": "stderr",
     "output_type": "stream",
     "text": [
      "2025-05-26 19:12:31,521 - SQLEvaluatorAgent - INFO - Raw LLM output (first 500 chars): ```xml\n",
      "<evaluation>\n",
      "  <answers_intent>yes</answers_intent>\n",
      "  <result_quality>excellent</result_quality>\n",
      "  <result_summary>The results show the number of schools in each county, accurately reflecting the count of schools per county.</result_summary>\n",
      "  <issues>\n",
      "    <issue>\n",
      "      <type>performance</type>\n",
      "      <description>Execution time is not provided, which could be useful for performance evaluation.</description>\n",
      "      <severity>low</severity>\n",
      "    </issue>\n",
      "  </issues>\n",
      "  <suggestions>\n",
      "    <sugge\n",
      "2025-05-26 19:12:31,522 - SQLEvaluatorAgent - INFO - ============================================================\n",
      "2025-05-26 19:12:31,522 - SQLEvaluatorAgent - INFO - SQL Execution & Evaluation\n",
      "2025-05-26 19:12:31,522 - SQLEvaluatorAgent - INFO - Query intent: Count the number of schools in each county.\n",
      "2025-05-26 19:12:31,523 - SQLEvaluatorAgent - INFO - Evaluation results:\n",
      "2025-05-26 19:12:31,523 - SQLEvaluatorAgent - INFO -   - Answers intent: YES\n",
      "2025-05-26 19:12:31,523 - SQLEvaluatorAgent - INFO -   - Result quality: EXCELLENT\n",
      "2025-05-26 19:12:31,523 - SQLEvaluatorAgent - INFO -   - Confidence: 0.95\n",
      "2025-05-26 19:12:31,524 - SQLEvaluatorAgent - INFO -   - Summary: The results show the number of schools in each county, accurately reflecting the count of schools per county.\n",
      "2025-05-26 19:12:31,524 - SQLEvaluatorAgent - INFO -   Issues found:\n",
      "2025-05-26 19:12:31,524 - SQLEvaluatorAgent - INFO -     - [LOW] Execution time is not provided, which could be useful for performance evaluation.\n",
      "2025-05-26 19:12:31,524 - SQLEvaluatorAgent - INFO - ============================================================\n",
      "2025-05-26 19:12:31,524 - SQLEvaluatorAgent - INFO - Stored analysis for node node_1748301086.295826_3\n",
      "2025-05-26 19:12:31,524 - SQLEvaluatorAgent - INFO - Analysis complete - Answers intent: yes, Quality: excellent\n"
     ]
    },
    {
     "name": "stdout",
     "output_type": "stream",
     "text": [
      "\n",
      "[Step 38] Calling: sql_evaluator\n"
     ]
    },
    {
     "name": "stderr",
     "output_type": "stream",
     "text": [
      "2025-05-26 19:12:32,573 - TaskStatusChecker - INFO - Checking overall task status...\n",
      "2025-05-26 19:12:32,574 - TaskStatusChecker - INFO - Tree status: 3 good, 0 poor, 1 unprocessed\n",
      "2025-05-26 19:12:32,574 - QueryTreeManager - INFO - Set current node to node_1748301086.293675_root\n",
      "2025-05-26 19:12:32,574 - TaskStatusChecker - INFO - Updated current node to: node_1748301086.293675_root\n"
     ]
    },
    {
     "name": "stdout",
     "output_type": "stream",
     "text": [
      "\n",
      "[Step 40] Calling: task_status_checker\n",
      "\n",
      "[Step 41] Calling: task_status_checker\n"
     ]
    },
    {
     "name": "stderr",
     "output_type": "stream",
     "text": [
      "2025-05-26 19:12:33,472 - SchemaLinkerAgent - INFO - Available tables in schema: ['frpm', 'satscores', 'schools']\n",
      "2025-05-26 19:12:33,472 - SchemaLinkerAgent - INFO - Schema linking context prepared for node: node_1748301086.293675_root\n",
      "2025-05-26 19:12:33,473 - SchemaLinkerAgent - INFO - Node details: {'nodeId': 'node_1748301086.293675_root', 'intent': 'Find the top 5 counties based on average SAT scores, and for each county, include the number of schools and the average free lunch rate.', 'mapping': {'tables': [], 'columns': []}, 'childIds': ['node_1748301086.294442_1', 'node_1748301086.295259_2', 'node_1748301086.295826_3'], 'status': 'created', 'combineStrategy': {'type': 'join', 'joinType': 'INNER'}}\n"
     ]
    },
    {
     "name": "stdout",
     "output_type": "stream",
     "text": [
      "\n",
      "[Step 43] Calling: schema_linker\n"
     ]
    },
    {
     "name": "stderr",
     "output_type": "stream",
     "text": [
      "2025-05-26 19:12:52,720 - SchemaLinkerAgent - INFO - Raw LLM output (first 500 chars): To find the top 5 counties based on average SAT scores and include the number of schools and the average free lunch rate for each county, we need to combine the results from the child nodes. Here's the analysis:\n",
      "\n",
      "### Analysis\n",
      "\n",
      "1. **Query Intent**: Find the top 5 counties based on average SAT scores, including the number of schools and the average free lunch rate for each county.\n",
      "2. **Necessary Tables and Columns**:\n",
      "   - **Table**: `satscores`\n",
      "     - **Purpose**: Provides average SAT scores by co\n",
      "2025-05-26 19:12:52,721 - QueryTreeManager - INFO - Updated node node_1748301086.293675_root\n",
      "2025-05-26 19:12:52,721 - NodeHistoryManager - INFO - Added revise operation for node node_1748301086.293675_root\n",
      "2025-05-26 19:12:52,722 - SchemaLinkerAgent - INFO - ============================================================\n",
      "2025-05-26 19:12:52,722 - SchemaLinkerAgent - INFO - Schema Linking\n",
      "2025-05-26 19:12:52,722 - SchemaLinkerAgent - INFO - Query intent: Find the top 5 counties based on average SAT scores, and for each county, include the number of schools and the average free lunch rate.\n",
      "2025-05-26 19:12:52,722 - SchemaLinkerAgent - INFO - Linked 3 table(s):\n",
      "2025-05-26 19:12:52,723 - SchemaLinkerAgent - INFO -   - satscores: Provides average SAT scores by county\n",
      "2025-05-26 19:12:52,723 - SchemaLinkerAgent - INFO -   - frpm: Provides average free lunch rate by county\n",
      "2025-05-26 19:12:52,723 - SchemaLinkerAgent - INFO -   - schools: Provides the count of schools by county\n",
      "2025-05-26 19:12:52,723 - SchemaLinkerAgent - INFO - Selected 8 column(s):\n",
      "2025-05-26 19:12:52,723 - SchemaLinkerAgent - INFO -   From satscores:\n",
      "2025-05-26 19:12:52,723 - SchemaLinkerAgent - INFO -     - cname (used for: group|join)\n",
      "2025-05-26 19:12:52,723 - SchemaLinkerAgent - INFO -     - AvgScrRead (used for: aggregate)\n",
      "2025-05-26 19:12:52,723 - SchemaLinkerAgent - INFO -     - AvgScrMath (used for: aggregate)\n",
      "2025-05-26 19:12:52,723 - SchemaLinkerAgent - INFO -     - AvgScrWrite (used for: aggregate)\n",
      "2025-05-26 19:12:52,724 - SchemaLinkerAgent - INFO -   From frpm:\n",
      "2025-05-26 19:12:52,724 - SchemaLinkerAgent - INFO -     - County Name (used for: join)\n",
      "2025-05-26 19:12:52,724 - SchemaLinkerAgent - INFO -     - Percent (%) Eligible Free (K-12) (used for: aggregate)\n",
      "2025-05-26 19:12:52,724 - SchemaLinkerAgent - INFO -   From schools:\n",
      "2025-05-26 19:12:52,724 - SchemaLinkerAgent - INFO -     - County (used for: join)\n",
      "2025-05-26 19:12:52,724 - SchemaLinkerAgent - INFO -     - CDSCode (used for: count)\n",
      "2025-05-26 19:12:52,724 - SchemaLinkerAgent - INFO - Identified 2 join(s):\n",
      "2025-05-26 19:12:52,724 - SchemaLinkerAgent - INFO -   - satscores -> frpm: s.cname = f.County Name\n",
      "2025-05-26 19:12:52,724 - SchemaLinkerAgent - INFO -   - satscores -> schools: s.cname = sc.County\n",
      "2025-05-26 19:12:52,724 - SchemaLinkerAgent - INFO - ============================================================\n",
      "2025-05-26 19:12:52,724 - SchemaLinkerAgent - INFO - Updated node node_1748301086.293675_root with schema mapping\n"
     ]
    },
    {
     "name": "stdout",
     "output_type": "stream",
     "text": [
      "\n",
      "[Step 44] Calling: schema_linker\n"
     ]
    },
    {
     "name": "stderr",
     "output_type": "stream",
     "text": [
      "2025-05-26 19:12:54,051 - SQLGeneratorAgent - INFO - SQL generator context prepared for node: node_1748301086.293675_root\n",
      "2025-05-26 19:12:54,052 - SQLGeneratorAgent - INFO - Node detail: {'nodeId': 'node_1748301086.293675_root', 'intent': 'Find the top 5 counties based on average SAT scores, and for each county, include the number of schools and the average free lunch rate.', 'mapping': {'tables': [{'name': 'satscores', 'alias': 's', 'purpose': 'Provides average SAT scores by county'}, {'name': 'frpm', 'alias': 'f', 'purpose': 'Provides average free lunch rate by county'}, {'name': 'schools', 'alias': 'sc', 'purpose': 'Provides the count of schools by county'}], 'columns': [{'table': 'satscores', 'column': 'cname', 'usedFor': 'group|join'}, {'table': 'satscores', 'column': 'AvgScrRead', 'usedFor': 'aggregate'}, {'table': 'satscores', 'column': 'AvgScrMath', 'usedFor': 'aggregate'}, {'table': 'satscores', 'column': 'AvgScrWrite', 'usedFor': 'aggregate'}, {'table': 'frpm', 'column': 'County Name', 'usedFor': 'join'}, {'table': 'frpm', 'column': 'Percent (%) Eligible Free (K-12)', 'usedFor': 'aggregate'}, {'table': 'schools', 'column': 'County', 'usedFor': 'join'}, {'table': 'schools', 'column': 'CDSCode', 'usedFor': 'count'}], 'joins': [{'from': 'satscores', 'to': 'frpm', 'on': 's.cname = f.County Name'}, {'from': 'satscores', 'to': 'schools', 'on': 's.cname = sc.County'}]}, 'childIds': ['node_1748301086.294442_1', 'node_1748301086.295259_2', 'node_1748301086.295826_3'], 'status': 'created', 'combineStrategy': {'type': 'join', 'joinType': 'INNER'}}\n"
     ]
    },
    {
     "name": "stdout",
     "output_type": "stream",
     "text": [
      "\n",
      "[Step 46] Calling: sql_generator\n"
     ]
    },
    {
     "name": "stderr",
     "output_type": "stream",
     "text": [
      "2025-05-26 19:13:00,296 - SQLGeneratorAgent - INFO - Raw LLM output (first 500 chars): ```xml\n",
      "<sql_generation>\n",
      "  <query_type>complex</query_type>\n",
      "  <sql>\n",
      "    WITH AvgSATScores AS (\n",
      "      SELECT \n",
      "        s.cname AS county_name,\n",
      "        AVG(s.AvgScrRead) AS avg_reading_score,\n",
      "        AVG(s.AvgScrMath) AS avg_math_score,\n",
      "        AVG(s.AvgScrWrite) AS avg_writing_score,\n",
      "        (AVG(s.AvgScrRead) + AVG(s.AvgScrMath) + AVG(s.AvgScrWrite)) / 3 AS avg_total_score\n",
      "      FROM \n",
      "        satscores s\n",
      "      GROUP BY \n",
      "        s.cname\n",
      "    ),\n",
      "    AvgFreeLunchRate AS (\n",
      "      SELECT \n",
      "        f.\"Coun\n",
      "2025-05-26 19:13:00,297 - QueryTreeManager - INFO - Updated node node_1748301086.293675_root\n",
      "2025-05-26 19:13:00,297 - NodeHistoryManager - INFO - Added generate_sql operation for node node_1748301086.293675_root\n",
      "2025-05-26 19:13:00,297 - SQLGeneratorAgent - INFO - ============================================================\n",
      "2025-05-26 19:13:00,297 - SQLGeneratorAgent - INFO - SQL Generation\n",
      "2025-05-26 19:13:00,297 - SQLGeneratorAgent - INFO - Query intent: Find the top 5 counties based on average SAT scores, and for each county, include the number of schools and the average free lunch rate.\n",
      "2025-05-26 19:13:00,297 - SQLGeneratorAgent - INFO - Query type: COMPLEX\n",
      "2025-05-26 19:13:00,297 - SQLGeneratorAgent - INFO - Generated SQL:\n",
      "2025-05-26 19:13:00,297 - SQLGeneratorAgent - INFO -   WITH AvgSATScores AS ( SELECT s.cname AS county_name, AVG(s.AvgScrRead) AS avg_reading_score, AVG(s.AvgScrMath) AS avg_math_score, AVG(s.AvgScrWrite) AS avg_writing_score, (AVG(s.AvgScrRead) + AVG(s.AvgScrMath) + AVG(s.AvgScrWrite)) / 3 AS avg_total_score FROM satscores s GROUP BY s.cname ), AvgFreeLunchRate AS ( SELECT f.\"County Name\" AS county_name, AVG(f.\"Percent (%) Eligible Free (K-12)\") AS avg_free_lunch_rate FROM frpm f GROUP BY f.\"County Name\" ), SchoolCounts AS ( SELECT sc.County AS county_name, COUNT(sc.CDSCode) AS number_of_schools FROM schools sc GROUP BY sc.County ) SELECT a.county_name, a.avg_total_score, c.number_of_schools, b.avg_free_lunch_rate FROM AvgSATScores a INNER JOIN AvgFreeLunchRate b ON a.county_name = b.county_name INNER JOIN SchoolCounts c ON a.county_name = c.county_name ORDER BY a.avg_total_score DESC LIMIT 5\n",
      "2025-05-26 19:13:00,298 - SQLGeneratorAgent - INFO - Explanation: The query finds the top 5 counties based on average SAT scores by calculating the average of reading, math, and writing scores. It then joins this data with the average free lunch rate and the number of schools for each county. The results are ordered by the average total SAT score in descending order, and only the top 5 counties are selected.\n",
      "2025-05-26 19:13:00,298 - SQLGeneratorAgent - INFO - ============================================================\n",
      "2025-05-26 19:13:00,298 - SQLGeneratorAgent - INFO - Updated node node_1748301086.293675_root with generated SQL\n"
     ]
    },
    {
     "name": "stdout",
     "output_type": "stream",
     "text": [
      "\n",
      "[Step 47] Calling: sql_generator\n"
     ]
    },
    {
     "name": "stderr",
     "output_type": "stream",
     "text": [
      "2025-05-26 19:13:01,731 - SQLEvaluatorAgent - INFO - Using current node: node_1748301086.293675_root\n",
      "2025-05-26 19:13:01,737 - QueryTreeManager - INFO - Updated node node_1748301086.293675_root\n"
     ]
    },
    {
     "name": "stdout",
     "output_type": "stream",
     "text": [
      "[SQLExecutor] Connecting to database: /home/norman/work/text-to-sql/MAC-SQL/data/bird/dev_databases/california_schools/california_schools.sqlite\n",
      "\n",
      "[Step 49] Calling: sql_evaluator\n"
     ]
    },
    {
     "name": "stderr",
     "output_type": "stream",
     "text": [
      "2025-05-26 19:13:06,644 - SQLEvaluatorAgent - INFO - Raw LLM output (first 500 chars): ```xml\n",
      "<evaluation>\n",
      "  <answers_intent>yes</answers_intent>\n",
      "  <result_quality>excellent</result_quality>\n",
      "  <result_summary>The results identify the top 5 counties based on average SAT scores, including the number of schools and average free lunch rate for each county.</result_summary>\n",
      "  <issues>\n",
      "    <issue>\n",
      "      <type>performance</type>\n",
      "      <description>Execution time is not provided, which could be useful for performance evaluation.</description>\n",
      "      <severity>low</severity>\n",
      "    </issue>\n",
      "  \n",
      "2025-05-26 19:13:06,644 - SQLEvaluatorAgent - INFO - ============================================================\n",
      "2025-05-26 19:13:06,645 - SQLEvaluatorAgent - INFO - SQL Execution & Evaluation\n",
      "2025-05-26 19:13:06,645 - SQLEvaluatorAgent - INFO - Query intent: Find the top 5 counties based on average SAT scores, and for each county, include the number of schools and the average free lunch rate.\n",
      "2025-05-26 19:13:06,645 - SQLEvaluatorAgent - INFO - Evaluation results:\n",
      "2025-05-26 19:13:06,645 - SQLEvaluatorAgent - INFO -   - Answers intent: YES\n",
      "2025-05-26 19:13:06,645 - SQLEvaluatorAgent - INFO -   - Result quality: EXCELLENT\n",
      "2025-05-26 19:13:06,645 - SQLEvaluatorAgent - INFO -   - Confidence: 0.95\n",
      "2025-05-26 19:13:06,646 - SQLEvaluatorAgent - INFO -   - Summary: The results identify the top 5 counties based on average SAT scores, including the number of schools and average free lunch rate for each county.\n",
      "2025-05-26 19:13:06,646 - SQLEvaluatorAgent - INFO -   Issues found:\n",
      "2025-05-26 19:13:06,646 - SQLEvaluatorAgent - INFO -     - [LOW] Execution time is not provided, which could be useful for performance evaluation.\n",
      "2025-05-26 19:13:06,646 - SQLEvaluatorAgent - INFO - ============================================================\n",
      "2025-05-26 19:13:06,646 - SQLEvaluatorAgent - INFO - Stored analysis for node node_1748301086.293675_root\n",
      "2025-05-26 19:13:06,646 - SQLEvaluatorAgent - INFO - Analysis complete - Answers intent: yes, Quality: excellent\n"
     ]
    },
    {
     "name": "stdout",
     "output_type": "stream",
     "text": [
      "\n",
      "[Step 50] Calling: sql_evaluator\n"
     ]
    },
    {
     "name": "stderr",
     "output_type": "stream",
     "text": [
      "2025-05-26 19:13:10,434 - TaskStatusChecker - INFO - Checking overall task status...\n",
      "2025-05-26 19:13:10,435 - TaskStatusChecker - INFO - Tree status: 4 good, 0 poor, 0 unprocessed\n"
     ]
    },
    {
     "name": "stdout",
     "output_type": "stream",
     "text": [
      "\n",
      "[Step 52] Calling: task_status_checker\n",
      "\n",
      "[Step 53] Calling: task_status_checker\n",
      "\n",
      "[Step 55] ✅ WORKFLOW COMPLETE\n",
      "\n",
      "================================================================================\n",
      "WORKFLOW COMPLETED SUCCESSFULLY\n"
     ]
    }
   ],
   "source": [
    "# Process messages with proper loop control\n",
    "step_count = 0\n",
    "max_steps = 100  # Safety limit\n",
    "last_agent_called = None\n",
    "workflow_complete = False\n",
    "retry_count = {}  # Track retries per node\n",
    "last_message_content = None  # Track duplicate messages\n",
    "duplicate_count = 0\n",
    "\n",
    "print(\"=\"*80)\n",
    "print(\"WORKFLOW EXECUTION (Status-Based)\")\n",
    "print(\"=\"*80)\n",
    "\n",
    "async for message in stream:\n",
    "    # Check for duplicate messages first\n",
    "    current_content = str(message.content) if hasattr(message, 'content') else None\n",
    "    if current_content and current_content == last_message_content:\n",
    "        duplicate_count += 1\n",
    "        if duplicate_count >= 3:  # Stop after 3 identical messages\n",
    "            print(f\"\\n⚠️  Detected repeated messages. Stopping to prevent infinite loop.\")\n",
    "            break\n",
    "    else:\n",
    "        duplicate_count = 0\n",
    "        last_message_content = current_content\n",
    "    \n",
    "    # Process coordinator messages\n",
    "    if hasattr(message, 'source') and message.source == 'coordinator':\n",
    "        step_count += 1\n",
    "        \n",
    "        # Check max steps IMMEDIATELY after incrementing\n",
    "        if step_count >= max_steps:\n",
    "            print(f\"\\n⚠️  Reached maximum steps ({max_steps}). Stopping.\")\n",
    "            break\n",
    "        \n",
    "        if hasattr(message, 'content'):\n",
    "            if isinstance(message.content, list) and len(message.content) > 0:\n",
    "                # Tool calls\n",
    "                for tool_call in message.content:\n",
    "                    if hasattr(tool_call, 'name'):\n",
    "                        agent_name = tool_call.name\n",
    "                        last_agent_called = agent_name\n",
    "                        \n",
    "                        # Show which tool is being called\n",
    "                        print(f\"\\n[Step {step_count}] Calling: {agent_name}\")\n",
    "                        \n",
    "                        # Check for error patterns\n",
    "                        if hasattr(tool_call, 'arguments'):\n",
    "                            args = str(tool_call.arguments)\n",
    "                            if \"takes 2 positional arguments\" in args:\n",
    "                                print(f\"         → ❌ Tool call error detected\")\n",
    "                                print(f\"         → The coordinator is calling the tool incorrectly\")\n",
    "                                workflow_complete = False\n",
    "                                break\n",
    "                        \n",
    "                        # Get current node info for context\n",
    "                        if agent_name not in [\"query_analyzer\", \"task_status_checker\"]:\n",
    "                            current_id = await memory.get(\"current_node_id\")\n",
    "                            if current_id:\n",
    "                                node = await tree_manager.get_node(current_id)\n",
    "                                if node:\n",
    "                                    # Show node intent\n",
    "                                    if node.intent:\n",
    "                                        print(f\"         Current node: {node.intent[:50]}...\")\n",
    "                                    \n",
    "                                    # Show node status\n",
    "                                    status_info = []\n",
    "                                    if node.mapping and node.mapping.tables:\n",
    "                                        status_info.append(\"✓mapped\")\n",
    "                                    else:\n",
    "                                        status_info.append(\"✗no-mapping\")\n",
    "                                    \n",
    "                                    if node.sql:\n",
    "                                        status_info.append(\"✓has-sql\")\n",
    "                                    else:\n",
    "                                        status_info.append(\"✗no-sql\")\n",
    "                                    \n",
    "                                    if node.executionResult:\n",
    "                                        status_info.append(\"✓executed\")\n",
    "                                        \n",
    "                                    # Check if this is a retry\n",
    "                                    if agent_name == \"sql_generator\" and node.sql:\n",
    "                                        retry_count[current_id] = retry_count.get(current_id, 0) + 1\n",
    "                                        print(f\"         Status: {' '.join(status_info)} [RETRY #{retry_count[current_id]}]\")\n",
    "                                    else:\n",
    "                                        print(f\"         Status: {' '.join(status_info)}\")\n",
    "                            \n",
    "            elif isinstance(message.content, str):\n",
    "                # Check if this is termination\n",
    "                if \"TERMINATE\" in message.content:\n",
    "                    workflow_complete = True\n",
    "                    print(f\"\\n[Step {step_count}] ✅ WORKFLOW COMPLETE\")\n",
    "                    break\n",
    "                # Check for error messages\n",
    "                elif \"error\" in message.content.lower() or \"takes 2 positional arguments\" in message.content:\n",
    "                    print(f\"\\n[Step {step_count}] ❌ Error in coordinator message\")\n",
    "                    print(f\"         Content: {message.content[:100]}...\")\n",
    "    \n",
    "    # Capture and display tool responses\n",
    "    elif hasattr(message, 'source') and message.source != 'coordinator':\n",
    "        if hasattr(message, 'content'):\n",
    "            content = str(message.content)\n",
    "            \n",
    "            # Check for tool errors\n",
    "            if \"takes 2 positional arguments\" in content:\n",
    "                print(f\"         → ❌ Tool error: Incorrect arguments provided\")\n",
    "                print(f\"         → This is why the workflow is stuck!\")\n",
    "                # Force stop on tool errors\n",
    "                print(f\"\\n⚠️  Stopping due to tool invocation error.\")\n",
    "                break\n",
    "            \n",
    "            # Special handling for task_status_checker to show ACTION and quality\n",
    "            if last_agent_called == \"task_status_checker\" and \"ACTION:\" in content:\n",
    "                import re\n",
    "                action_match = re.search(r'ACTION:\\s*(.+?)(?:\\n|$)', content)\n",
    "                if action_match:\n",
    "                    action = action_match.group(1).strip()\n",
    "                    print(f\"         → ACTION: {action}\")\n",
    "                    \n",
    "                    # Check for quality info\n",
    "                    if \"Evaluation Quality:\" in content:\n",
    "                        quality_match = re.search(r'Evaluation Quality:\\s*(\\w+)', content)\n",
    "                        if quality_match:\n",
    "                            quality = quality_match.group(1)\n",
    "                            print(f\"         → Quality: {quality}\")\n",
    "                    \n",
    "                    # Show what this means\n",
    "                    if \"RETRY NODE\" in action:\n",
    "                        print(\"         → Next: Regenerate SQL due to poor quality\")\n",
    "                    elif \"PROCESS NODE\" in action:\n",
    "                        print(\"         → Next: Continue processing this node\")\n",
    "                    elif \"TASK COMPLETE\" in action:\n",
    "                        print(\"         → Next: TERMINATE\")\n",
    "            \n",
    "            # Show success/failure for other tools\n",
    "            elif last_agent_called:\n",
    "                if \"error\" in content.lower():\n",
    "                    print(f\"         → ❌ Error occurred\")\n",
    "                else:\n",
    "                    print(f\"         → ✅ Success\")\n",
    "\n",
    "print(\"\\n\" + \"=\"*80)\n",
    "if workflow_complete:\n",
    "    print(\"WORKFLOW COMPLETED SUCCESSFULLY\")\n",
    "else:\n",
    "    print(\"WORKFLOW STOPPED (may not have completed)\")\n",
    "    print(\"\\nPossible issues:\")\n",
    "    print(\"- task_status_checker is being called with wrong arguments\")\n",
    "    print(\"- The coordinator needs to call it without any arguments\")\n",
    "    \n",
    "# Show retry statistics\n",
    "if retry_count:\n",
    "    print(\"\\nRetry Statistics:\")\n",
    "    for node_id, count in retry_count.items():\n",
    "        print(f\"  Node {node_id[-15:]}: {count} retries\")"
   ]
  },
  {
   "cell_type": "code",
   "execution_count": 11,
   "metadata": {},
   "outputs": [
    {
     "name": "stdout",
     "output_type": "stream",
     "text": [
      "\n",
      "============================================================\n",
      "PROCESSING SUMMARY\n",
      "============================================================\n",
      "\n",
      "Total nodes created: 4\n",
      "  executed_success: 4\n",
      "\n",
      "Nodes with SQL results:\n",
      "\n",
      "  Node: 086.293675_root\n",
      "  Intent: Find the top 5 counties based on average SAT scores, and for...\n",
      "  Result: 5 rows\n",
      "  Sample: Marin - 535.3846153846154\n",
      "\n",
      "  Node: 301086.294442_1\n",
      "  Intent: Calculate average SAT scores for each county....\n",
      "  Result: 5 rows\n",
      "  Sample: Alameda - 480.5753424657534\n",
      "\n",
      "  Node: 301086.295259_2\n",
      "  Intent: Calculate the average free lunch rate for each county....\n",
      "  Result: 5 rows\n",
      "  Sample: Alameda - 0.4532504204074731\n",
      "\n",
      "  Node: 301086.295826_3\n",
      "  Intent: Count the number of schools in each county....\n",
      "  Result: 5 rows\n",
      "  Sample: Alameda - 761\n"
     ]
    }
   ],
   "source": [
    "# Show summary of what was processed\n",
    "print(\"\\n\" + \"=\"*60)\n",
    "print(\"PROCESSING SUMMARY\")\n",
    "print(\"=\"*60)\n",
    "\n",
    "tree = await tree_manager.get_tree()\n",
    "if tree and \"nodes\" in tree:\n",
    "    # Count nodes by status\n",
    "    status_counts = {}\n",
    "    for node_id, node_data in tree[\"nodes\"].items():\n",
    "        status = node_data.get(\"status\", \"unknown\")\n",
    "        status_counts[status] = status_counts.get(status, 0) + 1\n",
    "    \n",
    "    print(f\"\\nTotal nodes created: {len(tree['nodes'])}\")\n",
    "    for status, count in status_counts.items():\n",
    "        print(f\"  {status}: {count}\")\n",
    "    \n",
    "    # Show nodes with results\n",
    "    print(\"\\nNodes with SQL results:\")\n",
    "    for node_id, node_data in tree[\"nodes\"].items():\n",
    "        if node_data.get(\"sql\") and node_data.get(\"executionResult\"):\n",
    "            print(f\"\\n  Node: {node_id[-15:]}\")\n",
    "            print(f\"  Intent: {node_data['intent'][:60]}...\")\n",
    "            \n",
    "            result = node_data['executionResult']\n",
    "            if result.get('data'):\n",
    "                print(f\"  Result: {result.get('rowCount', 0)} rows\")\n",
    "                # Show first result\n",
    "                first_row = result['data'][0] if result['data'] else None\n",
    "                if first_row:\n",
    "                    if isinstance(first_row, list) and len(first_row) >= 2:\n",
    "                        print(f\"  Sample: {first_row[0]} - {first_row[1]}\")\n",
    "                    else:\n",
    "                        print(f\"  Sample: {str(first_row)[:200]}...\")"
   ]
  },
  {
   "cell_type": "code",
   "execution_count": null,
   "metadata": {},
   "outputs": [],
   "source": []
  }
 ],
 "metadata": {
  "kernelspec": {
   "display_name": "Python 3 (ipykernel)",
   "language": "python",
   "name": "python3"
  },
  "language_info": {
   "codemirror_mode": {
    "name": "ipython",
    "version": 3
   },
   "file_extension": ".py",
   "mimetype": "text/x-python",
   "name": "python",
   "nbconvert_exporter": "python",
   "pygments_lexer": "ipython3",
   "version": "3.12.9"
  }
 },
 "nbformat": 4,
 "nbformat_minor": 4
}
