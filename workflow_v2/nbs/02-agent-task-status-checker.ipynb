{
 "cells": [
  {
   "cell_type": "markdown",
   "metadata": {},
   "source": [
    "# Task Status Checker Test Notebook\n",
    "\n",
    "This notebook tests the TaskStatusChecker, which is now a simple deterministic function that doesn't use LLM calls.\n",
    "\n",
    "**Important**: Run all cells in order from the beginning. The cells depend on variables defined in previous cells."
   ]
  },
  {
   "cell_type": "code",
   "execution_count": 1,
   "metadata": {},
   "outputs": [],
   "source": [
    "import os\n",
    "import sys\n",
    "import asyncio\n",
    "from pathlib import Path\n",
    "from typing import Dict, Any, List\n",
    "\n",
    "sys.path.append('../src')\n",
    "\n",
    "# Import required components\n",
    "from keyvalue_memory import KeyValueMemory\n",
    "from task_status_checker import TaskStatusChecker, TaskStatusCheckerArgs\n",
    "from query_tree_manager import QueryTreeManager\n",
    "from node_history_manager import NodeHistoryManager\n",
    "from memory_content_types import QueryNode, NodeStatus, QueryMapping, TableMapping, ColumnMapping"
   ]
  },
  {
   "cell_type": "markdown",
   "metadata": {},
   "source": [
    "## 1. Initialize Memory and Managers"
   ]
  },
  {
   "cell_type": "code",
   "execution_count": 2,
   "metadata": {},
   "outputs": [
    {
     "name": "stdout",
     "output_type": "stream",
     "text": [
      "Single unprocessed node:\n",
      "STATUS REPORT:\n",
      "- Total nodes: 1\n",
      "- Processed with good results: 0\n",
      "- Needs processing: 1\n",
      "- Needs improvement: 0\n",
      "CURRENT NODE CONTENT:\n",
      "- Node ID: node_1748279401.265549_root\n",
      "- Intent: Find all students\n",
      "- Status: created\n",
      "- Parent ID: None\n",
      "- Children: []\n",
      "- Mapping:\n",
      "\n",
      "ACTION: PROCESS NODE: node_1748279401.265549_root needs SQL generation for 'Find all students...'\n",
      "\n",
      "Expected: ACTION: PROCESS NODE for the root node\n"
     ]
    }
   ],
   "source": [
    "# Initialize shared memory\n",
    "memory = KeyValueMemory()\n",
    "\n",
    "# Initialize managers\n",
    "tree_manager = QueryTreeManager(memory)\n",
    "task_checker = TaskStatusChecker(memory)\n",
    "\n",
    "# Clear and create a simple tree\n",
    "await memory.clear()\n",
    "root_id = await tree_manager.initialize(\"Find all students\")\n",
    "\n",
    "# Check status using TaskStatusCheckerArgs\n",
    "args = TaskStatusCheckerArgs(task=\"Check single unprocessed node\")\n",
    "result = await task_checker.run(args)\n",
    "print(\"Single unprocessed node:\")\n",
    "print(result)\n",
    "print(\"\\nExpected: ACTION: PROCESS NODE for the root node\")"
   ]
  },
  {
   "cell_type": "markdown",
   "metadata": {},
   "source": [
    "## 2. Test Scenario 1: Empty Tree"
   ]
  },
  {
   "cell_type": "code",
   "execution_count": 3,
   "metadata": {},
   "outputs": [
    {
     "name": "stdout",
     "output_type": "stream",
     "text": [
      "Multiple nodes with different states:\n",
      "STATUS REPORT:\n",
      "- Total nodes: 3\n",
      "- Processed with good results: 1\n",
      "- Needs processing: 1\n",
      "- Needs improvement: 1\n",
      "CURRENT NODE CONTENT:\n",
      "- Node ID: node_1748279401.2734153_2\n",
      "- Intent: Calculate average\n",
      "- Status: executed_success\n",
      "- Parent ID: node_1748279401.27327_root\n",
      "- Children: []\n",
      "- Mapping:\n",
      "  - Tables: students\n",
      "  - Columns: students.grade\n",
      "- SQL: SELECT AVG(grade) FROM students\n",
      "- Execution Result:\n",
      "  - Status: success\n",
      "  - Row count: 1\n",
      "  - First row: {'avg_grade': None}...\n",
      "- Evaluation Quality: poor\n",
      "\n",
      "ACTION: PROCESS NODE: node_1748279401.27327_root needs SQL generation for 'Complex query...'\n",
      "\n",
      "Expected: Shows detailed current node content for node2 with poor quality\n"
     ]
    }
   ],
   "source": [
    "# Create child nodes properly using QueryNode objects\n",
    "import time\n",
    "\n",
    "# Clear and create a complex tree\n",
    "await memory.clear()\n",
    "\n",
    "# Create root node\n",
    "root_id = await tree_manager.initialize(\"Complex query\")\n",
    "\n",
    "# Create first child node\n",
    "child1_id = f\"node_{time.time()}_1\"\n",
    "node1 = QueryNode(\n",
    "    nodeId=child1_id,\n",
    "    intent=\"Filter students\",\n",
    "    parentId=root_id,\n",
    "    mapping=QueryMapping(\n",
    "        tables=[TableMapping(name=\"students\", alias=\"s\")],\n",
    "        columns=[\n",
    "            ColumnMapping(table=\"students\", column=\"id\", usedFor=\"select\"),\n",
    "            ColumnMapping(table=\"students\", column=\"name\", usedFor=\"select\"),\n",
    "            ColumnMapping(table=\"students\", column=\"grade\", usedFor=\"filter\")\n",
    "        ]\n",
    "    )\n",
    ")\n",
    "await tree_manager.add_node(node1, root_id)\n",
    "\n",
    "# Create second child node\n",
    "child2_id = f\"node_{time.time()}_2\"\n",
    "node2 = QueryNode(\n",
    "    nodeId=child2_id,\n",
    "    intent=\"Calculate average\",\n",
    "    parentId=root_id,\n",
    "    mapping=QueryMapping(\n",
    "        tables=[TableMapping(name=\"students\", alias=\"s\")],\n",
    "        columns=[ColumnMapping(table=\"students\", column=\"grade\", usedFor=\"aggregate\")]\n",
    "    )\n",
    ")\n",
    "await tree_manager.add_node(node2, root_id)\n",
    "\n",
    "# Update node1 with SQL and good result\n",
    "node1.sql = \"SELECT * FROM students WHERE grade > 90\"\n",
    "node1.executionResult = {\n",
    "    \"status\": \"success\", \n",
    "    \"rowCount\": 5, \n",
    "    \"data\": [\n",
    "        {\"id\": 1, \"name\": \"John\", \"grade\": 95}, \n",
    "        {\"id\": 2, \"name\": \"Jane\", \"grade\": 92}\n",
    "    ]\n",
    "}\n",
    "node1.status = NodeStatus.EXECUTED_SUCCESS\n",
    "await tree_manager.update_node(node1.nodeId, node1)\n",
    "\n",
    "# Store analysis for node1\n",
    "await memory.set(f\"node_{child1_id}_analysis\", {\n",
    "    \"result_quality\": \"excellent\",\n",
    "    \"answers_intent\": \"yes\"\n",
    "})\n",
    "\n",
    "# Update node2 with SQL but poor result\n",
    "node2.sql = \"SELECT AVG(grade) FROM students\"\n",
    "node2.executionResult = {\n",
    "    \"status\": \"success\", \n",
    "    \"rowCount\": 1, \n",
    "    \"data\": [{\"avg_grade\": None}]\n",
    "}\n",
    "node2.status = NodeStatus.EXECUTED_SUCCESS\n",
    "await tree_manager.update_node(node2.nodeId, node2)\n",
    "\n",
    "# Store analysis for node2\n",
    "await memory.set(f\"node_{child2_id}_analysis\", {\n",
    "    \"result_quality\": \"poor\",\n",
    "    \"answers_intent\": \"no\"\n",
    "})\n",
    "\n",
    "# Set current node to node2\n",
    "await tree_manager.set_current_node_id(child2_id)\n",
    "\n",
    "# Check status with TaskStatusCheckerArgs\n",
    "args = TaskStatusCheckerArgs(task=\"Check multiple nodes with different states\")\n",
    "result = await task_checker.run(args)\n",
    "print(\"Multiple nodes with different states:\")\n",
    "print(result)\n",
    "print(\"\\nExpected: Shows detailed current node content for node2 with poor quality\")"
   ]
  },
  {
   "cell_type": "markdown",
   "metadata": {},
   "source": [
    "## 6. Test Current Node Update Feature"
   ]
  },
  {
   "cell_type": "code",
   "execution_count": 4,
   "metadata": {},
   "outputs": [
    {
     "name": "stdout",
     "output_type": "stream",
     "text": [
      "Current node before: node_1748279401.279802_root\n",
      "\n",
      "Task checker result:\n",
      "STATUS REPORT:\n",
      "- Total nodes: 4\n",
      "- Processed with good results: 0\n",
      "- Needs processing: 4\n",
      "- Needs improvement: 0\n",
      "CURRENT NODE CONTENT:\n",
      "- Node ID: node_1748279401.279802_root\n",
      "- Intent: Main query\n",
      "- Status: created\n",
      "- Parent ID: None\n",
      "- Children: ['node_1748279401.2798421_child1', 'node_1748279401.2799098_child2', 'node_1748279401.2799687_child3']\n",
      "- Mapping:\n",
      "\n",
      "ACTION: PROCESS NODE: node_1748279401.2798421_child1 needs SQL generation for 'First subquery...'\n",
      "\n",
      "Current node after: node_1748279401.2798421_child1\n",
      "\n",
      "The current node should have been updated to the recommended node\n"
     ]
    }
   ],
   "source": [
    "# Clear and create tree with unprocessed nodes\n",
    "await memory.clear()\n",
    "root_id = await tree_manager.initialize(\"Main query\")\n",
    "\n",
    "# Add multiple unprocessed children - must use QueryNode objects\n",
    "child1_id = f\"node_{time.time()}_child1\"\n",
    "child1 = QueryNode(\n",
    "    nodeId=child1_id,\n",
    "    intent=\"First subquery\",\n",
    "    parentId=root_id,\n",
    "    mapping=QueryMapping()\n",
    ")\n",
    "await tree_manager.add_node(child1, root_id)\n",
    "\n",
    "child2_id = f\"node_{time.time()}_child2\"\n",
    "child2 = QueryNode(\n",
    "    nodeId=child2_id,\n",
    "    intent=\"Second subquery\",\n",
    "    parentId=root_id,\n",
    "    mapping=QueryMapping()\n",
    ")\n",
    "await tree_manager.add_node(child2, root_id)\n",
    "\n",
    "child3_id = f\"node_{time.time()}_child3\"\n",
    "child3 = QueryNode(\n",
    "    nodeId=child3_id,\n",
    "    intent=\"Third subquery\",\n",
    "    parentId=root_id,\n",
    "    mapping=QueryMapping()\n",
    ")\n",
    "await tree_manager.add_node(child3, root_id)\n",
    "\n",
    "# Check current node before\n",
    "current_before = await tree_manager.get_current_node_id()\n",
    "print(f\"Current node before: {current_before}\")\n",
    "\n",
    "# Run task checker with TaskStatusCheckerArgs\n",
    "args = TaskStatusCheckerArgs(task=\"Check node update feature\")\n",
    "result = await task_checker.run(args)\n",
    "print(\"\\nTask checker result:\")\n",
    "print(result)\n",
    "\n",
    "# Check current node after\n",
    "current_after = await tree_manager.get_current_node_id()\n",
    "print(f\"\\nCurrent node after: {current_after}\")\n",
    "print(\"\\nThe current node should have been updated to the recommended node\")"
   ]
  },
  {
   "cell_type": "markdown",
   "metadata": {},
   "source": [
    "## 7. Test Priority: Leaf Nodes First"
   ]
  },
  {
   "cell_type": "code",
   "execution_count": 5,
   "metadata": {},
   "outputs": [
    {
     "name": "stdout",
     "output_type": "stream",
     "text": [
      "Tree with hierarchy:\n",
      "STATUS REPORT:\n",
      "- Total nodes: 4\n",
      "- Processed with good results: 0\n",
      "- Needs processing: 4\n",
      "- Needs improvement: 0\n",
      "CURRENT NODE CONTENT:\n",
      "- Node ID: node_1748279401.28578_root\n",
      "- Intent: Main query\n",
      "- Status: created\n",
      "- Parent ID: None\n",
      "- Children: ['node_1748279401.285818_parent']\n",
      "- Mapping:\n",
      "\n",
      "ACTION: PROCESS NODE: node_1748279401.2858858_gc1 needs SQL generation for 'Grandchild 1...'\n",
      "\n",
      "Selected node: node_1748279401.2858858_gc1\n",
      "\n",
      "Expected: Should select a leaf node (grandchild) first, not the parent\n"
     ]
    }
   ],
   "source": [
    "# Clear and create tree with parent-child hierarchy\n",
    "await memory.clear()\n",
    "root_id = await tree_manager.initialize(\"Main query\")\n",
    "\n",
    "# Add parent node\n",
    "parent_id = f\"node_{time.time()}_parent\"\n",
    "parent_node = QueryNode(\n",
    "    nodeId=parent_id,\n",
    "    intent=\"Parent query\",\n",
    "    parentId=root_id,\n",
    "    mapping=QueryMapping()\n",
    ")\n",
    "await tree_manager.add_node(parent_node, root_id)\n",
    "\n",
    "# Add children to parent\n",
    "grandchild1_id = f\"node_{time.time()}_gc1\"\n",
    "grandchild1 = QueryNode(\n",
    "    nodeId=grandchild1_id,\n",
    "    intent=\"Grandchild 1\",\n",
    "    parentId=parent_id,\n",
    "    mapping=QueryMapping()\n",
    ")\n",
    "await tree_manager.add_node(grandchild1, parent_id)\n",
    "\n",
    "grandchild2_id = f\"node_{time.time()}_gc2\"\n",
    "grandchild2 = QueryNode(\n",
    "    nodeId=grandchild2_id,\n",
    "    intent=\"Grandchild 2\",\n",
    "    parentId=parent_id,\n",
    "    mapping=QueryMapping()\n",
    ")\n",
    "await tree_manager.add_node(grandchild2, parent_id)\n",
    "\n",
    "# Run task checker with TaskStatusCheckerArgs\n",
    "args = TaskStatusCheckerArgs(task=\"Check leaf node priority\")\n",
    "result = await task_checker.run(args)\n",
    "print(\"Tree with hierarchy:\")\n",
    "print(result)\n",
    "\n",
    "# Check which node was selected\n",
    "current = await tree_manager.get_current_node_id()\n",
    "print(f\"\\nSelected node: {current}\")\n",
    "print(\"\\nExpected: Should select a leaf node (grandchild) first, not the parent\")"
   ]
  },
  {
   "cell_type": "markdown",
   "metadata": {},
   "source": [
    "## 8. Analyze Tree Structure Function"
   ]
  },
  {
   "cell_type": "code",
   "execution_count": 6,
   "metadata": {},
   "outputs": [
    {
     "name": "stdout",
     "output_type": "stream",
     "text": [
      "Tree Analysis:\n",
      "  Total nodes: 4\n",
      "  Processed (good): 0\n",
      "  Processed (poor): 0\n",
      "  Unprocessed: 4\n",
      "  Recommended action: process\n",
      "  Recommended node: node_1748279401.2858858_gc1\n"
     ]
    }
   ],
   "source": [
    "# Helper to visualize tree analysis\n",
    "async def show_tree_analysis():\n",
    "    \"\"\"Show detailed tree analysis\"\"\"\n",
    "    analysis = await task_checker.analyze_tree()\n",
    "    \n",
    "    print(\"Tree Analysis:\")\n",
    "    print(f\"  Total nodes: {analysis.get('total_nodes', 0)}\")\n",
    "    print(f\"  Processed (good): {len(analysis.get('processed_good', []))}\")\n",
    "    print(f\"  Processed (poor): {len(analysis.get('processed_poor', []))}\")\n",
    "    print(f\"  Unprocessed: {len(analysis.get('unprocessed', []))}\")\n",
    "    print(f\"  Recommended action: {analysis.get('recommended_action', 'none')}\")\n",
    "    print(f\"  Recommended node: {analysis.get('recommended_node', 'none')}\")\n",
    "    \n",
    "    return analysis\n",
    "\n",
    "# Show current tree analysis\n",
    "analysis = await show_tree_analysis()"
   ]
  },
  {
   "cell_type": "markdown",
   "metadata": {},
   "source": [
    "## 9. Test Error Handling"
   ]
  },
  {
   "cell_type": "code",
   "execution_count": 7,
   "metadata": {},
   "outputs": [
    {
     "name": "stdout",
     "output_type": "stream",
     "text": [
      "No tree error:\n",
      "STATUS REPORT:\n",
      "- Error: No query tree found\n",
      "\n",
      "ACTION: ERROR: No query tree found\n",
      "\n",
      "Expected: ACTION: ERROR indicating no query tree found\n"
     ]
    }
   ],
   "source": [
    "# Clear memory completely\n",
    "await memory.clear()\n",
    "\n",
    "# Don't initialize any tree\n",
    "args = TaskStatusCheckerArgs(task=\"Check error handling for no tree\")\n",
    "result = await task_checker.run(args)\n",
    "print(\"No tree error:\")\n",
    "print(result)\n",
    "print(\"\\nExpected: ACTION: ERROR indicating no query tree found\")"
   ]
  },
  {
   "cell_type": "markdown",
   "metadata": {},
   "source": [
    "## 10. Test Tool Interface with Pydantic Model"
   ]
  },
  {
   "cell_type": "code",
   "execution_count": 8,
   "metadata": {},
   "outputs": [
    {
     "name": "stdout",
     "output_type": "stream",
     "text": [
      "Testing TaskStatusChecker as a tool...\n",
      "==================================================\n",
      "Tool name: task_status_checker\n",
      "Tool description: Check task status and determine next action based on query tree state\n",
      "Args type: <class 'task_status_checker.TaskStatusCheckerArgs'>\n",
      "Return type: <class 'str'>\n",
      "\n",
      "Default args: task=''\n",
      "Custom args: task='Check specific task'\n",
      "\n",
      "Pydantic model schema:\n",
      "  Title: TaskStatusCheckerArgs\n",
      "  Properties: ['task']\n",
      "  Task field: {'default': '', 'description': 'The task instruction (optional)', 'title': 'Task', 'type': 'string'}\n",
      "\n",
      "✅ Tool interface works correctly with Pydantic model!\n"
     ]
    }
   ],
   "source": [
    "# Test the tool interface\n",
    "print(\"Testing TaskStatusChecker as a tool...\")\n",
    "print(\"=\" * 50)\n",
    "\n",
    "# Get the tool\n",
    "tool = task_checker.get_tool()\n",
    "\n",
    "# Check tool properties\n",
    "print(f\"Tool name: {tool.name}\")\n",
    "print(f\"Tool description: {tool.description}\")\n",
    "print(f\"Args type: {tool._args_type}\")\n",
    "print(f\"Return type: {tool._return_type}\")\n",
    "\n",
    "# Test creating arguments\n",
    "args1 = TaskStatusCheckerArgs()  # Default empty task\n",
    "args2 = TaskStatusCheckerArgs(task=\"Check specific task\")\n",
    "\n",
    "print(f\"\\nDefault args: {args1}\")\n",
    "print(f\"Custom args: {args2}\")\n",
    "\n",
    "# Test the Pydantic model schema\n",
    "schema = TaskStatusCheckerArgs.model_json_schema()\n",
    "print(f\"\\nPydantic model schema:\")\n",
    "print(f\"  Title: {schema.get('title')}\")\n",
    "print(f\"  Properties: {list(schema.get('properties', {}).keys())}\")\n",
    "print(f\"  Task field: {schema['properties']['task']}\")\n",
    "\n",
    "print(\"\\n✅ Tool interface works correctly with Pydantic model!\")"
   ]
  }
 ],
 "metadata": {
  "kernelspec": {
   "display_name": "Python 3 (ipykernel)",
   "language": "python",
   "name": "python3"
  },
  "language_info": {
   "codemirror_mode": {
    "name": "ipython",
    "version": 3
   },
   "file_extension": ".py",
   "mimetype": "text/x-python",
   "name": "python",
   "nbconvert_exporter": "python",
   "pygments_lexer": "ipython3",
   "version": "3.12.9"
  }
 },
 "nbformat": 4,
 "nbformat_minor": 4
}
