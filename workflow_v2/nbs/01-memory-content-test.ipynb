{
 "cells": [
  {
   "cell_type": "code",
   "execution_count": 1,
   "id": "7200744a-b820-483f-9379-71ba6687769a",
   "metadata": {},
   "outputs": [],
   "source": [
    "import sys\n",
    "import os\n",
    "import asyncio\n",
    "import logging\n",
    "import json\n",
    "from typing import Dict, Any, List, Optional\n",
    "\n",
    "# Add the parent directory to the path so we can import our modules\n",
    "sys.path.append('../src')\n",
    "\n",
    "# Configure logging\n",
    "logging.basicConfig(level=logging.DEBUG, \n",
    "                    format='%(asctime)s - %(name)s - %(levelname)s - %(message)s')"
   ]
  },
  {
   "cell_type": "code",
   "execution_count": 2,
   "id": "7b4febed-6962-45d3-ad09-ac84be4e0953",
   "metadata": {},
   "outputs": [
    {
     "name": "stderr",
     "output_type": "stream",
     "text": [
      "2025-05-24 13:29:44,435 - root - DEBUG - [KeyValueMemory] Initialized.\n"
     ]
    },
    {
     "name": "stdout",
     "output_type": "stream",
     "text": [
      "KeyValueMemory initialized: <keyvalue_memory.KeyValueMemory object at 0x783b9ee35610>, name: test_memory\n"
     ]
    }
   ],
   "source": [
    "from keyvalue_memory import KeyValueMemory\n",
    "\n",
    "memory = KeyValueMemory(name=\"test_memory\")\n",
    "print(f\"KeyValueMemory initialized: {memory}, name: {memory.name}\")"
   ]
  },
  {
   "cell_type": "code",
   "execution_count": 3,
   "id": "2a00fc16-8add-44b8-b928-f06bb44761f0",
   "metadata": {},
   "outputs": [
    {
     "name": "stdout",
     "output_type": "stream",
     "text": [
      "load json file from /home/norman/work/text-to-sql/MAC-SQL/data/bird/dev_tables.json\n",
      "\n",
      "Loading all database info...\n",
      "Found 11 databases in bird dataset\n"
     ]
    }
   ],
   "source": [
    "from schema_reader import SchemaReader\n",
    "\n",
    "data_path = \"/home/norman/work/text-to-sql/MAC-SQL/data/bird\"\n",
    "tables_json_path = os.path.join(data_path, \"dev_tables.json\")\n",
    "\n",
    "schema_reader = SchemaReader(\n",
    "    data_path=data_path,\n",
    "    tables_json_path=tables_json_path,\n",
    "    dataset_name=\"bird\",\n",
    "    lazy=False\n",
    ")\n",
    "\n",
    "# Load schema for california_schools database\n",
    "db_id = \"california_schools\""
   ]
  },
  {
   "cell_type": "code",
   "execution_count": 4,
   "id": "f7c075ed-dbab-4661-ab80-c74a060f269c",
   "metadata": {},
   "outputs": [
    {
     "name": "stdout",
     "output_type": "stream",
     "text": [
      "dict_keys(['frpm', 'satscores', 'schools'])\n"
     ]
    }
   ],
   "source": [
    "schema_xml, fk_infos, chosen_schemas = schema_reader.generate_schema_description(db_id, {})\n",
    "print(chosen_schemas.keys())"
   ]
  },
  {
   "cell_type": "code",
   "execution_count": 7,
   "id": "41203297-49be-482b-93dc-efd6ec4e6107",
   "metadata": {},
   "outputs": [
    {
     "name": "stderr",
     "output_type": "stream",
     "text": [
      "2025-05-24 13:31:29,807 - root - DEBUG - [KeyValueMemory] Added content with metadata: {'variable_name': 'databaseSchema'}. Store size: 1\n",
      "2025-05-24 13:31:29,807 - root - DEBUG - [KeyValueMemory] Set key 'databaseSchema'.\n",
      "2025-05-24 13:31:29,808 - DatabaseSchemaManager - INFO - Initialized empty database schema\n",
      "2025-05-24 13:31:29,808 - root - DEBUG - [KeyValueMemory] Querying for variable_name='databaseSchema', found 1 item(s) (returning latest).\n",
      "2025-05-24 13:31:29,808 - root - DEBUG - [KeyValueMemory] Added content with metadata: {'variable_name': 'databaseSchema'}. Store size: 2\n",
      "2025-05-24 13:31:29,809 - root - DEBUG - [KeyValueMemory] Set key 'databaseSchema'.\n",
      "2025-05-24 13:31:29,809 - DatabaseSchemaManager - INFO - Added table 'frpm' to schema\n",
      "2025-05-24 13:31:29,810 - root - DEBUG - [KeyValueMemory] Querying for variable_name='databaseSchema', found 1 item(s) (returning latest).\n",
      "2025-05-24 13:31:29,810 - root - DEBUG - [KeyValueMemory] Added content with metadata: {'variable_name': 'databaseSchema'}. Store size: 3\n",
      "2025-05-24 13:31:29,810 - root - DEBUG - [KeyValueMemory] Set key 'databaseSchema'.\n",
      "2025-05-24 13:31:29,810 - DatabaseSchemaManager - INFO - Added table 'satscores' to schema\n",
      "2025-05-24 13:31:29,811 - root - DEBUG - [KeyValueMemory] Querying for variable_name='databaseSchema', found 1 item(s) (returning latest).\n",
      "2025-05-24 13:31:29,811 - root - DEBUG - [KeyValueMemory] Added content with metadata: {'variable_name': 'databaseSchema'}. Store size: 4\n",
      "2025-05-24 13:31:29,812 - root - DEBUG - [KeyValueMemory] Set key 'databaseSchema'.\n",
      "2025-05-24 13:31:29,812 - DatabaseSchemaManager - INFO - Added table 'schools' to schema\n",
      "2025-05-24 13:31:29,812 - DatabaseSchemaManager - INFO - Loaded schema for database 'california_schools' with 3 tables\n"
     ]
    }
   ],
   "source": [
    "from database_schema_manager import DatabaseSchemaManager\n",
    "\n",
    "manager = DatabaseSchemaManager(memory)\n",
    "await manager.load_from_schema_reader(schema_reader, db_id)"
   ]
  },
  {
   "cell_type": "code",
   "execution_count": 9,
   "id": "778d09c6-8101-43e0-bc28-645dd5a48b4b",
   "metadata": {},
   "outputs": [
    {
     "name": "stderr",
     "output_type": "stream",
     "text": [
      "2025-05-24 13:32:31,452 - root - DEBUG - [KeyValueMemory] Querying for variable_name='databaseSchema', found 1 item(s) (returning latest).\n"
     ]
    }
   ],
   "source": [
    "table = await manager.get_table('schools')"
   ]
  },
  {
   "cell_type": "code",
   "execution_count": 10,
   "id": "f053a913-89b0-4a37-b789-a3d2de4c4593",
   "metadata": {},
   "outputs": [
    {
     "data": {
      "text/plain": [
       "TableSchema(name='schools', columns={'CDSCode': ColumnInfo(dataType='text', nullable=True, isPrimaryKey=True, isForeignKey=False, references=None), 'NCESDist': ColumnInfo(dataType='text', nullable=True, isPrimaryKey=False, isForeignKey=False, references=None), 'NCESSchool': ColumnInfo(dataType='text', nullable=True, isPrimaryKey=False, isForeignKey=False, references=None), 'StatusType': ColumnInfo(dataType='text', nullable=True, isPrimaryKey=False, isForeignKey=False, references=None), 'County': ColumnInfo(dataType='text', nullable=True, isPrimaryKey=False, isForeignKey=False, references=None), 'District': ColumnInfo(dataType='text', nullable=True, isPrimaryKey=False, isForeignKey=False, references=None), 'School': ColumnInfo(dataType='text', nullable=True, isPrimaryKey=False, isForeignKey=False, references=None), 'Street': ColumnInfo(dataType='text', nullable=True, isPrimaryKey=False, isForeignKey=False, references=None), 'StreetAbr': ColumnInfo(dataType='text', nullable=True, isPrimaryKey=False, isForeignKey=False, references=None), 'City': ColumnInfo(dataType='text', nullable=True, isPrimaryKey=False, isForeignKey=False, references=None), 'Zip': ColumnInfo(dataType='text', nullable=True, isPrimaryKey=False, isForeignKey=False, references=None), 'State': ColumnInfo(dataType='text', nullable=True, isPrimaryKey=False, isForeignKey=False, references=None), 'MailStreet': ColumnInfo(dataType='text', nullable=True, isPrimaryKey=False, isForeignKey=False, references=None), 'MailStrAbr': ColumnInfo(dataType='text', nullable=True, isPrimaryKey=False, isForeignKey=False, references=None), 'MailCity': ColumnInfo(dataType='text', nullable=True, isPrimaryKey=False, isForeignKey=False, references=None), 'MailZip': ColumnInfo(dataType='text', nullable=True, isPrimaryKey=False, isForeignKey=False, references=None), 'MailState': ColumnInfo(dataType='text', nullable=True, isPrimaryKey=False, isForeignKey=False, references=None), 'Phone': ColumnInfo(dataType='text', nullable=True, isPrimaryKey=False, isForeignKey=False, references=None), 'Ext': ColumnInfo(dataType='text', nullable=True, isPrimaryKey=False, isForeignKey=False, references=None), 'Website': ColumnInfo(dataType='text', nullable=True, isPrimaryKey=False, isForeignKey=False, references=None), 'OpenDate': ColumnInfo(dataType='date', nullable=True, isPrimaryKey=False, isForeignKey=False, references=None), 'ClosedDate': ColumnInfo(dataType='date', nullable=True, isPrimaryKey=False, isForeignKey=False, references=None), 'Charter': ColumnInfo(dataType='integer', nullable=True, isPrimaryKey=False, isForeignKey=False, references=None), 'CharterNum': ColumnInfo(dataType='text', nullable=True, isPrimaryKey=False, isForeignKey=False, references=None), 'FundingType': ColumnInfo(dataType='text', nullable=True, isPrimaryKey=False, isForeignKey=False, references=None), 'DOC': ColumnInfo(dataType='text', nullable=True, isPrimaryKey=False, isForeignKey=False, references=None), 'DOCType': ColumnInfo(dataType='text', nullable=True, isPrimaryKey=False, isForeignKey=False, references=None), 'SOC': ColumnInfo(dataType='text', nullable=True, isPrimaryKey=False, isForeignKey=False, references=None), 'SOCType': ColumnInfo(dataType='text', nullable=True, isPrimaryKey=False, isForeignKey=False, references=None), 'EdOpsCode': ColumnInfo(dataType='text', nullable=True, isPrimaryKey=False, isForeignKey=False, references=None), 'EdOpsName': ColumnInfo(dataType='text', nullable=True, isPrimaryKey=False, isForeignKey=False, references=None), 'EILCode': ColumnInfo(dataType='text', nullable=True, isPrimaryKey=False, isForeignKey=False, references=None), 'EILName': ColumnInfo(dataType='text', nullable=True, isPrimaryKey=False, isForeignKey=False, references=None), 'GSoffered': ColumnInfo(dataType='text', nullable=True, isPrimaryKey=False, isForeignKey=False, references=None), 'GSserved': ColumnInfo(dataType='text', nullable=True, isPrimaryKey=False, isForeignKey=False, references=None), 'Virtual': ColumnInfo(dataType='text', nullable=True, isPrimaryKey=False, isForeignKey=False, references=None), 'Magnet': ColumnInfo(dataType='integer', nullable=True, isPrimaryKey=False, isForeignKey=False, references=None), 'Latitude': ColumnInfo(dataType='real', nullable=True, isPrimaryKey=False, isForeignKey=False, references=None), 'Longitude': ColumnInfo(dataType='real', nullable=True, isPrimaryKey=False, isForeignKey=False, references=None), 'AdmFName1': ColumnInfo(dataType='text', nullable=True, isPrimaryKey=False, isForeignKey=False, references=None), 'AdmLName1': ColumnInfo(dataType='text', nullable=True, isPrimaryKey=False, isForeignKey=False, references=None), 'AdmEmail1': ColumnInfo(dataType='text', nullable=True, isPrimaryKey=False, isForeignKey=False, references=None), 'AdmFName2': ColumnInfo(dataType='text', nullable=True, isPrimaryKey=False, isForeignKey=False, references=None), 'AdmLName2': ColumnInfo(dataType='text', nullable=True, isPrimaryKey=False, isForeignKey=False, references=None), 'AdmEmail2': ColumnInfo(dataType='text', nullable=True, isPrimaryKey=False, isForeignKey=False, references=None), 'AdmFName3': ColumnInfo(dataType='text', nullable=True, isPrimaryKey=False, isForeignKey=False, references=None), 'AdmLName3': ColumnInfo(dataType='text', nullable=True, isPrimaryKey=False, isForeignKey=False, references=None), 'AdmEmail3': ColumnInfo(dataType='text', nullable=True, isPrimaryKey=False, isForeignKey=False, references=None), 'LastUpdate': ColumnInfo(dataType='date', nullable=True, isPrimaryKey=False, isForeignKey=False, references=None)}, sampleData=[{'NCESDist': None, 'NCESSchool': None, 'StatusType': 'Active', 'County': 'Los Angeles', 'City': None, 'Zip': None, 'State': None, 'MailCity': None, 'MailZip': None, 'MailState': None, 'Phone': None, 'Ext': None, 'OpenDate': None, 'ClosedDate': None, 'Charter': None, 'CharterNum': None, 'FundingType': None, 'DOC': '54', 'DOCType': 'Unified School District', 'SOC': None, 'SOCType': None, 'EdOpsCode': None, 'EdOpsName': None, 'EILCode': None, 'EILName': None, 'GSoffered': None, 'GSserved': None, 'Virtual': None, 'Magnet': None, 'AdmFName1': None, 'AdmFName2': None, 'AdmLName2': None, 'AdmFName3': None, 'AdmLName3': None, 'LastUpdate': '2015-06-18'}, {'NCESDist': '0622710', 'NCESSchool': '12271', 'StatusType': 'Closed', 'County': 'San Diego', 'City': 'Los Angeles', 'Zip': '91723', 'State': 'CA', 'MailCity': 'Los Angeles', 'MailZip': '94606', 'MailState': 'CA', 'Phone': '(805) 581-0202', 'Ext': '200', 'OpenDate': '1980-07-01', 'ClosedDate': '1989-06-30', 'Charter': 0, 'CharterNum': '00D2', 'FundingType': 'Directly funded', 'DOC': '52', 'DOCType': 'Elementary School District', 'SOC': '60', 'SOCType': 'Elementary Schools (Public)', 'EdOpsCode': 'TRAD', 'EdOpsName': 'Traditional', 'EILCode': 'ELEM', 'EILName': 'Elementary', 'GSoffered': 'K-5', 'GSserved': 'K-5', 'Virtual': 'N', 'Magnet': 0, 'AdmFName1': 'David', 'AdmFName2': 'Steve', 'AdmLName2': 'Sherman', 'AdmFName3': 'Mark', 'AdmLName3': 'Zerpoli'}, {'NCESDist': '0634320', 'NCESSchool': '13785', 'StatusType': 'Merged', 'County': 'Orange', 'City': 'San Diego', 'Zip': '95959', 'MailCity': 'San Diego', 'MailZip': '91710-4130', 'Phone': '(619) 243-5014', 'Ext': '201', 'Charter': 1, 'CharterNum': '0756', 'FundingType': 'Locally funded', 'DOC': '00', 'DOCType': 'County Office of Education (COE)', 'SOC': '66', 'SOCType': 'High Schools (Public)', 'EdOpsCode': 'CON', 'EdOpsName': 'Continuation School', 'EILCode': 'HS', 'EILName': 'High School', 'GSoffered': '9-12', 'GSserved': 'K-6', 'Virtual': 'P', 'Magnet': 1, 'AdmFName1': 'Michael', 'AdmFName2': 'Delphine', 'AdmLName2': 'Jones', 'AdmFName3': 'Eric', 'AdmLName3': 'Yount'}], metadata={'description': 'Table schools from california_schools database', 'row_count': 49})"
      ]
     },
     "execution_count": 10,
     "metadata": {},
     "output_type": "execute_result"
    }
   ],
   "source": [
    "table"
   ]
  },
  {
   "cell_type": "code",
   "execution_count": null,
   "id": "8c63bdd1-3462-4cc0-a6a2-b38a47c3039d",
   "metadata": {},
   "outputs": [],
   "source": []
  }
 ],
 "metadata": {
  "kernelspec": {
   "display_name": "Python 3 (ipykernel)",
   "language": "python",
   "name": "python3"
  },
  "language_info": {
   "codemirror_mode": {
    "name": "ipython",
    "version": 3
   },
   "file_extension": ".py",
   "mimetype": "text/x-python",
   "name": "python",
   "nbconvert_exporter": "python",
   "pygments_lexer": "ipython3",
   "version": "3.12.9"
  }
 },
 "nbformat": 4,
 "nbformat_minor": 5
}
