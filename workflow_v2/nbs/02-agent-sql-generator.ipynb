{
 "cells": [
  {
   "cell_type": "code",
   "execution_count": 1,
   "id": "b9d6c616-7eca-4e39-baa1-380335e2fd5d",
   "metadata": {},
   "outputs": [],
   "source": [
    "import os\n",
    "import sys\n",
    "import asyncio\n",
    "import sqlite3\n",
    "import json\n",
    "import logging\n",
    "import re\n",
    "from typing import Dict, Any, List, Optional\n",
    "from dotenv import load_dotenv\n",
    "\n",
    "sys.path.append('../src')\n",
    "load_dotenv()\n",
    "\n",
    "# Set up logging\n",
    "logging.basicConfig(level=logging.INFO, \n",
    "                    format='%(asctime)s - %(name)s - %(levelname)s - %(message)s')\n",
    "\n",
    "# Reduce noise from autogen\n",
    "logging.getLogger('autogen_core').setLevel(logging.WARNING)"
   ]
  },
  {
   "cell_type": "code",
   "execution_count": 2,
   "id": "041dff4d-bfdb-441d-93b6-dc659fc9c949",
   "metadata": {},
   "outputs": [],
   "source": [
    "from pathlib import Path\n",
    "from keyvalue_memory import KeyValueMemory\n",
    "from task_context_manager import TaskContextManager\n",
    "from query_tree_manager import QueryTreeManager\n",
    "from database_schema_manager import DatabaseSchemaManager\n",
    "from node_history_manager import NodeHistoryManager\n",
    "from query_analyzer_agent import QueryAnalyzerAgent\n",
    "from schema_reader import SchemaReader\n",
    "from memory_content_types import (\n",
    "    TaskContext, QueryNode, NodeStatus, TaskStatus,\n",
    "    QueryMapping, TableMapping, ColumnMapping, JoinMapping,\n",
    "    TableSchema, ColumnInfo, CombineStrategyType\n",
    ")\n",
    "from sql_generator_agent import SQLGeneratorAgent\n",
    "\n",
    "data_path = \"/home/norman/work/text-to-sql/MAC-SQL/data/bird\"\n",
    "tables_json_path = Path(data_path) / \"dev_tables.json\"\n",
    "db_name = \"california_schools\""
   ]
  },
  {
   "cell_type": "code",
   "id": "784f2338-0a08-46c0-bff4-67f4f474a09a",
   "metadata": {},
   "outputs": [],
   "source": "task_id = \"experimental-test\"\n\nquery = \"What is the highest eligible free rate for K-12 students in schools in Alameda County?\"\nintent = \"Find the maximum eligible free rate for K-12 students in schools located in Alameda County\"\nmemory = KeyValueMemory()\n        \n# Initialize task\ntask_manager = TaskContextManager(memory)\nawait task_manager.initialize(task_id, query, db_name)\n\n# Load schema\nschema_manager = DatabaseSchemaManager(memory)\nawait schema_manager.initialize()\n\nschema_reader = SchemaReader(\n    data_path=data_path,\n    tables_json_path=str(tables_json_path),\n    dataset_name=\"bird\",\n    lazy=False\n)\nawait schema_manager.load_from_schema_reader(schema_reader, db_name)\n\n# Initialize query tree\ntree_manager = QueryTreeManager(memory)\nnode_id = await tree_manager.initialize(intent)\n\n# Create schema linking for the node (simulating what schema linker would do)\nschema_linking = {\n    \"selected_tables\": [\n        {\n            \"name\": \"frpm\",\n            \"alias\": \"f\",\n            \"purpose\": \"To find the highest eligible free rate for K-12 students in Alameda County\",\n            \"columns\": [\n                {\n                    \"name\": \"County Name\",\n                    \"used_for\": \"filter\",\n                    \"reason\": \"To filter the records for Alameda County\"\n                },\n                {\n                    \"name\": \"Percent (%) Eligible Free (K-12)\",\n                    \"used_for\": \"aggregate\",\n                    \"reason\": \"To determine the highest eligible free rate for K-12 students\"\n                }\n            ]\n        }\n    ],\n    \"joins\": [],\n    \"sample_query_pattern\": 'SELECT MAX(f.\"Percent (%) Eligible Free (K-12)\") FROM frpm AS f WHERE f.\"County Name\" = \\'Alameda\\''\n}\n\n# Update node with schema linking\nnode = await tree_manager.get_current_node()\nnode.schema_linking = schema_linking\nawait tree_manager.update_node(node_id, node)"
  },
  {
   "cell_type": "code",
   "execution_count": 4,
   "id": "d3d562e3-ae67-4ba3-acd3-ff1676c91b16",
   "metadata": {},
   "outputs": [
    {
     "name": "stderr",
     "output_type": "stream",
     "text": [
      "2025-05-25 07:23:41,477 - SQLGeneratorAgent - DEBUG - Created AssistantAgent: sql_generator\n",
      "2025-05-25 07:23:41,477 - SQLGeneratorAgent - DEBUG - Created MemoryAgentTool for sql_generator\n",
      "2025-05-25 07:23:41,477 - SQLGeneratorAgent - INFO - Initialized sql_generator with model gpt-4o\n"
     ]
    }
   ],
   "source": [
    "agent = SQLGeneratorAgent(memory, llm_config={\n",
    "    \"model_name\": \"gpt-4o\",\n",
    "    \"temperature\": 0.1,\n",
    "    \"timeout\": 60\n",
    "}, debug=True)"
   ]
  },
  {
   "cell_type": "code",
   "execution_count": 5,
   "id": "b07f1a0a-7783-4c8d-a383-f92d08e625b8",
   "metadata": {},
   "outputs": [
    {
     "name": "stderr",
     "output_type": "stream",
     "text": [
      "2025-05-25 07:23:41,479 - SQLGeneratorAgent - DEBUG - SQL generator context prepared for node: None\n",
      "2025-05-25 07:23:46,181 - httpx - INFO - HTTP Request: POST https://api.openai.com/v1/chat/completions \"HTTP/1.1 200 OK\"\n",
      "2025-05-25 07:23:46,185 - SQLGeneratorAgent - INFO - Stored generated SQL in memory\n"
     ]
    }
   ],
   "source": [
    "result = await agent.run(query)"
   ]
  },
  {
   "cell_type": "code",
   "execution_count": 6,
   "id": "c29d4cfd-095a-4fd5-96a7-6be316ee7744",
   "metadata": {},
   "outputs": [
    {
     "name": "stdout",
     "output_type": "stream",
     "text": [
      "\n",
      "[user]:\n",
      "I'm providing you with context from previous interactions:\n",
      "\n",
      "### Intent\n",
      "What is the highest eligible free rate for K-12 students in schools in Alameda County?\n",
      "\n",
      "What is the highest eligible free rate for K-12 students in schools in Alameda County?\n",
      "----------------------------------------\n",
      "\n",
      "[sql_generator]:\n",
      "To generate the SQL query for the given intent, we need to identify the relevant tables and columns from the schema mapping. Assuming we have a table structure like this:\n",
      "\n",
      "- `schools` (alias `s`): Contains information about schools, including their location and student demographics.\n",
      "  - `school_id`\n",
      "  - `county`\n",
      "  - `eligible_free_rate`\n",
      "\n",
      "We will focus on filtering schools located in Alameda County and then finding the maximum eligible free rate for K-12 students.\n",
      "\n",
      "```xml\n",
      "<sql_generation>\n",
      "  <query_type>aggregate</query_type>\n",
      "  <sql>\n",
      "    SELECT MAX(s.eligible_free_rate) AS highest_eligible_free_rate\n",
      "    FROM schools s\n",
      "    WHERE s.county = 'Alameda'\n",
      "  </sql>\n",
      "  <explanation>\n",
      "    The query selects the maximum eligible free rate for K-12 students from schools located in Alameda County. It filters the schools by the county name and uses the MAX function to find the highest rate.\n",
      "  </explanation>\n",
      "  <considerations>\n",
      "    - Assumes the `eligible_free_rate` column contains the free rate percentage for K-12 students.\n",
      "    - Assumes the `county` column accurately reflects the county each school is located in.\n",
      "    - The query does not account for NULL values in `eligible_free_rate`, assuming all relevant entries are valid.\n",
      "  </considerations>\n",
      "</sql_generation>\n",
      "```\n",
      "----------------------------------------\n"
     ]
    }
   ],
   "source": [
    "for message in result.messages:\n",
    "    print(f\"\\n[{getattr(message, 'source', 'Unknown')}]:\")\n",
    "    print(message.content)\n",
    "    print(\"-\" * 40)"
   ]
  },
  {
   "cell_type": "code",
   "execution_count": null,
   "id": "a6194c16-91bd-45c6-b9fe-b930abd90fd4",
   "metadata": {},
   "outputs": [],
   "source": []
  }
 ],
 "metadata": {
  "kernelspec": {
   "display_name": "Python 3 (ipykernel)",
   "language": "python",
   "name": "python3"
  },
  "language_info": {
   "codemirror_mode": {
    "name": "ipython",
    "version": 3
   },
   "file_extension": ".py",
   "mimetype": "text/x-python",
   "name": "python",
   "nbconvert_exporter": "python",
   "pygments_lexer": "ipython3",
   "version": "3.12.9"
  }
 },
 "nbformat": 4,
 "nbformat_minor": 5
}