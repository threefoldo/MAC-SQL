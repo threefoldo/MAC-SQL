{
 "cells": [
  {
   "cell_type": "markdown",
   "metadata": {},
   "source": [
    "# Memory Agent Tool Test\n",
    "\n",
    "This notebook demonstrates how to use the `MemoryAgentTool` with our KeyValueMemory implementation to create a single agent that can read from and write to memory.\n",
    "\n",
    "The `MemoryAgentTool` class provides:\n",
    "1. **Memory integration** for agents by extending BaseTool\n",
    "2. **Pre-processing** via reader callbacks that fetch relevant context from memory before agent execution\n",
    "3. **Post-processing** via parser callbacks that extract and store information from agent outputs after execution"
   ]
  },
  {
   "cell_type": "code",
   "execution_count": 1,
   "metadata": {},
   "outputs": [],
   "source": [
    "import asyncio\n",
    "import json\n",
    "import logging\n",
    "import re\n",
    "from typing import Dict, Any, List, Optional\n",
    "\n",
    "# Set up logging\n",
    "logging.basicConfig(level=logging.INFO, \n",
    "                    format='%(asctime)s - %(name)s - %(levelname)s - %(message)s')\n",
    "\n",
    "# Reduce noise from autogen\n",
    "logging.getLogger('autogen_core').setLevel(logging.WARNING)"
   ]
  },
  {
   "cell_type": "code",
   "execution_count": 2,
   "metadata": {},
   "outputs": [],
   "source": [
    "# Import our KeyValueMemory and MemoryAgentTool\n",
    "from memory import KeyValueMemory\n",
    "from memory_agent_tool import MemoryAgentTool, MemoryAgentToolArgs\n",
    "\n",
    "# Import necessary AutoGen components\n",
    "from autogen_core import CancellationToken\n",
    "from autogen_agentchat.agents import AssistantAgent\n",
    "from autogen_agentchat.base import TaskResult\n",
    "from autogen_ext.models.openai import OpenAIChatCompletionClient"
   ]
  },
  {
   "cell_type": "markdown",
   "metadata": {},
   "source": [
    "## 1. Set up our memory store and model client"
   ]
  },
  {
   "cell_type": "code",
   "execution_count": 3,
   "metadata": {},
   "outputs": [],
   "source": [
    "# Initialize the shared memory store\n",
    "memory = KeyValueMemory(name=\"text_to_sql_memory\")\n",
    "\n",
    "# Set up the model client - replace with your specific model\n",
    "model_client = OpenAIChatCompletionClient(\n",
    "    model=\"gpt-4o\",  # or other appropriate model\n",
    "    temperature=0.1,\n",
    "    timeout=120\n",
    ")"
   ]
  },
  {
   "cell_type": "markdown",
   "metadata": {},
   "source": [
    "## 2. Define memory callback functions for our agent\n",
    "\n",
    "The agent will have custom reader and parser functions that define how it interacts with memory."
   ]
  },
  {
   "cell_type": "code",
   "execution_count": 4,
   "metadata": {},
   "outputs": [],
   "source": [
    "# Schema Selector Agent memory callbacks\n",
    "async def schema_selector_reader(memory, task, cancellation_token):\n",
    "    \"\"\"Read relevant info for the schema selector agent.\"\"\"\n",
    "    # For schema selection, we might want to read previously selected schemas\n",
    "    # for similar queries to maintain consistency\n",
    "    query_history_json = await memory.get(\"query_history\")\n",
    "    context = {}\n",
    "    \n",
    "    if query_history_json:\n",
    "        try:\n",
    "            query_history = json.loads(query_history_json)\n",
    "            context[\"query_history\"] = query_history\n",
    "        except json.JSONDecodeError:\n",
    "            logging.error(\"Failed to parse query history JSON\")\n",
    "        \n",
    "    # We might also want to read any schema preferences\n",
    "    schema_preferences_json = await memory.get(\"schema_preferences\")\n",
    "    if schema_preferences_json:\n",
    "        try:\n",
    "            schema_preferences = json.loads(schema_preferences_json)\n",
    "            context[\"schema_preferences\"] = schema_preferences\n",
    "        except json.JSONDecodeError:\n",
    "            logging.error(\"Failed to parse schema preferences JSON\")\n",
    "    \n",
    "    return context\n",
    "\n",
    "async def schema_selector_parser(memory, task, result, cancellation_token):\n",
    "    \"\"\"Parse and store schema selection results.\"\"\"\n",
    "    if result.messages:\n",
    "        last_message = result.messages[-1].content\n",
    "        print(f\"Parsing message content: {last_message[:100]}...\")  # Debug output\n",
    "        \n",
    "        # Look for database schema in XML format\n",
    "        schema_match = re.search(r'<database_schema>.*?</database_schema>', last_message, re.DOTALL)\n",
    "        if schema_match:\n",
    "            schema_str = schema_match.group()\n",
    "            await memory.set(\"current_schema\", schema_str)\n",
    "            print(f\"Stored schema in memory: {schema_str[:100]}...\")\n",
    "        else:\n",
    "            print(\"No database schema found in response\")\n",
    "            \n",
    "            # As a fallback, try to extract from task if not found in response\n",
    "            task_obj = json.loads(task)\n",
    "            if \"full_schema\" in task_obj and task_obj[\"full_schema\"]:\n",
    "                await memory.set(\"current_schema\", task_obj[\"full_schema\"])\n",
    "                print(\"Used schema from task as fallback\")\n",
    "            \n",
    "        # Try to extract database ID from task\n",
    "        try:\n",
    "            task_obj = json.loads(task)\n",
    "            if \"db_id\" in task_obj:\n",
    "                db_id = task_obj[\"db_id\"]\n",
    "                await memory.set(\"current_db_id\", db_id)\n",
    "                print(f\"Stored current_db_id: {db_id}\")\n",
    "        except json.JSONDecodeError:\n",
    "            print(\"Could not parse task as JSON\")\n",
    "            \n",
    "        # Store the task and response for history\n",
    "        query_history_json = await memory.get(\"query_history\")\n",
    "        \n",
    "        # Initialize or update query history\n",
    "        query_history = []\n",
    "        if query_history_json:\n",
    "            try:\n",
    "                query_history = json.loads(query_history_json)\n",
    "            except json.JSONDecodeError:\n",
    "                logging.error(\"Failed to parse existing query history, creating new one\")\n",
    "                \n",
    "        # Parse the task\n",
    "        query = \"\"\n",
    "        try:\n",
    "            task_obj = json.loads(task)\n",
    "            query = task_obj.get(\"query\", task)\n",
    "        except json.JSONDecodeError:\n",
    "            query = task\n",
    "        \n",
    "        # Add to history\n",
    "        query_history.append({\"query\": query, \"role\": \"selector\"})\n",
    "        \n",
    "        # Store updated history as JSON string\n",
    "        await memory.set(\"query_history\", json.dumps(query_history))\n",
    "        print(f\"Updated query history with query: {query}\")"
   ]
  },
  {
   "cell_type": "markdown",
   "metadata": {},
   "source": [
    "## 3. Create our Agents with System Messages"
   ]
  },
  {
   "cell_type": "code",
   "execution_count": 5,
   "metadata": {},
   "outputs": [],
   "source": [
    "# Define system messages for each agent\n",
    "SCHEMA_SELECTOR_SYSTEM_MESSAGE = \"\"\"\n",
    "You are a database schema selector agent. Your role is to:\n",
    "1. Analyze the natural language query\n",
    "2. Extract relevant schema parts from the database\n",
    "3. Return the selected schema in XML format wrapped in <database_schema> tags\n",
    "\n",
    "Be precise and focus only on tables and columns directly related to the query.\n",
    "\n",
    "Example output format:\n",
    "<database_schema>\n",
    "  <table name=\"customers\">\n",
    "    <column name=\"customer_id\" type=\"INTEGER\" primary_key=\"true\" />\n",
    "    <column name=\"name\" type=\"TEXT\" />\n",
    "  </table>\n",
    "  <table name=\"orders\">\n",
    "    <column name=\"order_id\" type=\"INTEGER\" primary_key=\"true\" />\n",
    "    <column name=\"customer_id\" type=\"INTEGER\" foreign_key=\"customers.customer_id\" />\n",
    "  </table>\n",
    "</database_schema>\n",
    "\n",
    "ALWAYS return your answer with the schema wrapped in <database_schema> tags.\n",
    "\"\"\"\n",
    "\n",
    "# Create the agents\n",
    "schema_selector = AssistantAgent(\n",
    "    name=\"schema_selector\",\n",
    "    system_message=SCHEMA_SELECTOR_SYSTEM_MESSAGE,\n",
    "    model_client=model_client,\n",
    "    description=\"Selects relevant parts of the database schema for a query\"\n",
    ")\n",
    "\n",
    "# Wrap each agent with memory capabilities\n",
    "schema_selector_tool = MemoryAgentTool(\n",
    "    agent=schema_selector,\n",
    "    memory=memory,\n",
    "    reader_callback=schema_selector_reader,\n",
    "    parser_callback=schema_selector_parser\n",
    ")"
   ]
  },
  {
   "cell_type": "markdown",
   "metadata": {},
   "source": [
    "## 4. Set up Sample Database Schema\n",
    "\n",
    "We'll create a sample database schema to test the schema selector agent."
   ]
  },
  {
   "cell_type": "code",
   "execution_count": 6,
   "metadata": {},
   "outputs": [
    {
     "name": "stderr",
     "output_type": "stream",
     "text": [
      "2025-05-21 17:44:28,562 - root - INFO - [KeyValueMemory] Memory cleared.\n"
     ]
    },
    {
     "name": "stdout",
     "output_type": "stream",
     "text": [
      "Memory initialized with schema preferences\n"
     ]
    }
   ],
   "source": [
    "# Reset memory for a fresh run\n",
    "await memory.clear()\n",
    "\n",
    "# Set preferences that will be used by the schema selector\n",
    "schema_preferences = {\n",
    "    \"max_tables\": 5,\n",
    "    \"include_foreign_keys\": True,\n",
    "    \"include_examples\": True\n",
    "}\n",
    "await memory.set(\"schema_preferences\", json.dumps(schema_preferences))\n",
    "\n",
    "# Initialize empty query history\n",
    "await memory.set(\"query_history\", json.dumps([]))\n",
    "\n",
    "print(\"Memory initialized with schema preferences\")"
   ]
  },
  {
   "cell_type": "code",
   "execution_count": 7,
   "metadata": {},
   "outputs": [
    {
     "name": "stdout",
     "output_type": "stream",
     "text": [
      "Full database schema stored in memory\n"
     ]
    }
   ],
   "source": [
    "# Set up a sample database schema\n",
    "full_schema = \"\"\"\n",
    "<database_schema>\n",
    "  <table name=\"customers\">\n",
    "    <column name=\"customer_id\" type=\"INTEGER\" primary_key=\"true\" />\n",
    "    <column name=\"name\" type=\"TEXT\" />\n",
    "    <column name=\"email\" type=\"TEXT\" />\n",
    "    <column name=\"join_date\" type=\"DATE\" />\n",
    "  </table>\n",
    "  <table name=\"orders\">\n",
    "    <column name=\"order_id\" type=\"INTEGER\" primary_key=\"true\" />\n",
    "    <column name=\"customer_id\" type=\"INTEGER\" foreign_key=\"customers.customer_id\" />\n",
    "    <column name=\"order_date\" type=\"DATE\" />\n",
    "    <column name=\"total_amount\" type=\"DECIMAL\" />\n",
    "  </table>\n",
    "  <table name=\"products\">\n",
    "    <column name=\"product_id\" type=\"INTEGER\" primary_key=\"true\" />\n",
    "    <column name=\"name\" type=\"TEXT\" />\n",
    "    <column name=\"price\" type=\"DECIMAL\" />\n",
    "    <column name=\"category\" type=\"TEXT\" />\n",
    "  </table>\n",
    "  <table name=\"order_items\">\n",
    "    <column name=\"item_id\" type=\"INTEGER\" primary_key=\"true\" />\n",
    "    <column name=\"order_id\" type=\"INTEGER\" foreign_key=\"orders.order_id\" />\n",
    "    <column name=\"product_id\" type=\"INTEGER\" foreign_key=\"products.product_id\" />\n",
    "    <column name=\"quantity\" type=\"INTEGER\" />\n",
    "    <column name=\"price\" type=\"DECIMAL\" />\n",
    "  </table>\n",
    "  <table name=\"inventory\">\n",
    "    <column name=\"inventory_id\" type=\"INTEGER\" primary_key=\"true\" />\n",
    "    <column name=\"product_id\" type=\"INTEGER\" foreign_key=\"products.product_id\" />\n",
    "    <column name=\"quantity\" type=\"INTEGER\" />\n",
    "    <column name=\"warehouse\" type=\"TEXT\" />\n",
    "  </table>\n",
    "</database_schema>\n",
    "\"\"\"\n",
    "\n",
    "# Store the full schema for the agent to read\n",
    "await memory.set(\"full_database_schema\", full_schema)\n",
    "print(\"Full database schema stored in memory\")"
   ]
  },
  {
   "cell_type": "markdown",
   "metadata": {},
   "source": [
    "## 6. Run the Schema Selector Agent for a Query\n",
    "\n",
    "Let's run our agent with a sample query to see how it uses memory."
   ]
  },
  {
   "cell_type": "code",
   "execution_count": 8,
   "metadata": {},
   "outputs": [
    {
     "name": "stderr",
     "output_type": "stream",
     "text": [
      "2025-05-21 17:44:29,798 - httpx - INFO - HTTP Request: POST https://api.openai.com/v1/chat/completions \"HTTP/1.1 200 OK\"\n"
     ]
    },
    {
     "name": "stdout",
     "output_type": "stream",
     "text": [
      "Parsing message content: <database_schema>\n",
      "  <table name=\"customers\">\n",
      "    <column name=\"customer_id\" type=\"INTEGER\" primary_k...\n",
      "Stored schema in memory: <database_schema>\n",
      "  <table name=\"customers\">\n",
      "    <column name=\"customer_id\" type=\"INTEGER\" primary_k...\n",
      "Stored current_db_id: ecommerce\n",
      "Updated query history with query: Find all customers who have placed orders with a total amount greater than $100\n",
      "\n",
      "Agent Response:\n",
      "<database_schema>\n",
      "  <table name=\"customers\">\n",
      "    <column name=\"customer_id\" type=\"INTEGER\" primary_key=\"true\" />\n",
      "    <column name=\"name\" type=\"TEXT\" />\n",
      "  </table>\n",
      "  <table name=\"orders\">\n",
      "    <column name=\"order_id\" type=\"INTEGER\" primary_key=\"true\" />\n",
      "    <column name=\"customer_id\" type=\"INTEGER\" foreign_key=\"customers.customer_id\" />\n",
      "    <column name=\"total_amount\" type=\"DECIMAL\" />\n",
      "  </table>\n",
      "</database_schema>\n"
     ]
    }
   ],
   "source": [
    "# Define a query and run the schema selector agent\n",
    "query1 = \"Find all customers who have placed orders with a total amount greater than $100\"\n",
    "\n",
    "# Create a task with the full schema and query\n",
    "task1 = json.dumps({\n",
    "    \"query\": query1,\n",
    "    \"db_id\": \"ecommerce\",\n",
    "    \"full_schema\": await memory.get(\"full_database_schema\")\n",
    "})\n",
    "\n",
    "# Create a cancellation token\n",
    "cancellation_token = CancellationToken()\n",
    "\n",
    "# Create the proper arguments object\n",
    "args = MemoryAgentToolArgs(task=task1)\n",
    "\n",
    "# Run the agent\n",
    "result1 = await schema_selector_tool.run(\n",
    "    args=args,\n",
    "    cancellation_token=cancellation_token\n",
    ")\n",
    "\n",
    "# Display result\n",
    "print(f\"\\nAgent Response:\\n{result1.messages[-1].content}\")"
   ]
  },
  {
   "cell_type": "markdown",
   "metadata": {},
   "source": [
    "## 7. Run a Second Query to Demonstrate Memory Continuity\n",
    "\n",
    "Let's run a second query that's related. The agent should now have access to the previous query results through memory."
   ]
  },
  {
   "cell_type": "code",
   "execution_count": 9,
   "metadata": {},
   "outputs": [
    {
     "name": "stderr",
     "output_type": "stream",
     "text": [
      "2025-05-21 17:44:31,431 - httpx - INFO - HTTP Request: POST https://api.openai.com/v1/chat/completions \"HTTP/1.1 200 OK\"\n"
     ]
    },
    {
     "name": "stdout",
     "output_type": "stream",
     "text": [
      "Parsing message content: <database_schema>\n",
      "  <table name=\"products\">\n",
      "    <column name=\"product_id\" type=\"INTEGER\" primary_key...\n",
      "Stored schema in memory: <database_schema>\n",
      "  <table name=\"products\">\n",
      "    <column name=\"product_id\" type=\"INTEGER\" primary_key...\n",
      "Stored current_db_id: ecommerce\n",
      "Updated query history with query: List all products ordered by customers with their total quantities\n",
      "\n",
      "Agent Response:\n",
      "<database_schema>\n",
      "  <table name=\"products\">\n",
      "    <column name=\"product_id\" type=\"INTEGER\" primary_key=\"true\" />\n",
      "    <column name=\"name\" type=\"TEXT\" />\n",
      "  </table>\n",
      "  <table name=\"order_items\">\n",
      "    <column name=\"item_id\" type=\"INTEGER\" primary_key=\"true\" />\n",
      "    <column name=\"order_id\" type=\"INTEGER\" foreign_key=\"orders.order_id\" />\n",
      "    <column name=\"product_id\" type=\"INTEGER\" foreign_key=\"products.product_id\" />\n",
      "    <column name=\"quantity\" type=\"INTEGER\" />\n",
      "  </table>\n",
      "</database_schema>\n"
     ]
    }
   ],
   "source": [
    "# Define a second query\n",
    "query2 = \"List all products ordered by customers with their total quantities\"\n",
    "\n",
    "# Create a task with the full schema and query\n",
    "task2 = json.dumps({\n",
    "    \"query\": query2,\n",
    "    \"db_id\": \"ecommerce\",\n",
    "    \"full_schema\": await memory.get(\"full_database_schema\")\n",
    "})\n",
    "\n",
    "# Create the proper arguments object\n",
    "args = MemoryAgentToolArgs(task=task2)\n",
    "\n",
    "# Run the agent again\n",
    "result2 = await schema_selector_tool.run(\n",
    "    args=args,\n",
    "    cancellation_token=cancellation_token\n",
    ")\n",
    "\n",
    "# Display result\n",
    "print(f\"\\nAgent Response:\\n{result2.messages[-1].content}\")"
   ]
  },
  {
   "cell_type": "markdown",
   "metadata": {},
   "source": [
    "## 8. Check Memory Contents\n",
    "\n",
    "Let's examine what's stored in memory after our agent runs."
   ]
  },
  {
   "cell_type": "code",
   "execution_count": 10,
   "metadata": {},
   "outputs": [
    {
     "name": "stdout",
     "output_type": "stream",
     "text": [
      "Current schema:\n",
      "<database_schema>\n",
      "  <table name=\"products\">\n",
      "    <column name=\"product_id\" type=\"INTEGER\" primary_key=\"true\" />\n",
      "    <column name=\"name\" type=\"TEXT\" />\n",
      "  </table>\n",
      "  <table name=\"order_items\">\n",
      "    <column name=\"item_id\" type=\"INTEGER\" primary_key=\"true\" />\n",
      "    <column name=\"order_id\" type=\"INTEGER\" foreign_key=\"orders.order_id\" />\n",
      "    <column name=\"product_id\" type=\"INTEGER\" foreign_key=\"products.product_id\" />\n",
      "    <column name=\"quantity\" type=\"INTEGER\" />\n",
      "  </table>\n",
      "</database_schema>\n",
      "\n",
      "Current DB ID: ecommerce\n",
      "\n",
      "Query History:\n",
      "\n",
      "Entry 1:\n",
      "Query: Find all customers who have placed orders with a total amount greater than $100\n",
      "Role: selector\n",
      "\n",
      "Entry 2:\n",
      "Query: List all products ordered by customers with their total quantities\n",
      "Role: selector\n"
     ]
    }
   ],
   "source": [
    "# Check what's stored in memory\n",
    "current_schema = await memory.get(\"current_schema\")\n",
    "print(f\"Current schema:\\n{current_schema}\\n\")\n",
    "\n",
    "db_id = await memory.get(\"current_db_id\")\n",
    "print(f\"Current DB ID: {db_id}\\n\")\n",
    "\n",
    "# Get query history\n",
    "query_history_json = await memory.get(\"query_history\")\n",
    "query_history = json.loads(query_history_json)\n",
    "print(\"Query History:\")\n",
    "for i, entry in enumerate(query_history):\n",
    "    print(f\"\\nEntry {i+1}:\")\n",
    "    print(f\"Query: {entry['query']}\")\n",
    "    print(f\"Role: {entry['role']}\")"
   ]
  },
  {
   "cell_type": "markdown",
   "metadata": {},
   "source": [
    "## 9. Conclusion\n",
    "\n",
    "This notebook demonstrates how the `MemoryAgentTool` allows a single schema selector agent to maintain context across multiple queries using memory. The key features demonstrated include:\n",
    "\n",
    "1. Reading context from memory before agent execution\n",
    "2. Parsing and storing results after agent execution\n",
    "3. Maintaining history and state across multiple queries\n",
    "4. Formatting memory context for clear communication with the agent\n",
    "\n",
    "The schema selector agent can now maintain context about previously selected schemas, database preferences, and query history, which helps in making more consistent schema selections across related queries."
   ]
  }
 ],
 "metadata": {
  "kernelspec": {
   "display_name": "Python 3 (ipykernel)",
   "language": "python",
   "name": "python3"
  },
  "language_info": {
   "codemirror_mode": {
    "name": "ipython",
    "version": 3
   },
   "file_extension": ".py",
   "mimetype": "text/x-python",
   "name": "python",
   "nbconvert_exporter": "python",
   "pygments_lexer": "ipython3",
   "version": "3.12.9"
  }
 },
 "nbformat": 4,
 "nbformat_minor": 4
}
