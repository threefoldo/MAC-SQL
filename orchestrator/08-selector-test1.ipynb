{
 "cells": [
  {
   "cell_type": "code",
   "execution_count": 1,
   "id": "6507c2e9-7185-40b8-b1c1-bbb998bb1b0a",
   "metadata": {},
   "outputs": [],
   "source": [
    "import asyncio\n",
    "\n",
    "from autogen_core.model_context import BufferedChatCompletionContext\n",
    "from autogen_ext.models.openai import OpenAIChatCompletionClient\n",
    "\n",
    "from autogen_agentchat.agents import AssistantAgent\n",
    "from autogen_agentchat.conditions import TextMentionTermination\n",
    "from autogen_agentchat.teams import SelectorGroupChat\n",
    "from autogen_agentchat.ui import Console"
   ]
  },
  {
   "cell_type": "code",
   "execution_count": 2,
   "id": "eef17929-12f8-4c38-8891-8183c8ceb718",
   "metadata": {},
   "outputs": [],
   "source": [
    "model_client = OpenAIChatCompletionClient(model=\"gpt-4o\")\n",
    "model_context = BufferedChatCompletionContext(buffer_size=5)\n",
    "\n",
    "async def lookup_hotel(location: str) -> str:\n",
    "    return f\"Here are some hotels in {location}: hotel1, hotel2, hotel3.\"\n",
    "\n",
    "async def lookup_flight(origin: str, destination: str) -> str:\n",
    "    return f\"Here are some flights from {origin} to {destination}: flight1, flight2, flight3.\"\n",
    "\n",
    "async def book_trip() -> str:\n",
    "    return \"Your trip is booked!\""
   ]
  },
  {
   "cell_type": "code",
   "execution_count": 3,
   "id": "3a77510d-15f1-4441-8b7f-e2668acfaac1",
   "metadata": {},
   "outputs": [],
   "source": [
    "travel_advisor = AssistantAgent(\n",
    "    \"Travel_Advisor\",\n",
    "    model_client,\n",
    "    tools=[book_trip],\n",
    "    description=\"Helps with travel planning.\",\n",
    ")\n",
    "hotel_agent = AssistantAgent(\n",
    "    \"Hotel_Agent\",\n",
    "    model_client,\n",
    "    tools=[lookup_hotel],\n",
    "    description=\"Helps with hotel booking.\",\n",
    ")\n",
    "flight_agent = AssistantAgent(\n",
    "    \"Flight_Agent\",\n",
    "    model_client,\n",
    "    tools=[lookup_flight],\n",
    "    description=\"Helps with flight booking.\",\n",
    ")\n",
    "termination = TextMentionTermination(\"TERMINATE\")\n",
    "team = SelectorGroupChat(\n",
    "    [travel_advisor, hotel_agent, flight_agent],\n",
    "    model_client=model_client,\n",
    "    termination_condition=termination,\n",
    "    model_context=model_context,\n",
    ")"
   ]
  },
  {
   "cell_type": "code",
   "execution_count": 4,
   "id": "5f96d3ae-de9c-43b0-ab1d-e0e2c8c467e0",
   "metadata": {},
   "outputs": [
    {
     "name": "stdout",
     "output_type": "stream",
     "text": [
      "---------- TextMessage (user) ----------\n",
      "Book a 3-day trip to new york.\n",
      "---------- ToolCallRequestEvent (Travel_Advisor) ----------\n",
      "[FunctionCall(id='call_NUTeHkSF8nnx4qKi0wYWbRHJ', arguments='{}', name='book_trip')]\n",
      "---------- ToolCallExecutionEvent (Travel_Advisor) ----------\n",
      "[FunctionExecutionResult(content='Your trip is booked!', name='book_trip', call_id='call_NUTeHkSF8nnx4qKi0wYWbRHJ', is_error=False)]\n",
      "---------- ToolCallSummaryMessage (Travel_Advisor) ----------\n",
      "Your trip is booked!\n",
      "---------- TextMessage (Hotel_Agent) ----------\n",
      "I can help you with finding hotels and accommodations in New York for your 3-day trip. Would you like that?\n",
      "---------- TextMessage (Flight_Agent) ----------\n",
      "Have you booked the flight for your trip to New York? If not, I can help you find available flights. Let me know your current city, and I'll get the details started for you!\n",
      "---------- ToolCallRequestEvent (Hotel_Agent) ----------\n",
      "[FunctionCall(id='call_AczNlkMs5Z95iJCuXt2dnf92', arguments='{\"location\":\"New York\"}', name='lookup_hotel')]\n",
      "---------- ToolCallExecutionEvent (Hotel_Agent) ----------\n",
      "[FunctionExecutionResult(content='Here are some hotels in New York: hotel1, hotel2, hotel3.', name='lookup_hotel', call_id='call_AczNlkMs5Z95iJCuXt2dnf92', is_error=False)]\n",
      "---------- ToolCallSummaryMessage (Hotel_Agent) ----------\n",
      "Here are some hotels in New York: hotel1, hotel2, hotel3.\n",
      "---------- TextMessage (Flight_Agent) ----------\n",
      "Let's find available flights for your trip to New York. Could you please provide your current city or origin?\n",
      "---------- TextMessage (Travel_Advisor) ----------\n",
      "The 3-day trip to New York has already been booked. If you need further assistance with hotels or flights, please let me know your preferences or starting location.\n",
      "---------- TextMessage (Hotel_Agent) ----------\n",
      "I found some hotels in New York for your stay: Hotel1, Hotel2, and Hotel3. If you need help with flights from your current city or any other details, please let me know!\n",
      "---------- TextMessage (Flight_Agent) ----------\n",
      "I can help you with flight information if you provide your current city or origin. Could you please let me know where you'll be flying from?\n",
      "---------- TextMessage (Travel_Advisor) ----------\n",
      "Thank you for sharing the hotel options. For flights, the trip is already booked, but if you still need assistance with any details or modifications, please let me know!\n",
      "---------- TextMessage (Hotel_Agent) ----------\n",
      "If you need anything else, whether it's more information about hotels or any other travel arrangements, feel free to ask. Enjoy your trip to New York! TERMINATE\n"
     ]
    },
    {
     "data": {
      "text/plain": [
       "TaskResult(messages=[TextMessage(source='user', models_usage=None, metadata={}, content='Book a 3-day trip to new york.', type='TextMessage'), ToolCallRequestEvent(source='Travel_Advisor', models_usage=RequestUsage(prompt_tokens=66, completion_tokens=10), metadata={}, content=[FunctionCall(id='call_NUTeHkSF8nnx4qKi0wYWbRHJ', arguments='{}', name='book_trip')], type='ToolCallRequestEvent'), ToolCallExecutionEvent(source='Travel_Advisor', models_usage=None, metadata={}, content=[FunctionExecutionResult(content='Your trip is booked!', name='book_trip', call_id='call_NUTeHkSF8nnx4qKi0wYWbRHJ', is_error=False)], type='ToolCallExecutionEvent'), ToolCallSummaryMessage(source='Travel_Advisor', models_usage=None, metadata={}, content='Your trip is booked!', type='ToolCallSummaryMessage'), TextMessage(source='Hotel_Agent', models_usage=RequestUsage(prompt_tokens=92, completion_tokens=25), metadata={}, content='I can help you with finding hotels and accommodations in New York for your 3-day trip. Would you like that?', type='TextMessage'), TextMessage(source='Flight_Agent', models_usage=RequestUsage(prompt_tokens=133, completion_tokens=40), metadata={}, content=\"Have you booked the flight for your trip to New York? If not, I can help you find available flights. Let me know your current city, and I'll get the details started for you!\", type='TextMessage'), ToolCallRequestEvent(source='Hotel_Agent', models_usage=RequestUsage(prompt_tokens=167, completion_tokens=16), metadata={}, content=[FunctionCall(id='call_AczNlkMs5Z95iJCuXt2dnf92', arguments='{\"location\":\"New York\"}', name='lookup_hotel')], type='ToolCallRequestEvent'), ToolCallExecutionEvent(source='Hotel_Agent', models_usage=None, metadata={}, content=[FunctionExecutionResult(content='Here are some hotels in New York: hotel1, hotel2, hotel3.', name='lookup_hotel', call_id='call_AczNlkMs5Z95iJCuXt2dnf92', is_error=False)], type='ToolCallExecutionEvent'), ToolCallSummaryMessage(source='Hotel_Agent', models_usage=None, metadata={}, content='Here are some hotels in New York: hotel1, hotel2, hotel3.', type='ToolCallSummaryMessage'), TextMessage(source='Flight_Agent', models_usage=RequestUsage(prompt_tokens=201, completion_tokens=22), metadata={}, content=\"Let's find available flights for your trip to New York. Could you please provide your current city or origin?\", type='TextMessage'), TextMessage(source='Travel_Advisor', models_usage=RequestUsage(prompt_tokens=222, completion_tokens=34), metadata={}, content='The 3-day trip to New York has already been booked. If you need further assistance with hotels or flights, please let me know your preferences or starting location.', type='TextMessage'), TextMessage(source='Hotel_Agent', models_usage=RequestUsage(prompt_tokens=279, completion_tokens=42), metadata={}, content='I found some hotels in New York for your stay: Hotel1, Hotel2, and Hotel3. If you need help with flights from your current city or any other details, please let me know!', type='TextMessage'), TextMessage(source='Flight_Agent', models_usage=RequestUsage(prompt_tokens=316, completion_tokens=29), metadata={}, content=\"I can help you with flight information if you provide your current city or origin. Could you please let me know where you'll be flying from?\", type='TextMessage'), TextMessage(source='Travel_Advisor', models_usage=RequestUsage(prompt_tokens=344, completion_tokens=35), metadata={}, content='Thank you for sharing the hotel options. For flights, the trip is already booked, but if you still need assistance with any details or modifications, please let me know!', type='TextMessage'), TextMessage(source='Hotel_Agent', models_usage=RequestUsage(prompt_tokens=402, completion_tokens=33), metadata={}, content=\"If you need anything else, whether it's more information about hotels or any other travel arrangements, feel free to ask. Enjoy your trip to New York! TERMINATE\", type='TextMessage')], stop_reason=\"Text 'TERMINATE' mentioned\")"
      ]
     },
     "execution_count": 4,
     "metadata": {},
     "output_type": "execute_result"
    }
   ],
   "source": [
    "await Console(team.run_stream(task=\"Book a 3-day trip to new york.\"))"
   ]
  },
  {
   "cell_type": "code",
   "execution_count": null,
   "id": "4b5657f6-7fde-450b-8118-7f421534de8f",
   "metadata": {},
   "outputs": [],
   "source": []
  }
 ],
 "metadata": {
  "kernelspec": {
   "display_name": "Python 3 (ipykernel)",
   "language": "python",
   "name": "python3"
  },
  "language_info": {
   "codemirror_mode": {
    "name": "ipython",
    "version": 3
   },
   "file_extension": ".py",
   "mimetype": "text/x-python",
   "name": "python",
   "nbconvert_exporter": "python",
   "pygments_lexer": "ipython3",
   "version": "3.12.9"
  }
 },
 "nbformat": 4,
 "nbformat_minor": 5
}
