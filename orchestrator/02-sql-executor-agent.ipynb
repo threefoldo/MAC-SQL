{
 "cells": [
  {
   "cell_type": "code",
   "execution_count": 1,
   "id": "49374591",
   "metadata": {},
   "outputs": [
    {
     "data": {
      "text/plain": [
       "True"
      ]
     },
     "execution_count": 1,
     "metadata": {},
     "output_type": "execute_result"
    }
   ],
   "source": [
    "# SQL Executor Agent Example\n",
    "\"\"\"\n",
    "This notebook demonstrates creating an AI agent that uses the SQLExecutor\n",
    "to execute SQL queries and provide insights on the results.\n",
    "\"\"\"\n",
    "\n",
    "from dotenv import load_dotenv\n",
    "\n",
    "load_dotenv()"
   ]
  },
  {
   "cell_type": "code",
   "execution_count": 2,
   "id": "7a1021f3",
   "metadata": {},
   "outputs": [],
   "source": [
    "from autogen_agentchat.agents import AssistantAgent\n",
    "from autogen_agentchat.ui import Console\n",
    "from autogen_ext.models.openai import OpenAIChatCompletionClient\n",
    "from sql_executor import SQLExecutor\n",
    "import json\n",
    "from typing import Dict, Any"
   ]
  },
  {
   "cell_type": "code",
   "execution_count": 3,
   "id": "9d4e6b9f",
   "metadata": {},
   "outputs": [],
   "source": [
    "# Initialize the SQL Executor\n",
    "# Update these paths to match your environment\n",
    "data_path = \"../data/bird/dev_databases\"\n",
    "dataset_name = \"bird\"\n",
    "\n",
    "sql_executor = SQLExecutor(\n",
    "    data_path=data_path,\n",
    "    dataset_name=dataset_name\n",
    ")"
   ]
  },
  {
   "cell_type": "code",
   "execution_count": 4,
   "id": "903d4770",
   "metadata": {},
   "outputs": [],
   "source": [
    "# Define SQL-related functions that the agent can use\n",
    "\n",
    "async def execute_query(sql: str, db_id: str) -> str:\n",
    "    \"\"\"Execute a SQL query against a database.\"\"\"\n",
    "    result = sql_executor.safe_execute(sql, db_id)\n",
    "    \n",
    "    if result['success']:\n",
    "        # Format successful result\n",
    "        response = {\n",
    "            \"status\": \"success\",\n",
    "            \"sql\": result['sql'],\n",
    "            \"column_names\": result['column_names'],\n",
    "            \"data\": result['data'],\n",
    "            \"row_count\": result['row_count'],\n",
    "            \"showing_rows\": len(result['data'])\n",
    "        }\n",
    "    else:\n",
    "        # Format error result\n",
    "        response = {\n",
    "            \"status\": \"error\",\n",
    "            \"sql\": result['sql'],\n",
    "            \"error\": result['sqlite_error'],\n",
    "            \"error_type\": result['exception_class']\n",
    "        }\n",
    "        if result.get('timeout'):\n",
    "            response['timeout'] = True\n",
    "    \n",
    "    return json.dumps(response, indent=2)\n",
    "\n",
    "async def validate_query_result(sql: str, db_id: str) -> str:\n",
    "    \"\"\"Execute a query and validate its results.\"\"\"\n",
    "    result = sql_executor.safe_execute(sql, db_id)\n",
    "    \n",
    "    response = {\n",
    "        \"sql\": result['sql'],\n",
    "        \"execution_success\": result['success']\n",
    "    }\n",
    "    \n",
    "    if result['success']:\n",
    "        is_valid, reason = sql_executor.is_valid_result(result)\n",
    "        response.update({\n",
    "            \"validation_result\": \"valid\" if is_valid else \"invalid\",\n",
    "            \"validation_reason\": reason,\n",
    "            \"row_count\": result['row_count'],\n",
    "            \"has_null_values\": \"No\" if is_valid and \"NULL\" not in reason else \"Yes\"\n",
    "        })\n",
    "    else:\n",
    "        response.update({\n",
    "            \"validation_result\": \"execution_failed\",\n",
    "            \"error\": result['sqlite_error']\n",
    "        })\n",
    "    \n",
    "    return json.dumps(response, indent=2)\n",
    "\n",
    "async def test_queries(queries: list, db_id: str) -> str:\n",
    "    \"\"\"Test multiple SQL queries and summarize results.\"\"\"\n",
    "    results = []\n",
    "    \n",
    "    for sql in queries:\n",
    "        result = sql_executor.safe_execute(sql, db_id)\n",
    "        summary = {\n",
    "            \"sql\": sql[:100] + \"...\" if len(sql) > 100 else sql,\n",
    "            \"success\": result['success'],\n",
    "            \"row_count\": result.get('row_count', 0) if result['success'] else None,\n",
    "            \"error\": result.get('sqlite_error', '') if not result['success'] else None\n",
    "        }\n",
    "        results.append(summary)\n",
    "    \n",
    "    summary_stats = {\n",
    "        \"total_queries\": len(queries),\n",
    "        \"successful\": sum(1 for r in results if r['success']),\n",
    "        \"failed\": sum(1 for r in results if not r['success']),\n",
    "        \"results\": results\n",
    "    }\n",
    "    \n",
    "    return json.dumps(summary_stats, indent=2)\n",
    "\n",
    "async def explain_query_plan(sql: str, db_id: str) -> str:\n",
    "    \"\"\"Get the query execution plan for a SQL query.\"\"\"\n",
    "    # First try to get the query plan\n",
    "    explain_sql = f\"EXPLAIN QUERY PLAN {sql}\"\n",
    "    result = sql_executor.safe_execute(explain_sql, db_id)\n",
    "    \n",
    "    if result['success']:\n",
    "        plan_info = {\n",
    "            \"sql\": sql,\n",
    "            \"query_plan\": result['data'],\n",
    "            \"analysis\": \"The query plan shows how SQLite will execute this query\"\n",
    "        }\n",
    "    else:\n",
    "        # If EXPLAIN fails, just execute the query normally\n",
    "        normal_result = sql_executor.safe_execute(sql, db_id)\n",
    "        if normal_result['success']:\n",
    "            plan_info = {\n",
    "                \"sql\": sql,\n",
    "                \"note\": \"Could not generate query plan, but query executes successfully\",\n",
    "                \"row_count\": normal_result['row_count']\n",
    "            }\n",
    "        else:\n",
    "            plan_info = {\n",
    "                \"sql\": sql,\n",
    "                \"error\": normal_result['sqlite_error']\n",
    "            }\n",
    "    \n",
    "    return json.dumps(plan_info, indent=2)"
   ]
  },
  {
   "cell_type": "code",
   "execution_count": 5,
   "id": "bc46c9b3",
   "metadata": {},
   "outputs": [],
   "source": [
    "# Initialize the OpenAI model client\n",
    "model_client = OpenAIChatCompletionClient(\n",
    "    model=\"gpt-4o\",\n",
    ")\n",
    "\n",
    "# Define the SQL execution agent with SQLExecutor tools\n",
    "sql_agent = AssistantAgent(\n",
    "    name=\"sql_agent\",\n",
    "    model_client=model_client,\n",
    "    tools=[\n",
    "        execute_query,\n",
    "        validate_query_result,\n",
    "        test_queries,\n",
    "        explain_query_plan\n",
    "    ],\n",
    "    system_message=\"\"\"You are a SQL expert assistant that helps users execute and analyze SQL queries.\n",
    "    You can:\n",
    "    - Execute SQL queries against databases and show results\n",
    "    - Validate query results for potential issues\n",
    "    - Test multiple queries and provide summaries\n",
    "    - Explain query execution plans\n",
    "    - Help debug SQL errors\n",
    "    - Suggest query optimizations\n",
    "    \n",
    "    When executing queries, always show the results clearly and provide insights about the data.\n",
    "    If a query fails, help users understand why and suggest fixes.\"\"\",\n",
    "    reflect_on_tool_use=True,\n",
    "    model_client_stream=True,\n",
    ")"
   ]
  },
  {
   "cell_type": "code",
   "execution_count": 6,
   "id": "0d9f068f",
   "metadata": {},
   "outputs": [
    {
     "name": "stdout",
     "output_type": "stream",
     "text": [
      "---------- TextMessage (user) ----------\n",
      "Execute the query 'SELECT * FROM schools LIMIT 3' on the california_schools database\n",
      "---------- ToolCallRequestEvent (sql_agent) ----------\n",
      "[FunctionCall(id='call_k95PPMQJdBh7zlmGk5Gkv1NI', arguments='{\"sql\":\"SELECT * FROM schools LIMIT 3\",\"db_id\":\"california_schools\"}', name='execute_query')]\n",
      "---------- ToolCallExecutionEvent (sql_agent) ----------\n",
      "[FunctionExecutionResult(content='{\\n  \"status\": \"success\",\\n  \"sql\": \"SELECT * FROM schools LIMIT 3\",\\n  \"column_names\": [\\n    \"CDSCode\",\\n    \"NCESDist\",\\n    \"NCESSchool\",\\n    \"StatusType\",\\n    \"County\",\\n    \"District\",\\n    \"School\",\\n    \"Street\",\\n    \"StreetAbr\",\\n    \"City\",\\n    \"Zip\",\\n    \"State\",\\n    \"MailStreet\",\\n    \"MailStrAbr\",\\n    \"MailCity\",\\n    \"MailZip\",\\n    \"MailState\",\\n    \"Phone\",\\n    \"Ext\",\\n    \"Website\",\\n    \"OpenDate\",\\n    \"ClosedDate\",\\n    \"Charter\",\\n    \"CharterNum\",\\n    \"FundingType\",\\n    \"DOC\",\\n    \"DOCType\",\\n    \"SOC\",\\n    \"SOCType\",\\n    \"EdOpsCode\",\\n    \"EdOpsName\",\\n    \"EILCode\",\\n    \"EILName\",\\n    \"GSoffered\",\\n    \"GSserved\",\\n    \"Virtual\",\\n    \"Magnet\",\\n    \"Latitude\",\\n    \"Longitude\",\\n    \"AdmFName1\",\\n    \"AdmLName1\",\\n    \"AdmEmail1\",\\n    \"AdmFName2\",\\n    \"AdmLName2\",\\n    \"AdmEmail2\",\\n    \"AdmFName3\",\\n    \"AdmLName3\",\\n    \"AdmEmail3\",\\n    \"LastUpdate\"\\n  ],\\n  \"data\": [\\n    [\\n      \"01100170000000\",\\n      \"0691051\",\\n      null,\\n      \"Active\",\\n      \"Alameda\",\\n      \"Alameda County Office of Education\",\\n      null,\\n      \"313 West Winton Avenue\",\\n      \"313 West Winton Ave.\",\\n      \"Hayward\",\\n      \"94544-1136\",\\n      \"CA\",\\n      \"313 West Winton Avenue\",\\n      \"313 West Winton Ave.\",\\n      \"Hayward\",\\n      \"94544-1136\",\\n      \"CA\",\\n      \"(510) 887-0152\",\\n      null,\\n      \"www.acoe.org\",\\n      null,\\n      null,\\n      null,\\n      null,\\n      null,\\n      \"00\",\\n      \"County Office of Education (COE)\",\\n      null,\\n      null,\\n      null,\\n      null,\\n      null,\\n      null,\\n      null,\\n      null,\\n      null,\\n      null,\\n      37.658212,\\n      -122.09713,\\n      \"L Karen\",\\n      \"Monroe\",\\n      \"lkmonroe@acoe.org\",\\n      null,\\n      null,\\n      null,\\n      null,\\n      null,\\n      null,\\n      \"2015-06-23\"\\n    ],\\n    [\\n      \"01100170109835\",\\n      \"0691051\",\\n      \"10546\",\\n      \"Closed\",\\n      \"Alameda\",\\n      \"Alameda County Office of Education\",\\n      \"FAME Public Charter\",\\n      \"39899 Balentine Drive, Suite 335\",\\n      \"39899 Balentine Dr., Ste. 335\",\\n      \"Newark\",\\n      \"94560-5359\",\\n      \"CA\",\\n      \"39899 Balentine Drive, Suite 335\",\\n      \"39899 Balentine Dr., Ste. 335\",\\n      \"Newark\",\\n      \"94560-5359\",\\n      \"CA\",\\n      null,\\n      null,\\n      null,\\n      \"2005-08-29\",\\n      \"2015-07-31\",\\n      1,\\n      \"0728\",\\n      \"Directly funded\",\\n      \"00\",\\n      \"County Office of Education (COE)\",\\n      \"65\",\\n      \"K-12 Schools (Public)\",\\n      \"TRAD\",\\n      \"Traditional\",\\n      \"ELEMHIGH\",\\n      \"Elementary-High Combination\",\\n      \"K-12\",\\n      \"K-12\",\\n      \"P\",\\n      0,\\n      37.521436,\\n      -121.99391,\\n      null,\\n      null,\\n      null,\\n      null,\\n      null,\\n      null,\\n      null,\\n      null,\\n      null,\\n      \"2015-09-01\"\\n    ],\\n    [\\n      \"01100170112607\",\\n      \"0691051\",\\n      \"10947\",\\n      \"Active\",\\n      \"Alameda\",\\n      \"Alameda County Office of Education\",\\n      \"Envision Academy for Arts & Technology\",\\n      \"1515 Webster Street\",\\n      \"1515 Webster St.\",\\n      \"Oakland\",\\n      \"94612-3355\",\\n      \"CA\",\\n      \"1515 Webster Street\",\\n      \"1515 Webster St.\",\\n      \"Oakland\",\\n      \"94612\",\\n      \"CA\",\\n      \"(510) 596-8901\",\\n      null,\\n      \"www.envisionacademy.org/\",\\n      \"2006-08-28\",\\n      null,\\n      1,\\n      \"0811\",\\n      \"Directly funded\",\\n      \"00\",\\n      \"County Office of Education (COE)\",\\n      \"66\",\\n      \"High Schools (Public)\",\\n      \"TRAD\",\\n      \"Traditional\",\\n      \"HS\",\\n      \"High School\",\\n      \"9-12\",\\n      \"9-12\",\\n      \"N\",\\n      0,\\n      37.80452,\\n      -122.26815,\\n      \"Laura\",\\n      \"Robell\",\\n      \"laura@envisionacademy.org\",\\n      null,\\n      null,\\n      null,\\n      null,\\n      null,\\n      null,\\n      \"2015-06-18\"\\n    ]\\n  ],\\n  \"row_count\": 3,\\n  \"showing_rows\": 3\\n}', name='execute_query', call_id='call_k95PPMQJdBh7zlmGk5Gkv1NI', is_error=False)]\n",
      "---------- ModelClientStreamingChunkEvent (sql_agent) ----------\n",
      "The query retrieved information about three schools from the `california_schools` database. Here's a summary of the data:\n",
      "\n",
      "1. **Alameda County Office of Education**\n",
      "   - **Status:** Active\n",
      "   - **County:** Alameda\n",
      "   - **Street Address:** 313 West Winton Avenue, Hayward, CA 94544-1136\n",
      "   - **Phone:** (510) 887-0152\n",
      "   - **Website:** [www.acoe.org](http://www.acoe.org)\n",
      "   - **Administrator:** L Karen Monroe\n",
      "   - **Last Update:** 2015-06-23\n",
      "\n",
      "2. **FAME Public Charter (Closed)**\n",
      "   - **Status:** Closed\n",
      "   - **County:** Alameda\n",
      "   - **Street Address:** 39899 Balentine Drive, Suite 335, Newark, CA 94560-5359\n",
      "   - **Charter Number:** 0728\n",
      "   - **Opened on:** 2005-08-29\n",
      "   - **Closed on:** 2015-07-31\n",
      "   - **Last Update:** 2015-09-01\n",
      "\n",
      "3. **Envision Academy for Arts & Technology**\n",
      "   - **Status:** Active\n",
      "   - **County:** Alameda\n",
      "   - **Street Address:** 1515 Webster Street, Oakland, CA 94612\n",
      "   - **Phone:** (510) 596-8901\n",
      "   - **Website:** [www.envisionacademy.org](http://www.envisionacademy.org)\n",
      "   - **Charter Number:** 0811\n",
      "   - **Opened on:** 2006-08-28\n",
      "   - **Administrator:** Laura Robell\n",
      "   - **Last Update:** 2015-06-18\n",
      "\n",
      "Each school record contains comprehensive details including contact information, school status, charter status, and administrative contact details. If you need further information or analysis, feel free to ask!\n"
     ]
    },
    {
     "data": {
      "text/plain": [
       "TaskResult(messages=[TextMessage(source='user', models_usage=None, metadata={}, content=\"Execute the query 'SELECT * FROM schools LIMIT 3' on the california_schools database\", type='TextMessage'), ToolCallRequestEvent(source='sql_agent', models_usage=RequestUsage(prompt_tokens=0, completion_tokens=0), metadata={}, content=[FunctionCall(id='call_k95PPMQJdBh7zlmGk5Gkv1NI', arguments='{\"sql\":\"SELECT * FROM schools LIMIT 3\",\"db_id\":\"california_schools\"}', name='execute_query')], type='ToolCallRequestEvent'), ToolCallExecutionEvent(source='sql_agent', models_usage=None, metadata={}, content=[FunctionExecutionResult(content='{\\n  \"status\": \"success\",\\n  \"sql\": \"SELECT * FROM schools LIMIT 3\",\\n  \"column_names\": [\\n    \"CDSCode\",\\n    \"NCESDist\",\\n    \"NCESSchool\",\\n    \"StatusType\",\\n    \"County\",\\n    \"District\",\\n    \"School\",\\n    \"Street\",\\n    \"StreetAbr\",\\n    \"City\",\\n    \"Zip\",\\n    \"State\",\\n    \"MailStreet\",\\n    \"MailStrAbr\",\\n    \"MailCity\",\\n    \"MailZip\",\\n    \"MailState\",\\n    \"Phone\",\\n    \"Ext\",\\n    \"Website\",\\n    \"OpenDate\",\\n    \"ClosedDate\",\\n    \"Charter\",\\n    \"CharterNum\",\\n    \"FundingType\",\\n    \"DOC\",\\n    \"DOCType\",\\n    \"SOC\",\\n    \"SOCType\",\\n    \"EdOpsCode\",\\n    \"EdOpsName\",\\n    \"EILCode\",\\n    \"EILName\",\\n    \"GSoffered\",\\n    \"GSserved\",\\n    \"Virtual\",\\n    \"Magnet\",\\n    \"Latitude\",\\n    \"Longitude\",\\n    \"AdmFName1\",\\n    \"AdmLName1\",\\n    \"AdmEmail1\",\\n    \"AdmFName2\",\\n    \"AdmLName2\",\\n    \"AdmEmail2\",\\n    \"AdmFName3\",\\n    \"AdmLName3\",\\n    \"AdmEmail3\",\\n    \"LastUpdate\"\\n  ],\\n  \"data\": [\\n    [\\n      \"01100170000000\",\\n      \"0691051\",\\n      null,\\n      \"Active\",\\n      \"Alameda\",\\n      \"Alameda County Office of Education\",\\n      null,\\n      \"313 West Winton Avenue\",\\n      \"313 West Winton Ave.\",\\n      \"Hayward\",\\n      \"94544-1136\",\\n      \"CA\",\\n      \"313 West Winton Avenue\",\\n      \"313 West Winton Ave.\",\\n      \"Hayward\",\\n      \"94544-1136\",\\n      \"CA\",\\n      \"(510) 887-0152\",\\n      null,\\n      \"www.acoe.org\",\\n      null,\\n      null,\\n      null,\\n      null,\\n      null,\\n      \"00\",\\n      \"County Office of Education (COE)\",\\n      null,\\n      null,\\n      null,\\n      null,\\n      null,\\n      null,\\n      null,\\n      null,\\n      null,\\n      null,\\n      37.658212,\\n      -122.09713,\\n      \"L Karen\",\\n      \"Monroe\",\\n      \"lkmonroe@acoe.org\",\\n      null,\\n      null,\\n      null,\\n      null,\\n      null,\\n      null,\\n      \"2015-06-23\"\\n    ],\\n    [\\n      \"01100170109835\",\\n      \"0691051\",\\n      \"10546\",\\n      \"Closed\",\\n      \"Alameda\",\\n      \"Alameda County Office of Education\",\\n      \"FAME Public Charter\",\\n      \"39899 Balentine Drive, Suite 335\",\\n      \"39899 Balentine Dr., Ste. 335\",\\n      \"Newark\",\\n      \"94560-5359\",\\n      \"CA\",\\n      \"39899 Balentine Drive, Suite 335\",\\n      \"39899 Balentine Dr., Ste. 335\",\\n      \"Newark\",\\n      \"94560-5359\",\\n      \"CA\",\\n      null,\\n      null,\\n      null,\\n      \"2005-08-29\",\\n      \"2015-07-31\",\\n      1,\\n      \"0728\",\\n      \"Directly funded\",\\n      \"00\",\\n      \"County Office of Education (COE)\",\\n      \"65\",\\n      \"K-12 Schools (Public)\",\\n      \"TRAD\",\\n      \"Traditional\",\\n      \"ELEMHIGH\",\\n      \"Elementary-High Combination\",\\n      \"K-12\",\\n      \"K-12\",\\n      \"P\",\\n      0,\\n      37.521436,\\n      -121.99391,\\n      null,\\n      null,\\n      null,\\n      null,\\n      null,\\n      null,\\n      null,\\n      null,\\n      null,\\n      \"2015-09-01\"\\n    ],\\n    [\\n      \"01100170112607\",\\n      \"0691051\",\\n      \"10947\",\\n      \"Active\",\\n      \"Alameda\",\\n      \"Alameda County Office of Education\",\\n      \"Envision Academy for Arts & Technology\",\\n      \"1515 Webster Street\",\\n      \"1515 Webster St.\",\\n      \"Oakland\",\\n      \"94612-3355\",\\n      \"CA\",\\n      \"1515 Webster Street\",\\n      \"1515 Webster St.\",\\n      \"Oakland\",\\n      \"94612\",\\n      \"CA\",\\n      \"(510) 596-8901\",\\n      null,\\n      \"www.envisionacademy.org/\",\\n      \"2006-08-28\",\\n      null,\\n      1,\\n      \"0811\",\\n      \"Directly funded\",\\n      \"00\",\\n      \"County Office of Education (COE)\",\\n      \"66\",\\n      \"High Schools (Public)\",\\n      \"TRAD\",\\n      \"Traditional\",\\n      \"HS\",\\n      \"High School\",\\n      \"9-12\",\\n      \"9-12\",\\n      \"N\",\\n      0,\\n      37.80452,\\n      -122.26815,\\n      \"Laura\",\\n      \"Robell\",\\n      \"laura@envisionacademy.org\",\\n      null,\\n      null,\\n      null,\\n      null,\\n      null,\\n      null,\\n      \"2015-06-18\"\\n    ]\\n  ],\\n  \"row_count\": 3,\\n  \"showing_rows\": 3\\n}', name='execute_query', call_id='call_k95PPMQJdBh7zlmGk5Gkv1NI', is_error=False)], type='ToolCallExecutionEvent'), TextMessage(source='sql_agent', models_usage=RequestUsage(prompt_tokens=0, completion_tokens=0), metadata={}, content=\"The query retrieved information about three schools from the `california_schools` database. Here's a summary of the data:\\n\\n1. **Alameda County Office of Education**\\n   - **Status:** Active\\n   - **County:** Alameda\\n   - **Street Address:** 313 West Winton Avenue, Hayward, CA 94544-1136\\n   - **Phone:** (510) 887-0152\\n   - **Website:** [www.acoe.org](http://www.acoe.org)\\n   - **Administrator:** L Karen Monroe\\n   - **Last Update:** 2015-06-23\\n\\n2. **FAME Public Charter (Closed)**\\n   - **Status:** Closed\\n   - **County:** Alameda\\n   - **Street Address:** 39899 Balentine Drive, Suite 335, Newark, CA 94560-5359\\n   - **Charter Number:** 0728\\n   - **Opened on:** 2005-08-29\\n   - **Closed on:** 2015-07-31\\n   - **Last Update:** 2015-09-01\\n\\n3. **Envision Academy for Arts & Technology**\\n   - **Status:** Active\\n   - **County:** Alameda\\n   - **Street Address:** 1515 Webster Street, Oakland, CA 94612\\n   - **Phone:** (510) 596-8901\\n   - **Website:** [www.envisionacademy.org](http://www.envisionacademy.org)\\n   - **Charter Number:** 0811\\n   - **Opened on:** 2006-08-28\\n   - **Administrator:** Laura Robell\\n   - **Last Update:** 2015-06-18\\n\\nEach school record contains comprehensive details including contact information, school status, charter status, and administrative contact details. If you need further information or analysis, feel free to ask!\", type='TextMessage')], stop_reason=None)"
      ]
     },
     "execution_count": 6,
     "metadata": {},
     "output_type": "execute_result"
    }
   ],
   "source": [
    "# Example: Execute a simple query\n",
    "await Console(sql_agent.run_stream(\n",
    "    task=\"Execute the query 'SELECT * FROM schools LIMIT 3' on the california_schools database\"\n",
    "))"
   ]
  },
  {
   "cell_type": "code",
   "execution_count": null,
   "id": "a3cee5e5",
   "metadata": {},
   "outputs": [],
   "source": [
    "# Example: Validate a query with potential issues\n",
    "await Console(sql_agent.run_stream(\n",
    "    task=\"Validate the query 'SELECT School, AvgScrMath FROM satscores WHERE AvgScrMath IS NULL' on the california_schools database\"\n",
    "))"
   ]
  },
  {
   "cell_type": "code",
   "execution_count": 7,
   "id": "325b1e76",
   "metadata": {},
   "outputs": [
    {
     "name": "stdout",
     "output_type": "stream",
     "text": [
      "---------- TextMessage (user) ----------\n",
      "Test these queries on the california_schools database: ['SELECT COUNT(*) FROM schools', 'SELECT AVG(AvgScrMath) FROM satscores WHERE AvgScrMath IS NOT NULL', 'SELECT School, AvgScrMath FROM satscores ORDER BY AvgScrMath DESC LIMIT 5', 'SELECT * FROM invalid_table']\n",
      "---------- ToolCallRequestEvent (sql_agent) ----------\n",
      "[FunctionCall(id='call_jqhtnE0W0CkyXX5vUmjYM1Kr', arguments='{\"queries\":[\"SELECT COUNT(*) FROM schools\",\"SELECT AVG(AvgScrMath) FROM satscores WHERE AvgScrMath IS NOT NULL\",\"SELECT School, AvgScrMath FROM satscores ORDER BY AvgScrMath DESC LIMIT 5\",\"SELECT * FROM invalid_table\"],\"db_id\":\"california_schools\"}', name='test_queries')]\n",
      "---------- ToolCallExecutionEvent (sql_agent) ----------\n",
      "[FunctionExecutionResult(content='{\\n  \"total_queries\": 4,\\n  \"successful\": 2,\\n  \"failed\": 2,\\n  \"results\": [\\n    {\\n      \"sql\": \"SELECT COUNT(*) FROM schools\",\\n      \"success\": true,\\n      \"row_count\": 1,\\n      \"error\": null\\n    },\\n    {\\n      \"sql\": \"SELECT AVG(AvgScrMath) FROM satscores WHERE AvgScrMath IS NOT NULL\",\\n      \"success\": true,\\n      \"row_count\": 1,\\n      \"error\": null\\n    },\\n    {\\n      \"sql\": \"SELECT School, AvgScrMath FROM satscores ORDER BY AvgScrMath DESC LIMIT 5\",\\n      \"success\": false,\\n      \"row_count\": null,\\n      \"error\": \"no such column: School\"\\n    },\\n    {\\n      \"sql\": \"SELECT * FROM invalid_table\",\\n      \"success\": false,\\n      \"row_count\": null,\\n      \"error\": \"no such table: invalid_table\"\\n    }\\n  ]\\n}', name='test_queries', call_id='call_jqhtnE0W0CkyXX5vUmjYM1Kr', is_error=False)]\n",
      "---------- ModelClientStreamingChunkEvent (sql_agent) ----------\n",
      "Here's an analysis of the queries tested on the `california_schools` database:\n",
      "\n",
      "1. **Query:** `SELECT COUNT(*) FROM schools`\n",
      "   - **Status:** Successful\n",
      "   - **Result:** The query executed successfully, suggesting that it returned the total number of records in the `schools` table.\n",
      "\n",
      "2. **Query:** `SELECT AVG(AvgScrMath) FROM satscores WHERE AvgScrMath IS NOT NULL`\n",
      "   - **Status:** Successful\n",
      "   - **Result:** This query executed successfully, indicating that it returned the average math score from the `satscores` table for non-null entries.\n",
      "\n",
      "3. **Query:** `SELECT School, AvgScrMath FROM satscores ORDER BY AvgScrMath DESC LIMIT 5`\n",
      "   - **Status:** Failed\n",
      "   - **Error:** \"no such column: School\"\n",
      "   - **Explanation:** The failure occurs because there is no column named `School` in the `satscores` table. You may need to verify the column names within the `satscores` table.\n",
      "\n",
      "4. **Query:** `SELECT * FROM invalid_table`\n",
      "   - **Status:** Failed\n",
      "   - **Error:** \"no such table: invalid_table\"\n",
      "   - **Explanation:** This error indicates that the table `invalid_table` does not exist in the database.\n",
      "\n",
      "To resolve these issues:\n",
      "- For the third query, verify the column names available in the `satscores` table to correct the column name.\n",
      "- For the fourth query, ensure that you are referencing a valid table name in the database.\n"
     ]
    },
    {
     "data": {
      "text/plain": [
       "TaskResult(messages=[TextMessage(source='user', models_usage=None, metadata={}, content=\"Test these queries on the california_schools database: ['SELECT COUNT(*) FROM schools', 'SELECT AVG(AvgScrMath) FROM satscores WHERE AvgScrMath IS NOT NULL', 'SELECT School, AvgScrMath FROM satscores ORDER BY AvgScrMath DESC LIMIT 5', 'SELECT * FROM invalid_table']\", type='TextMessage'), ToolCallRequestEvent(source='sql_agent', models_usage=RequestUsage(prompt_tokens=0, completion_tokens=0), metadata={}, content=[FunctionCall(id='call_jqhtnE0W0CkyXX5vUmjYM1Kr', arguments='{\"queries\":[\"SELECT COUNT(*) FROM schools\",\"SELECT AVG(AvgScrMath) FROM satscores WHERE AvgScrMath IS NOT NULL\",\"SELECT School, AvgScrMath FROM satscores ORDER BY AvgScrMath DESC LIMIT 5\",\"SELECT * FROM invalid_table\"],\"db_id\":\"california_schools\"}', name='test_queries')], type='ToolCallRequestEvent'), ToolCallExecutionEvent(source='sql_agent', models_usage=None, metadata={}, content=[FunctionExecutionResult(content='{\\n  \"total_queries\": 4,\\n  \"successful\": 2,\\n  \"failed\": 2,\\n  \"results\": [\\n    {\\n      \"sql\": \"SELECT COUNT(*) FROM schools\",\\n      \"success\": true,\\n      \"row_count\": 1,\\n      \"error\": null\\n    },\\n    {\\n      \"sql\": \"SELECT AVG(AvgScrMath) FROM satscores WHERE AvgScrMath IS NOT NULL\",\\n      \"success\": true,\\n      \"row_count\": 1,\\n      \"error\": null\\n    },\\n    {\\n      \"sql\": \"SELECT School, AvgScrMath FROM satscores ORDER BY AvgScrMath DESC LIMIT 5\",\\n      \"success\": false,\\n      \"row_count\": null,\\n      \"error\": \"no such column: School\"\\n    },\\n    {\\n      \"sql\": \"SELECT * FROM invalid_table\",\\n      \"success\": false,\\n      \"row_count\": null,\\n      \"error\": \"no such table: invalid_table\"\\n    }\\n  ]\\n}', name='test_queries', call_id='call_jqhtnE0W0CkyXX5vUmjYM1Kr', is_error=False)], type='ToolCallExecutionEvent'), TextMessage(source='sql_agent', models_usage=RequestUsage(prompt_tokens=0, completion_tokens=0), metadata={}, content='Here\\'s an analysis of the queries tested on the `california_schools` database:\\n\\n1. **Query:** `SELECT COUNT(*) FROM schools`\\n   - **Status:** Successful\\n   - **Result:** The query executed successfully, suggesting that it returned the total number of records in the `schools` table.\\n\\n2. **Query:** `SELECT AVG(AvgScrMath) FROM satscores WHERE AvgScrMath IS NOT NULL`\\n   - **Status:** Successful\\n   - **Result:** This query executed successfully, indicating that it returned the average math score from the `satscores` table for non-null entries.\\n\\n3. **Query:** `SELECT School, AvgScrMath FROM satscores ORDER BY AvgScrMath DESC LIMIT 5`\\n   - **Status:** Failed\\n   - **Error:** \"no such column: School\"\\n   - **Explanation:** The failure occurs because there is no column named `School` in the `satscores` table. You may need to verify the column names within the `satscores` table.\\n\\n4. **Query:** `SELECT * FROM invalid_table`\\n   - **Status:** Failed\\n   - **Error:** \"no such table: invalid_table\"\\n   - **Explanation:** This error indicates that the table `invalid_table` does not exist in the database.\\n\\nTo resolve these issues:\\n- For the third query, verify the column names available in the `satscores` table to correct the column name.\\n- For the fourth query, ensure that you are referencing a valid table name in the database.', type='TextMessage')], stop_reason=None)"
      ]
     },
     "execution_count": 7,
     "metadata": {},
     "output_type": "execute_result"
    }
   ],
   "source": [
    "# Example: Test multiple queries\n",
    "test_queries_list = [\n",
    "    \"SELECT COUNT(*) FROM schools\",\n",
    "    \"SELECT AVG(AvgScrMath) FROM satscores WHERE AvgScrMath IS NOT NULL\",\n",
    "    \"SELECT School, AvgScrMath FROM satscores ORDER BY AvgScrMath DESC LIMIT 5\",\n",
    "    \"SELECT * FROM invalid_table\"  # This should fail\n",
    "]\n",
    "\n",
    "await Console(sql_agent.run_stream(\n",
    "    task=f\"Test these queries on the california_schools database: {test_queries_list}\"\n",
    "))"
   ]
  },
  {
   "cell_type": "code",
   "execution_count": 8,
   "id": "c733c3ca",
   "metadata": {},
   "outputs": [
    {
     "name": "stdout",
     "output_type": "stream",
     "text": [
      "---------- TextMessage (user) ----------\n",
      "Explain the execution plan for 'SELECT s.School, sat.AvgScrMath FROM schools s JOIN satscores sat ON s.CDSCode = sat.cds' on california_schools database\n",
      "---------- ToolCallRequestEvent (sql_agent) ----------\n",
      "[FunctionCall(id='call_YI8XpVrNPUq2hk8U8qV1WCtG', arguments='{\"sql\":\"SELECT s.School, sat.AvgScrMath FROM schools s JOIN satscores sat ON s.CDSCode = sat.cds\",\"db_id\":\"california_schools\"}', name='explain_query_plan')]\n",
      "---------- ToolCallExecutionEvent (sql_agent) ----------\n",
      "[FunctionExecutionResult(content='{\\n  \"sql\": \"SELECT s.School, sat.AvgScrMath FROM schools s JOIN satscores sat ON s.CDSCode = sat.cds\",\\n  \"query_plan\": [\\n    [\\n      4,\\n      0,\\n      0,\\n      \"SCAN s\"\\n    ],\\n    [\\n      6,\\n      0,\\n      0,\\n      \"SEARCH sat USING INDEX sqlite_autoindex_satscores_1 (cds=?)\"\\n    ]\\n  ],\\n  \"analysis\": \"The query plan shows how SQLite will execute this query\"\\n}', name='explain_query_plan', call_id='call_YI8XpVrNPUq2hk8U8qV1WCtG', is_error=False)]\n",
      "---------- ModelClientStreamingChunkEvent (sql_agent) ----------\n",
      "The execution plan for the query `SELECT s.School, sat.AvgScrMath FROM schools s JOIN satscores sat ON s.CDSCode = sat.cds` is as follows:\n",
      "\n",
      "1. **Step 1: Table Scan**\n",
      "   - **Operation:** `SCAN s`\n",
      "   - **Description:** This indicates a full table scan on the `schools` table. The database engine will read all rows from the `schools` table.\n",
      "\n",
      "2. **Step 2: Indexed Search**\n",
      "   - **Operation:** `SEARCH sat USING INDEX sqlite_autoindex_satscores_1 (cds=?)`\n",
      "   - **Description:** This step involves searching the `satscores` table using an index on the `cds` column. This operation indicates that an index is present, which generally improves the performance of the join by allowing quick lookups based on the `cds` code matching from the `schools` table.\n",
      "\n",
      "**Analysis:**\n",
      "- **Efficiency:** The use of an index on the `satscores` table's `cds` column is beneficial, as it speeds up the join process with the `schools` table by reducing the number of rows that need to be processed. The initial scan on the `schools` table is straightforward and necessary to retrieve the relevant fields for each match in the `satscores` table.\n",
      "- **Optimization:** Ensuring that both tables have appropriate indexes on the join columns (like `CDSCode` and `cds`) can help improve query performance. Given that an index is already being used in this query plan, it is optimized in terms of how it accesses `satscores`. To further optimize, verify that any necessary indexes exist on the `schools` table columns being filtered or joined on.\n",
      "\n",
      "If you need any further assistance or explanations, feel free to ask!\n"
     ]
    },
    {
     "data": {
      "text/plain": [
       "TaskResult(messages=[TextMessage(source='user', models_usage=None, metadata={}, content=\"Explain the execution plan for 'SELECT s.School, sat.AvgScrMath FROM schools s JOIN satscores sat ON s.CDSCode = sat.cds' on california_schools database\", type='TextMessage'), ToolCallRequestEvent(source='sql_agent', models_usage=RequestUsage(prompt_tokens=0, completion_tokens=0), metadata={}, content=[FunctionCall(id='call_YI8XpVrNPUq2hk8U8qV1WCtG', arguments='{\"sql\":\"SELECT s.School, sat.AvgScrMath FROM schools s JOIN satscores sat ON s.CDSCode = sat.cds\",\"db_id\":\"california_schools\"}', name='explain_query_plan')], type='ToolCallRequestEvent'), ToolCallExecutionEvent(source='sql_agent', models_usage=None, metadata={}, content=[FunctionExecutionResult(content='{\\n  \"sql\": \"SELECT s.School, sat.AvgScrMath FROM schools s JOIN satscores sat ON s.CDSCode = sat.cds\",\\n  \"query_plan\": [\\n    [\\n      4,\\n      0,\\n      0,\\n      \"SCAN s\"\\n    ],\\n    [\\n      6,\\n      0,\\n      0,\\n      \"SEARCH sat USING INDEX sqlite_autoindex_satscores_1 (cds=?)\"\\n    ]\\n  ],\\n  \"analysis\": \"The query plan shows how SQLite will execute this query\"\\n}', name='explain_query_plan', call_id='call_YI8XpVrNPUq2hk8U8qV1WCtG', is_error=False)], type='ToolCallExecutionEvent'), TextMessage(source='sql_agent', models_usage=RequestUsage(prompt_tokens=0, completion_tokens=0), metadata={}, content=\"The execution plan for the query `SELECT s.School, sat.AvgScrMath FROM schools s JOIN satscores sat ON s.CDSCode = sat.cds` is as follows:\\n\\n1. **Step 1: Table Scan**\\n   - **Operation:** `SCAN s`\\n   - **Description:** This indicates a full table scan on the `schools` table. The database engine will read all rows from the `schools` table.\\n\\n2. **Step 2: Indexed Search**\\n   - **Operation:** `SEARCH sat USING INDEX sqlite_autoindex_satscores_1 (cds=?)`\\n   - **Description:** This step involves searching the `satscores` table using an index on the `cds` column. This operation indicates that an index is present, which generally improves the performance of the join by allowing quick lookups based on the `cds` code matching from the `schools` table.\\n\\n**Analysis:**\\n- **Efficiency:** The use of an index on the `satscores` table's `cds` column is beneficial, as it speeds up the join process with the `schools` table by reducing the number of rows that need to be processed. The initial scan on the `schools` table is straightforward and necessary to retrieve the relevant fields for each match in the `satscores` table.\\n- **Optimization:** Ensuring that both tables have appropriate indexes on the join columns (like `CDSCode` and `cds`) can help improve query performance. Given that an index is already being used in this query plan, it is optimized in terms of how it accesses `satscores`. To further optimize, verify that any necessary indexes exist on the `schools` table columns being filtered or joined on.\\n\\nIf you need any further assistance or explanations, feel free to ask!\", type='TextMessage')], stop_reason=None)"
      ]
     },
     "execution_count": 8,
     "metadata": {},
     "output_type": "execute_result"
    }
   ],
   "source": [
    "# Example: Explain query execution plan\n",
    "await Console(sql_agent.run_stream(\n",
    "    task=\"Explain the execution plan for 'SELECT s.School, sat.AvgScrMath FROM schools s JOIN satscores sat ON s.CDSCode = sat.cds' on california_schools database\"\n",
    "))"
   ]
  },
  {
   "cell_type": "code",
   "execution_count": 9,
   "id": "94f7aff4",
   "metadata": {},
   "outputs": [
    {
     "name": "stdout",
     "output_type": "stream",
     "text": [
      "---------- TextMessage (user) ----------\n",
      "Help me fix this query: 'SELECT School FROM schools WHERE AvgScrMath > 500' on california_schools database. It's giving me an error.\n",
      "---------- ModelClientStreamingChunkEvent (sql_agent) ----------\n",
      "The error in your query likely stems from the fact that the `schools` table does not have a column named `AvgScrMath`. The `AvgScrMath` column is likely found in the `satscores` table instead.\n",
      "\n",
      "To correct this, you need to join the `schools` and `satscores` tables on a common key (such as `CDSCode` for `schools` and the equivalent in `satscores`, possibly `cds`). Here's how you can modify the query:\n",
      "\n",
      "```sql\n",
      "SELECT s.School \n",
      "FROM schools s \n",
      "JOIN satscores sat ON s.CDSCode = sat.cds\n",
      "WHERE sat.AvgScrMath > 500\n",
      "```\n",
      "\n",
      "This query will retrieve the school names from the `schools` table where the average math score from the `satscores` table is greater than 500. It assumes that `CDSCode` in the `schools` table corresponds to `cds` in the `satscores` table. Make sure that the column names for joining the tables are correct according to your database schema. If the column names are different, replace them as necessary.\n"
     ]
    },
    {
     "data": {
      "text/plain": [
       "TaskResult(messages=[TextMessage(source='user', models_usage=None, metadata={}, content=\"Help me fix this query: 'SELECT School FROM schools WHERE AvgScrMath > 500' on california_schools database. It's giving me an error.\", type='TextMessage'), TextMessage(source='sql_agent', models_usage=RequestUsage(prompt_tokens=0, completion_tokens=0), metadata={}, content=\"The error in your query likely stems from the fact that the `schools` table does not have a column named `AvgScrMath`. The `AvgScrMath` column is likely found in the `satscores` table instead.\\n\\nTo correct this, you need to join the `schools` and `satscores` tables on a common key (such as `CDSCode` for `schools` and the equivalent in `satscores`, possibly `cds`). Here's how you can modify the query:\\n\\n```sql\\nSELECT s.School \\nFROM schools s \\nJOIN satscores sat ON s.CDSCode = sat.cds\\nWHERE sat.AvgScrMath > 500\\n```\\n\\nThis query will retrieve the school names from the `schools` table where the average math score from the `satscores` table is greater than 500. It assumes that `CDSCode` in the `schools` table corresponds to `cds` in the `satscores` table. Make sure that the column names for joining the tables are correct according to your database schema. If the column names are different, replace them as necessary.\", type='TextMessage')], stop_reason=None)"
      ]
     },
     "execution_count": 9,
     "metadata": {},
     "output_type": "execute_result"
    }
   ],
   "source": [
    "# Example: Debug a syntax error\n",
    "await Console(sql_agent.run_stream(\n",
    "    task=\"Help me fix this query: 'SELECT School FROM schools WHERE AvgScrMath > 500' on california_schools database. It's giving me an error.\"\n",
    "))"
   ]
  },
  {
   "cell_type": "code",
   "execution_count": 10,
   "id": "912cbe36",
   "metadata": {},
   "outputs": [],
   "source": [
    "# Advanced Example: Create a more sophisticated SQL assistant with analysis capabilities\n",
    "\n",
    "class SQLAnalysisAgent(AssistantAgent):\n",
    "    \"\"\"An advanced SQL analysis agent with additional analytical capabilities.\"\"\"\n",
    "    \n",
    "    def __init__(self, sql_executor: SQLExecutor, **kwargs):\n",
    "        self.sql_executor = sql_executor\n",
    "        \n",
    "        # Define advanced analysis functions\n",
    "        async def analyze_table_statistics(table_name: str, db_id: str) -> str:\n",
    "            \"\"\"Analyze statistics for a specific table.\"\"\"\n",
    "            queries = {\n",
    "                \"row_count\": f\"SELECT COUNT(*) as count FROM {table_name}\",\n",
    "                \"null_analysis\": f\"SELECT * FROM {table_name} WHERE 1=0\",  # Get column names\n",
    "            }\n",
    "            \n",
    "            stats = {\"table\": table_name}\n",
    "            \n",
    "            # Get row count\n",
    "            count_result = self.sql_executor.safe_execute(queries[\"row_count\"], db_id)\n",
    "            if count_result['success']:\n",
    "                stats[\"total_rows\"] = count_result['data'][0][0]\n",
    "            \n",
    "            # Get column information\n",
    "            col_result = self.sql_executor.safe_execute(queries[\"null_analysis\"], db_id)\n",
    "            if col_result['success']:\n",
    "                columns = col_result['column_names']\n",
    "                stats[\"column_count\"] = len(columns)\n",
    "                stats[\"columns\"] = columns\n",
    "                \n",
    "                # Analyze NULL values for each column\n",
    "                null_counts = {}\n",
    "                for col in columns[:5]:  # Limit to first 5 columns for performance\n",
    "                    null_query = f\"SELECT COUNT(*) FROM {table_name} WHERE {col} IS NULL\"\n",
    "                    null_result = self.sql_executor.safe_execute(null_query, db_id)\n",
    "                    if null_result['success']:\n",
    "                        null_counts[col] = null_result['data'][0][0]\n",
    "                \n",
    "                stats[\"null_counts\"] = null_counts\n",
    "            \n",
    "            return json.dumps(stats, indent=2)\n",
    "        \n",
    "        async def compare_query_performance(queries: list, db_id: str) -> str:\n",
    "            \"\"\"Compare performance of multiple queries.\"\"\"\n",
    "            import time\n",
    "            \n",
    "            results = []\n",
    "            for sql in queries:\n",
    "                start_time = time.time()\n",
    "                result = self.sql_executor.safe_execute(sql, db_id)\n",
    "                execution_time = time.time() - start_time\n",
    "                \n",
    "                perf_info = {\n",
    "                    \"query\": sql[:100] + \"...\" if len(sql) > 100 else sql,\n",
    "                    \"success\": result['success'],\n",
    "                    \"execution_time_seconds\": round(execution_time, 3),\n",
    "                    \"row_count\": result.get('row_count', 0) if result['success'] else None,\n",
    "                    \"error\": result.get('sqlite_error') if not result['success'] else None\n",
    "                }\n",
    "                results.append(perf_info)\n",
    "            \n",
    "            # Sort by execution time\n",
    "            results.sort(key=lambda x: x['execution_time_seconds'])\n",
    "            \n",
    "            return json.dumps({\n",
    "                \"performance_comparison\": results,\n",
    "                \"fastest_query\": results[0]['query'] if results else None,\n",
    "                \"slowest_query\": results[-1]['query'] if results else None\n",
    "            }, indent=2)\n",
    "        \n",
    "        async def suggest_indexes(table_name: str, db_id: str) -> str:\n",
    "            \"\"\"Suggest potential indexes for a table based on its structure.\"\"\"\n",
    "            # Get table structure\n",
    "            pragma_query = f\"PRAGMA table_info({table_name})\"\n",
    "            result = self.sql_executor.safe_execute(pragma_query, db_id)\n",
    "            \n",
    "            suggestions = []\n",
    "            if result['success']:\n",
    "                columns = result['data']\n",
    "                for col in columns:\n",
    "                    col_name = col[1]\n",
    "                    col_type = col[2]\n",
    "                    \n",
    "                    # Suggest indexes for common patterns\n",
    "                    if col_name.lower().endswith('_id'):\n",
    "                        suggestions.append({\n",
    "                            \"column\": col_name,\n",
    "                            \"reason\": \"Foreign key column - frequently used in JOINs\",\n",
    "                            \"index_sql\": f\"CREATE INDEX idx_{table_name}_{col_name} ON {table_name}({col_name});\"\n",
    "                        })\n",
    "                    elif col_name.lower() in ['created_at', 'updated_at', 'date']:\n",
    "                        suggestions.append({\n",
    "                            \"column\": col_name,\n",
    "                            \"reason\": \"Date column - often used in WHERE clauses for filtering\",\n",
    "                            \"index_sql\": f\"CREATE INDEX idx_{table_name}_{col_name} ON {table_name}({col_name});\"\n",
    "                        })\n",
    "                    elif col_type in ['INTEGER', 'REAL'] and not col_name.lower().endswith('id'):\n",
    "                        suggestions.append({\n",
    "                            \"column\": col_name,\n",
    "                            \"reason\": \"Numeric column - potentially used in range queries\",\n",
    "                            \"index_sql\": f\"CREATE INDEX idx_{table_name}_{col_name} ON {table_name}({col_name});\"\n",
    "                        })\n",
    "            \n",
    "            return json.dumps({\n",
    "                \"table\": table_name,\n",
    "                \"index_suggestions\": suggestions[:3]  # Limit to top 3 suggestions\n",
    "            }, indent=2)\n",
    "        \n",
    "        # Initialize with enhanced tools\n",
    "        super().__init__(\n",
    "            tools=[\n",
    "                execute_query,\n",
    "                validate_query_result,\n",
    "                analyze_table_statistics,\n",
    "                compare_query_performance,\n",
    "                suggest_indexes,\n",
    "                explain_query_plan\n",
    "            ],\n",
    "            system_message=\"\"\"You are an advanced SQL analysis expert that helps users:\n",
    "            - Execute and debug SQL queries\n",
    "            - Analyze table statistics and data quality\n",
    "            - Compare query performance\n",
    "            - Suggest database optimizations and indexes\n",
    "            - Provide insights about query results\n",
    "            \n",
    "            Always provide clear explanations and actionable recommendations.\"\"\",\n",
    "            **kwargs\n",
    "        )\n",
    "\n",
    "# Create the advanced SQL analysis agent\n",
    "sql_analysis_agent = SQLAnalysisAgent(\n",
    "    sql_executor=sql_executor,\n",
    "    name=\"sql_analysis_agent\",\n",
    "    model_client=model_client,\n",
    "    reflect_on_tool_use=True,\n",
    "    model_client_stream=True,\n",
    ")"
   ]
  },
  {
   "cell_type": "code",
   "execution_count": 11,
   "id": "2c0d6fda",
   "metadata": {},
   "outputs": [
    {
     "name": "stdout",
     "output_type": "stream",
     "text": [
      "---------- TextMessage (user) ----------\n",
      "Analyze the statistics for the 'schools' table in california_schools database\n",
      "---------- ToolCallRequestEvent (sql_analysis_agent) ----------\n",
      "[FunctionCall(id='call_NzUfofgJcHFAmV2lDwcfGYRR', arguments='{\"table_name\":\"schools\",\"db_id\":\"california_schools\"}', name='analyze_table_statistics')]\n",
      "---------- ToolCallExecutionEvent (sql_analysis_agent) ----------\n",
      "[FunctionExecutionResult(content='{\\n  \"table\": \"schools\",\\n  \"total_rows\": 17686,\\n  \"column_count\": 49,\\n  \"columns\": [\\n    \"CDSCode\",\\n    \"NCESDist\",\\n    \"NCESSchool\",\\n    \"StatusType\",\\n    \"County\",\\n    \"District\",\\n    \"School\",\\n    \"Street\",\\n    \"StreetAbr\",\\n    \"City\",\\n    \"Zip\",\\n    \"State\",\\n    \"MailStreet\",\\n    \"MailStrAbr\",\\n    \"MailCity\",\\n    \"MailZip\",\\n    \"MailState\",\\n    \"Phone\",\\n    \"Ext\",\\n    \"Website\",\\n    \"OpenDate\",\\n    \"ClosedDate\",\\n    \"Charter\",\\n    \"CharterNum\",\\n    \"FundingType\",\\n    \"DOC\",\\n    \"DOCType\",\\n    \"SOC\",\\n    \"SOCType\",\\n    \"EdOpsCode\",\\n    \"EdOpsName\",\\n    \"EILCode\",\\n    \"EILName\",\\n    \"GSoffered\",\\n    \"GSserved\",\\n    \"Virtual\",\\n    \"Magnet\",\\n    \"Latitude\",\\n    \"Longitude\",\\n    \"AdmFName1\",\\n    \"AdmLName1\",\\n    \"AdmEmail1\",\\n    \"AdmFName2\",\\n    \"AdmLName2\",\\n    \"AdmEmail2\",\\n    \"AdmFName3\",\\n    \"AdmLName3\",\\n    \"AdmEmail3\",\\n    \"LastUpdate\"\\n  ],\\n  \"null_counts\": {\\n    \"CDSCode\": 0,\\n    \"NCESDist\": 1030,\\n    \"NCESSchool\": 5040,\\n    \"StatusType\": 0,\\n    \"County\": 0\\n  }\\n}', name='analyze_table_statistics', call_id='call_NzUfofgJcHFAmV2lDwcfGYRR', is_error=False)]\n",
      "---------- ModelClientStreamingChunkEvent (sql_analysis_agent) ----------\n",
      "The `schools` table in the `california_schools` database contains 17,686 rows and 49 columns. Here are some notable statistics and insights:\n",
      "\n",
      "1. **Key Columns**:\n",
      "   - **`CDSCode`**: This column has no null values, suggesting it could be a primary key or a unique identifier for the schools.\n",
      "   - **`StatusType`**, **`County`**: Also have no null entries, indicating they are crucial for categorizing or identifying schools.\n",
      "\n",
      "2. **Null Values**:\n",
      "   - Columns like **`NCESDist`** and **`NCESSchool`** have a significant number of null values, with 1,030 and 5,040 null entries, respectively. These may represent data that is unavailable or not applicable for some schools.\n",
      "\n",
      "3. **Broad Range of Data**:\n",
      "   - The table includes detailed contact and administrative data, such as **`Phone`**, **`Website`**, and multiple columns for administrative contacts (e.g., **`AdmFName1`, `AdmLName1`,** and **`AdmEmail1`**).\n",
      "\n",
      "4. **Geographical Data**:\n",
      "   - It includes geographical data points such as **`Latitude`** and **`Longitude`**, which can be useful for mapping and spatial analysis.\n",
      "\n",
      "5. **Temporal Data**:\n",
      "   - Fields like **`OpenDate`** and **`ClosedDate`** allow for time-based analysis of school status changes.\n",
      "\n",
      "### Recommendations\n",
      "\n",
      "- **Data Completeness**: Investigate the reasons for null values in key columns like `NCESDist` and `NCESSchool`. Understanding why these are missing could lead to data quality improvements.\n",
      "  \n",
      "- **Indexing**: Consider indexing columns that are frequently used in searches or joins, such as `CDSCode` and `County`, to improve query performance.\n",
      "\n",
      "- **Data Utilization**: The geographical and temporal data available can be used to perform advanced analyses, such as trend analysis over time and spatial distribution mapping of schools.\n",
      "\n",
      "If you have plans to use this data for specific queries or analyses, optimizing for those use cases could be beneficial as well.\n"
     ]
    },
    {
     "data": {
      "text/plain": [
       "TaskResult(messages=[TextMessage(source='user', models_usage=None, metadata={}, content=\"Analyze the statistics for the 'schools' table in california_schools database\", type='TextMessage'), ToolCallRequestEvent(source='sql_analysis_agent', models_usage=RequestUsage(prompt_tokens=0, completion_tokens=0), metadata={}, content=[FunctionCall(id='call_NzUfofgJcHFAmV2lDwcfGYRR', arguments='{\"table_name\":\"schools\",\"db_id\":\"california_schools\"}', name='analyze_table_statistics')], type='ToolCallRequestEvent'), ToolCallExecutionEvent(source='sql_analysis_agent', models_usage=None, metadata={}, content=[FunctionExecutionResult(content='{\\n  \"table\": \"schools\",\\n  \"total_rows\": 17686,\\n  \"column_count\": 49,\\n  \"columns\": [\\n    \"CDSCode\",\\n    \"NCESDist\",\\n    \"NCESSchool\",\\n    \"StatusType\",\\n    \"County\",\\n    \"District\",\\n    \"School\",\\n    \"Street\",\\n    \"StreetAbr\",\\n    \"City\",\\n    \"Zip\",\\n    \"State\",\\n    \"MailStreet\",\\n    \"MailStrAbr\",\\n    \"MailCity\",\\n    \"MailZip\",\\n    \"MailState\",\\n    \"Phone\",\\n    \"Ext\",\\n    \"Website\",\\n    \"OpenDate\",\\n    \"ClosedDate\",\\n    \"Charter\",\\n    \"CharterNum\",\\n    \"FundingType\",\\n    \"DOC\",\\n    \"DOCType\",\\n    \"SOC\",\\n    \"SOCType\",\\n    \"EdOpsCode\",\\n    \"EdOpsName\",\\n    \"EILCode\",\\n    \"EILName\",\\n    \"GSoffered\",\\n    \"GSserved\",\\n    \"Virtual\",\\n    \"Magnet\",\\n    \"Latitude\",\\n    \"Longitude\",\\n    \"AdmFName1\",\\n    \"AdmLName1\",\\n    \"AdmEmail1\",\\n    \"AdmFName2\",\\n    \"AdmLName2\",\\n    \"AdmEmail2\",\\n    \"AdmFName3\",\\n    \"AdmLName3\",\\n    \"AdmEmail3\",\\n    \"LastUpdate\"\\n  ],\\n  \"null_counts\": {\\n    \"CDSCode\": 0,\\n    \"NCESDist\": 1030,\\n    \"NCESSchool\": 5040,\\n    \"StatusType\": 0,\\n    \"County\": 0\\n  }\\n}', name='analyze_table_statistics', call_id='call_NzUfofgJcHFAmV2lDwcfGYRR', is_error=False)], type='ToolCallExecutionEvent'), TextMessage(source='sql_analysis_agent', models_usage=RequestUsage(prompt_tokens=0, completion_tokens=0), metadata={}, content='The `schools` table in the `california_schools` database contains 17,686 rows and 49 columns. Here are some notable statistics and insights:\\n\\n1. **Key Columns**:\\n   - **`CDSCode`**: This column has no null values, suggesting it could be a primary key or a unique identifier for the schools.\\n   - **`StatusType`**, **`County`**: Also have no null entries, indicating they are crucial for categorizing or identifying schools.\\n\\n2. **Null Values**:\\n   - Columns like **`NCESDist`** and **`NCESSchool`** have a significant number of null values, with 1,030 and 5,040 null entries, respectively. These may represent data that is unavailable or not applicable for some schools.\\n\\n3. **Broad Range of Data**:\\n   - The table includes detailed contact and administrative data, such as **`Phone`**, **`Website`**, and multiple columns for administrative contacts (e.g., **`AdmFName1`, `AdmLName1`,** and **`AdmEmail1`**).\\n\\n4. **Geographical Data**:\\n   - It includes geographical data points such as **`Latitude`** and **`Longitude`**, which can be useful for mapping and spatial analysis.\\n\\n5. **Temporal Data**:\\n   - Fields like **`OpenDate`** and **`ClosedDate`** allow for time-based analysis of school status changes.\\n\\n### Recommendations\\n\\n- **Data Completeness**: Investigate the reasons for null values in key columns like `NCESDist` and `NCESSchool`. Understanding why these are missing could lead to data quality improvements.\\n  \\n- **Indexing**: Consider indexing columns that are frequently used in searches or joins, such as `CDSCode` and `County`, to improve query performance.\\n\\n- **Data Utilization**: The geographical and temporal data available can be used to perform advanced analyses, such as trend analysis over time and spatial distribution mapping of schools.\\n\\nIf you have plans to use this data for specific queries or analyses, optimizing for those use cases could be beneficial as well.', type='TextMessage')], stop_reason=None)"
      ]
     },
     "execution_count": 11,
     "metadata": {},
     "output_type": "execute_result"
    }
   ],
   "source": [
    "# Test advanced agent: Analyze table statistics\n",
    "await Console(sql_analysis_agent.run_stream(\n",
    "    task=\"Analyze the statistics for the 'schools' table in california_schools database\"\n",
    "))"
   ]
  },
  {
   "cell_type": "code",
   "execution_count": 12,
   "id": "61841769",
   "metadata": {},
   "outputs": [
    {
     "name": "stdout",
     "output_type": "stream",
     "text": [
      "---------- TextMessage (user) ----------\n",
      "Compare the performance of these queries on california_schools database: ['SELECT COUNT(*) FROM schools', \"SELECT * FROM schools WHERE County = 'Los Angeles'\", 'SELECT s.School, sat.AvgScrMath FROM schools s JOIN satscores sat ON s.CDSCode = sat.cds']\n",
      "---------- ToolCallRequestEvent (sql_analysis_agent) ----------\n",
      "[FunctionCall(id='call_npn0Clak1boVvomA91VyqMXe', arguments='{\"queries\":[\"SELECT COUNT(*) FROM schools\",\"SELECT * FROM schools WHERE County = \\'Los Angeles\\'\",\"SELECT s.School, sat.AvgScrMath FROM schools s JOIN satscores sat ON s.CDSCode = sat.cds\"],\"db_id\":\"california_schools\"}', name='compare_query_performance')]\n",
      "---------- ToolCallExecutionEvent (sql_analysis_agent) ----------\n",
      "[FunctionExecutionResult(content='{\\n  \"performance_comparison\": [\\n    {\\n      \"query\": \"SELECT COUNT(*) FROM schools\",\\n      \"success\": true,\\n      \"execution_time_seconds\": 0.001,\\n      \"row_count\": 1,\\n      \"error\": null\\n    },\\n    {\\n      \"query\": \"SELECT s.School, sat.AvgScrMath FROM schools s JOIN satscores sat ON s.CDSCode = sat.cds\",\\n      \"success\": true,\\n      \"execution_time_seconds\": 0.004,\\n      \"row_count\": 2058,\\n      \"error\": null\\n    },\\n    {\\n      \"query\": \"SELECT * FROM schools WHERE County = \\'Los Angeles\\'\",\\n      \"success\": true,\\n      \"execution_time_seconds\": 0.046,\\n      \"row_count\": 3636,\\n      \"error\": null\\n    }\\n  ],\\n  \"fastest_query\": \"SELECT COUNT(*) FROM schools\",\\n  \"slowest_query\": \"SELECT * FROM schools WHERE County = \\'Los Angeles\\'\"\\n}', name='compare_query_performance', call_id='call_npn0Clak1boVvomA91VyqMXe', is_error=False)]\n",
      "---------- ModelClientStreamingChunkEvent (sql_analysis_agent) ----------\n",
      "Here's a comparison of the performance for the queries run on the `california_schools` database:\n",
      "\n",
      "1. **Query 1**: `SELECT COUNT(*) FROM schools`\n",
      "   - **Execution Time**: 0.001 seconds\n",
      "   - **Row Count**: 1\n",
      "   - **Performance**: This is the fastest query. Count queries are generally quick, especially when there's an index or when no complex calculations are involved.\n",
      "\n",
      "2. **Query 2**: `SELECT * FROM schools WHERE County = 'Los Angeles'`\n",
      "   - **Execution Time**: 0.046 seconds\n",
      "   - **Row Count**: 3,636\n",
      "   - **Performance**: This is the slowest query due to retrieving a large subset of rows based on a non-indexed attribute. Adding an index on `County` could improve performance significantly.\n",
      "\n",
      "3. **Query 3**: `SELECT s.School, sat.AvgScrMath FROM schools s JOIN satscores sat ON s.CDSCode = sat.cds`\n",
      "   - **Execution Time**: 0.004 seconds\n",
      "   - **Row Count**: 2,058\n",
      "   - **Performance**: Moderate performance with a simple join; Ensure `CDSCode` and related fields are indexed in their respective tables for optimal performance during joins.\n",
      "\n",
      "### Recommendations\n",
      "\n",
      "- **Index `County`**: As query 2 is the slowest, consider indexing the `County` column to enhance performance of queries that filter or search by this field.\n",
      "  \n",
      "- **Join Performance**: Ensure that the join fields (`CDSCode` and its equivalent in `satscores`) are indexed, which should already be in place if they're primary keys.\n",
      "\n",
      "- **Overall Optimization**: Regularly check and update statistics on the tables to help the query optimizer choose the best execution plans.\n",
      "\n",
      "By implementing these indexing strategies, you should see an overall improvement in query performance, particularly for those targeting specific columns or involving joins.\n"
     ]
    },
    {
     "data": {
      "text/plain": [
       "TaskResult(messages=[TextMessage(source='user', models_usage=None, metadata={}, content='Compare the performance of these queries on california_schools database: [\\'SELECT COUNT(*) FROM schools\\', \"SELECT * FROM schools WHERE County = \\'Los Angeles\\'\", \\'SELECT s.School, sat.AvgScrMath FROM schools s JOIN satscores sat ON s.CDSCode = sat.cds\\']', type='TextMessage'), ToolCallRequestEvent(source='sql_analysis_agent', models_usage=RequestUsage(prompt_tokens=0, completion_tokens=0), metadata={}, content=[FunctionCall(id='call_npn0Clak1boVvomA91VyqMXe', arguments='{\"queries\":[\"SELECT COUNT(*) FROM schools\",\"SELECT * FROM schools WHERE County = \\'Los Angeles\\'\",\"SELECT s.School, sat.AvgScrMath FROM schools s JOIN satscores sat ON s.CDSCode = sat.cds\"],\"db_id\":\"california_schools\"}', name='compare_query_performance')], type='ToolCallRequestEvent'), ToolCallExecutionEvent(source='sql_analysis_agent', models_usage=None, metadata={}, content=[FunctionExecutionResult(content='{\\n  \"performance_comparison\": [\\n    {\\n      \"query\": \"SELECT COUNT(*) FROM schools\",\\n      \"success\": true,\\n      \"execution_time_seconds\": 0.001,\\n      \"row_count\": 1,\\n      \"error\": null\\n    },\\n    {\\n      \"query\": \"SELECT s.School, sat.AvgScrMath FROM schools s JOIN satscores sat ON s.CDSCode = sat.cds\",\\n      \"success\": true,\\n      \"execution_time_seconds\": 0.004,\\n      \"row_count\": 2058,\\n      \"error\": null\\n    },\\n    {\\n      \"query\": \"SELECT * FROM schools WHERE County = \\'Los Angeles\\'\",\\n      \"success\": true,\\n      \"execution_time_seconds\": 0.046,\\n      \"row_count\": 3636,\\n      \"error\": null\\n    }\\n  ],\\n  \"fastest_query\": \"SELECT COUNT(*) FROM schools\",\\n  \"slowest_query\": \"SELECT * FROM schools WHERE County = \\'Los Angeles\\'\"\\n}', name='compare_query_performance', call_id='call_npn0Clak1boVvomA91VyqMXe', is_error=False)], type='ToolCallExecutionEvent'), TextMessage(source='sql_analysis_agent', models_usage=RequestUsage(prompt_tokens=0, completion_tokens=0), metadata={}, content=\"Here's a comparison of the performance for the queries run on the `california_schools` database:\\n\\n1. **Query 1**: `SELECT COUNT(*) FROM schools`\\n   - **Execution Time**: 0.001 seconds\\n   - **Row Count**: 1\\n   - **Performance**: This is the fastest query. Count queries are generally quick, especially when there's an index or when no complex calculations are involved.\\n\\n2. **Query 2**: `SELECT * FROM schools WHERE County = 'Los Angeles'`\\n   - **Execution Time**: 0.046 seconds\\n   - **Row Count**: 3,636\\n   - **Performance**: This is the slowest query due to retrieving a large subset of rows based on a non-indexed attribute. Adding an index on `County` could improve performance significantly.\\n\\n3. **Query 3**: `SELECT s.School, sat.AvgScrMath FROM schools s JOIN satscores sat ON s.CDSCode = sat.cds`\\n   - **Execution Time**: 0.004 seconds\\n   - **Row Count**: 2,058\\n   - **Performance**: Moderate performance with a simple join; Ensure `CDSCode` and related fields are indexed in their respective tables for optimal performance during joins.\\n\\n### Recommendations\\n\\n- **Index `County`**: As query 2 is the slowest, consider indexing the `County` column to enhance performance of queries that filter or search by this field.\\n  \\n- **Join Performance**: Ensure that the join fields (`CDSCode` and its equivalent in `satscores`) are indexed, which should already be in place if they're primary keys.\\n\\n- **Overall Optimization**: Regularly check and update statistics on the tables to help the query optimizer choose the best execution plans.\\n\\nBy implementing these indexing strategies, you should see an overall improvement in query performance, particularly for those targeting specific columns or involving joins.\", type='TextMessage')], stop_reason=None)"
      ]
     },
     "execution_count": 12,
     "metadata": {},
     "output_type": "execute_result"
    }
   ],
   "source": [
    "# Test advanced agent: Compare query performance\n",
    "performance_queries = [\n",
    "    \"SELECT COUNT(*) FROM schools\",\n",
    "    \"SELECT * FROM schools WHERE County = 'Los Angeles'\",\n",
    "    \"SELECT s.School, sat.AvgScrMath FROM schools s JOIN satscores sat ON s.CDSCode = sat.cds\"\n",
    "]\n",
    "\n",
    "await Console(sql_analysis_agent.run_stream(\n",
    "    task=f\"Compare the performance of these queries on california_schools database: {performance_queries}\"\n",
    "))"
   ]
  },
  {
   "cell_type": "code",
   "execution_count": 13,
   "id": "bcad6347",
   "metadata": {},
   "outputs": [
    {
     "name": "stdout",
     "output_type": "stream",
     "text": [
      "---------- TextMessage (user) ----------\n",
      "Suggest indexes for the 'satscores' table in california_schools database\n",
      "---------- ToolCallRequestEvent (sql_analysis_agent) ----------\n",
      "[FunctionCall(id='call_DCnrEJHYEUZc3uZURDKhoTur', arguments='{\"table_name\":\"satscores\",\"db_id\":\"california_schools\"}', name='suggest_indexes')]\n",
      "---------- ToolCallExecutionEvent (sql_analysis_agent) ----------\n",
      "[FunctionExecutionResult(content='{\\n  \"table\": \"satscores\",\\n  \"index_suggestions\": []\\n}', name='suggest_indexes', call_id='call_DCnrEJHYEUZc3uZURDKhoTur', is_error=False)]\n",
      "---------- ModelClientStreamingChunkEvent (sql_analysis_agent) ----------\n",
      "Currently, there are no specific index suggestions automatically generated for the `satscores` table in the `california_schools` database. However, here are some general recommendations for considering index creation:\n",
      "\n",
      "1. **Join Columns**: If `satscores` is regularly joined with `schools` using a `cds` (or similar) column, as referenced in the previous query, ensure this column is indexed. This will enhance the performance of join operations significantly.\n",
      "\n",
      "2. **Frequent Filter Columns**: If the `satscores` table often runs queries with WHERE clauses filtering on certain columns (e.g., `Year`, `Subject`), consider indexing these columns. This optimization is particularly useful for range queries and equality checks.\n",
      "\n",
      "3. **Unique Constraints**: If there's any column or combination of columns that form a unique key, adding a unique index can prevent duplicate entries and potentially speed up lookups involving these columns.\n",
      "\n",
      "4. **Composite Indexes**: For queries frequently filtering on multiple columns, consider composite indexes on those columns. For example, if you often query by both `cds` and `Year`, a composite index on both could be beneficial.\n",
      "\n",
      "Even though there are no direct suggestions listed, leveraging these strategies based on your query patterns can help make informed decisions for index creation that match your specific data usage requirements. If specific query patterns or performance issues are known, I can help refine these suggestions further.\n"
     ]
    },
    {
     "data": {
      "text/plain": [
       "TaskResult(messages=[TextMessage(source='user', models_usage=None, metadata={}, content=\"Suggest indexes for the 'satscores' table in california_schools database\", type='TextMessage'), ToolCallRequestEvent(source='sql_analysis_agent', models_usage=RequestUsage(prompt_tokens=0, completion_tokens=0), metadata={}, content=[FunctionCall(id='call_DCnrEJHYEUZc3uZURDKhoTur', arguments='{\"table_name\":\"satscores\",\"db_id\":\"california_schools\"}', name='suggest_indexes')], type='ToolCallRequestEvent'), ToolCallExecutionEvent(source='sql_analysis_agent', models_usage=None, metadata={}, content=[FunctionExecutionResult(content='{\\n  \"table\": \"satscores\",\\n  \"index_suggestions\": []\\n}', name='suggest_indexes', call_id='call_DCnrEJHYEUZc3uZURDKhoTur', is_error=False)], type='ToolCallExecutionEvent'), TextMessage(source='sql_analysis_agent', models_usage=RequestUsage(prompt_tokens=0, completion_tokens=0), metadata={}, content=\"Currently, there are no specific index suggestions automatically generated for the `satscores` table in the `california_schools` database. However, here are some general recommendations for considering index creation:\\n\\n1. **Join Columns**: If `satscores` is regularly joined with `schools` using a `cds` (or similar) column, as referenced in the previous query, ensure this column is indexed. This will enhance the performance of join operations significantly.\\n\\n2. **Frequent Filter Columns**: If the `satscores` table often runs queries with WHERE clauses filtering on certain columns (e.g., `Year`, `Subject`), consider indexing these columns. This optimization is particularly useful for range queries and equality checks.\\n\\n3. **Unique Constraints**: If there's any column or combination of columns that form a unique key, adding a unique index can prevent duplicate entries and potentially speed up lookups involving these columns.\\n\\n4. **Composite Indexes**: For queries frequently filtering on multiple columns, consider composite indexes on those columns. For example, if you often query by both `cds` and `Year`, a composite index on both could be beneficial.\\n\\nEven though there are no direct suggestions listed, leveraging these strategies based on your query patterns can help make informed decisions for index creation that match your specific data usage requirements. If specific query patterns or performance issues are known, I can help refine these suggestions further.\", type='TextMessage')], stop_reason=None)"
      ]
     },
     "execution_count": 13,
     "metadata": {},
     "output_type": "execute_result"
    }
   ],
   "source": [
    "# Test advanced agent: Suggest indexes\n",
    "await Console(sql_analysis_agent.run_stream(\n",
    "    task=\"Suggest indexes for the 'satscores' table in california_schools database\"\n",
    "))"
   ]
  },
  {
   "cell_type": "code",
   "execution_count": 14,
   "id": "5d5cc9ce",
   "metadata": {},
   "outputs": [],
   "source": [
    "# Close the model client\n",
    "await model_client.close()"
   ]
  },
  {
   "cell_type": "code",
   "execution_count": null,
   "id": "5f55a0b3-17ce-4d03-9e10-f906c896c04b",
   "metadata": {},
   "outputs": [],
   "source": []
  }
 ],
 "metadata": {
  "kernelspec": {
   "display_name": "Python 3 (ipykernel)",
   "language": "python",
   "name": "python3"
  },
  "language_info": {
   "codemirror_mode": {
    "name": "ipython",
    "version": 3
   },
   "file_extension": ".py",
   "mimetype": "text/x-python",
   "name": "python",
   "nbconvert_exporter": "python",
   "pygments_lexer": "ipython3",
   "version": "3.12.9"
  }
 },
 "nbformat": 4,
 "nbformat_minor": 5
}
